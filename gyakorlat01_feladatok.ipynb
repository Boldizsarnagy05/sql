{
    "metadata": {
        "kernelspec": {
            "name": "SQL",
            "display_name": "SQL",
            "language": "sql"
        },
        "language_info": {
            "name": "sql",
            "version": ""
        },
        "extensions": {
            "azuredatastudio": {
                "version": 1,
                "views": []
            }
        }
    },
    "nbformat_minor": 2,
    "nbformat": 4,
    "cells": [
        {
            "cell_type": "markdown",
            "source": [
                "1. Listázzuk a <span style=\"color: #800000;\">`kolcsonzes`</span> tábla következő oszlopait: ID, ki\\_datum, vissza\\_datum! \n",
                "\n",
                "  \n",
                "\n",
                "a.  Az ID oszlop neve legyen Azonosító\n",
                "\n",
                "b.  A ki\\_datum oszlop neve legyen Kölcsönzés\\_dátuma\n",
                "\n",
                "c.  A vissza\\_datum oszlop neve legyen Visszahozatal\\_dátuma"
            ],
            "metadata": {
                "azdata_cell_guid": "77f2d5b3-38e9-41cc-893f-f5afd02b97ef"
            },
            "attachments": {}
        },
        {
            "cell_type": "code",
            "source": [
                "SELECT ID as Azonosító,\r\n",
                "    ki_datum as Kölcsönzés_dátuma,\r\n",
                "    vissza_datum as Visszahozatal_dátuma\r\n",
                "FROM kolcsonzesek"
            ],
            "metadata": {
                "azdata_cell_guid": "bd3cef1a-4e6e-4ece-9dc3-aaa9d2b5d66d",
                "language": "sql"
            },
            "outputs": [],
            "execution_count": null
        },
        {
            "cell_type": "markdown",
            "source": [
                "2. Melyek azok a kölcsönzések, amelyek 2005.01.01 és 2007.01.01 között történtek?"
            ],
            "metadata": {
                "azdata_cell_guid": "88f5b4bb-f4c1-4bad-a0c7-b2592687b422"
            },
            "attachments": {}
        },
        {
            "cell_type": "code",
            "source": [
                "SELECT *\r\n",
                "FROM kolcsonzesek\r\n",
                "WHERE ki_datum BETWEEN '2005.01.01' AND '2007.01.01'"
            ],
            "metadata": {
                "azdata_cell_guid": "e9de5726-f036-4fb9-8c33-a873955ed886",
                "language": "sql"
            },
            "outputs": [],
            "execution_count": null
        },
        {
            "cell_type": "markdown",
            "source": [
                "3. Melyek azok a tagok, akiknek kedvenc stílusa a játék, és nevük a-ra végződik?\n",
                "\n",
                "  \n",
                "\n",
                "a.  Csak a tagok neve jelenjen meg, az oszlop neve Név legyen"
            ],
            "metadata": {
                "azdata_cell_guid": "9e7249de-1b59-43d8-84b1-26fa7d81fc5a"
            },
            "attachments": {}
        },
        {
            "cell_type": "code",
            "source": [
                "SELECT nev as \"Név\"\r\n",
                "FROM tagok\r\n",
                "Where kedvencstilus = 'játék' and (nev like '%a %' or nev like '%a')"
            ],
            "metadata": {
                "azdata_cell_guid": "6405d3e8-a9b1-45d7-aa76-3b1e785ef6cc",
                "language": "sql",
                "tags": []
            },
            "outputs": [],
            "execution_count": null
        },
        {
            "cell_type": "markdown",
            "source": [
                "4. Listázzuk egy oszlopban a tagok nevét, címét és kedvenc stílusát összefűzve! \n",
                "\n",
                "  \n",
                "\n",
                "a.  A nevet, címet és a stílust kötőjellel válasszuk el\n",
                "\n",
                "b.  A kötőjelek előtt és után legyen 1-1 szóköz\n",
                "\n",
                "c.  Az oszlop neve legyen TAG\n",
                "\n",
                "d.  Kinga keresztnevű tagok ne legyenek benne a listában"
            ],
            "metadata": {
                "azdata_cell_guid": "6478e469-c094-472c-a772-ccd5b5c61516"
            },
            "attachments": {}
        },
        {
            "cell_type": "code",
            "source": [
                "select concat(nev,' - ', cim,' - ',kedvencstilus) as TAG\r\n",
                "from tagok\r\n",
                "Where nev not like '%Kinga'"
            ],
            "metadata": {
                "azdata_cell_guid": "02031ea2-3838-458d-839c-228e3b362b61",
                "language": "sql"
            },
            "outputs": [],
            "execution_count": null
        },
        {
            "cell_type": "markdown",
            "source": [
                "5. Mennyi lenne a dvd-k nettó ára, ha 20%-kal csökkenne? \n",
                "\n",
                "  \n",
                "\n",
                "a.  Csak a dvd-k címét és a csökkentett árat jelenítsük meg\n",
                "\n",
                "b.  A csökkentett árat nevezzük el diszkont\\_ar-nak"
            ],
            "metadata": {
                "azdata_cell_guid": "9edbbaf9-c276-4898-9a01-e1b2993c089f"
            },
            "attachments": {}
        },
        {
            "cell_type": "code",
            "source": [
                "SELECT cim, round(nettoar*0.8, 2) as diszkont_ar\r\n",
                "FROM dvd\r\n",
                ""
            ],
            "metadata": {
                "azdata_cell_guid": "5ad5fdcb-2878-4111-861a-833bcd50e935",
                "language": "sql"
            },
            "outputs": [],
            "execution_count": null
        },
        {
            "cell_type": "markdown",
            "source": [
                "6. Melyek azok a kölcsönzések, ahol még nem hozták vissza a dvd-t?"
            ],
            "metadata": {
                "azdata_cell_guid": "5fe65c1c-2479-45ac-ad03-ec99d12eae21"
            },
            "attachments": {}
        },
        {
            "cell_type": "code",
            "source": [
                "SELECT *\r\n",
                "FROM kolcsonzesek\r\n",
                "where vissza_datum is null"
            ],
            "metadata": {
                "azdata_cell_guid": "924f2dde-f1c2-4def-a7f9-dbf4bace7735",
                "language": "sql",
                "tags": []
            },
            "outputs": [
                {
                    "output_type": "display_data",
                    "data": {
                        "text/html": "(3 rows affected)"
                    },
                    "metadata": {}
                },
                {
                    "output_type": "display_data",
                    "data": {
                        "text/html": "Total execution time: 00:00:00.003"
                    },
                    "metadata": {}
                },
                {
                    "output_type": "execute_result",
                    "metadata": {},
                    "execution_count": 55,
                    "data": {
                        "application/vnd.dataresource+json": {
                            "schema": {
                                "fields": [
                                    {
                                        "name": "ID"
                                    },
                                    {
                                        "name": "ki"
                                    },
                                    {
                                        "name": "mit"
                                    },
                                    {
                                        "name": "ki_datum"
                                    },
                                    {
                                        "name": "vissza_datum"
                                    }
                                ]
                            },
                            "data": [
                                {
                                    "ID": "10",
                                    "ki": "3",
                                    "mit": "5",
                                    "ki_datum": "2003-12-11",
                                    "vissza_datum": "NULL"
                                },
                                {
                                    "ID": "11",
                                    "ki": "4",
                                    "mit": "2",
                                    "ki_datum": "2003-12-11",
                                    "vissza_datum": "NULL"
                                },
                                {
                                    "ID": "12",
                                    "ki": "5",
                                    "mit": "6",
                                    "ki_datum": "2003-12-11",
                                    "vissza_datum": "NULL"
                                }
                            ]
                        },
                        "text/html": [
                            "<table>",
                            "<tr><th>ID</th><th>ki</th><th>mit</th><th>ki_datum</th><th>vissza_datum</th></tr>",
                            "<tr><td>10</td><td>3</td><td>5</td><td>2003-12-11</td><td>NULL</td></tr>",
                            "<tr><td>11</td><td>4</td><td>2</td><td>2003-12-11</td><td>NULL</td></tr>",
                            "<tr><td>12</td><td>5</td><td>6</td><td>2003-12-11</td><td>NULL</td></tr>",
                            "</table>"
                        ]
                    }
                }
            ],
            "execution_count": 55
        },
        {
            "cell_type": "markdown",
            "source": [
                "7. Listázzuk azon diákok nevét és születési idejét, akik 1984-ben vagy 1985-ben születtek!  \n",
                "\n",
                "  \n",
                "\n",
                "a.  A születési dátum csak az évet, hónapot és a napot tartalmazza! \n",
                "\n",
                "b.  A születési dátum oszlopát nevezzük el 'Születési idő'-nek!"
            ],
            "metadata": {
                "azdata_cell_guid": "3aeb6bf5-b111-40d5-92b2-9712ce335696"
            },
            "attachments": {}
        },
        {
            "cell_type": "code",
            "source": [
                "SELECT Nev, Szulido\r\n",
                "FROM diak\r\n",
                "WHERE year(Szulido) BETWEEN 1984 and 1985"
            ],
            "metadata": {
                "azdata_cell_guid": "3e89b651-f56f-4102-af52-30eb2bbe360d",
                "language": "sql"
            },
            "outputs": [
                {
                    "output_type": "display_data",
                    "data": {
                        "text/html": "(3 rows affected)"
                    },
                    "metadata": {}
                },
                {
                    "output_type": "display_data",
                    "data": {
                        "text/html": "Total execution time: 00:00:00.005"
                    },
                    "metadata": {}
                },
                {
                    "output_type": "execute_result",
                    "metadata": {},
                    "execution_count": 60,
                    "data": {
                        "application/vnd.dataresource+json": {
                            "schema": {
                                "fields": [
                                    {
                                        "name": "Nev"
                                    },
                                    {
                                        "name": "Szulido"
                                    }
                                ]
                            },
                            "data": [
                                {
                                    "Nev": "Kovács Imre",
                                    "Szulido": "1984-03-02 00:00:00.000"
                                },
                                {
                                    "Nev": "Kapos Petra",
                                    "Szulido": "1985-12-23 00:00:00.000"
                                },
                                {
                                    "Nev": "Koppány Olga",
                                    "Szulido": "1984-02-28 00:00:00.000"
                                }
                            ]
                        },
                        "text/html": [
                            "<table>",
                            "<tr><th>Nev</th><th>Szulido</th></tr>",
                            "<tr><td>Kovács Imre</td><td>1984-03-02 00:00:00.000</td></tr>",
                            "<tr><td>Kapos Petra</td><td>1985-12-23 00:00:00.000</td></tr>",
                            "<tr><td>Koppány Olga</td><td>1984-02-28 00:00:00.000</td></tr>",
                            "</table>"
                        ]
                    }
                }
            ],
            "execution_count": 60
        },
        {
            "cell_type": "markdown",
            "source": [
                "8. Készítsünk lekérdezést, amely a tanulók nevét és az ebből képzett felhasználói nevét tartalmazza. \n",
                "\n",
                "  \n",
                "\n",
                "a.  A felhasználói név álljon a név első kettő, illetve utolsó kettő betűjének összefűzéséből!\n",
                "\n",
                "b.  A listát szűrjük azon tanulókra, akik teljes neve - szóközzel együtt - legalább 10 betűs!"
            ],
            "metadata": {
                "azdata_cell_guid": "26a504dc-ff6a-439f-94c0-4580eca3eacf"
            },
            "attachments": {}
        },
        {
            "cell_type": "code",
            "source": [
                "SELECT Nev, CONCAT(LEFT(Nev, 2), RIGHT(Nev, 2))\r\n",
                "FROM diak\r\n",
                "where len(nev) >= 10"
            ],
            "metadata": {
                "azdata_cell_guid": "1cbb8aeb-78b5-4350-aa45-e3202fdab85b",
                "language": "sql"
            },
            "outputs": [
                {
                    "output_type": "display_data",
                    "data": {
                        "text/html": "(8 rows affected)"
                    },
                    "metadata": {}
                },
                {
                    "output_type": "display_data",
                    "data": {
                        "text/html": "Total execution time: 00:00:00.005"
                    },
                    "metadata": {}
                },
                {
                    "output_type": "execute_result",
                    "metadata": {},
                    "execution_count": 66,
                    "data": {
                        "application/vnd.dataresource+json": {
                            "schema": {
                                "fields": [
                                    {
                                        "name": "Nev"
                                    },
                                    {
                                        "name": "(No column name)"
                                    }
                                ]
                            },
                            "data": [
                                {
                                    "Nev": "Kovács Imre",
                                    "(No column name)": "Kore"
                                },
                                {
                                    "Nev": "Horváth Emil",
                                    "(No column name)": "Hoil"
                                },
                                {
                                    "Nev": "Kapos Petra",
                                    "(No column name)": "Kara"
                                },
                                {
                                    "Nev": "Csóka Anna",
                                    "(No column name)": "Csna"
                                },
                                {
                                    "Nev": "Nyúl Tamás",
                                    "(No column name)": "Nyás"
                                },
                                {
                                    "Nev": "Ordasi Emma",
                                    "(No column name)": "Orma"
                                },
                                {
                                    "Nev": "Koppány Olga",
                                    "(No column name)": "Koga"
                                },
                                {
                                    "Nev": "Kozma Patrícia",
                                    "(No column name)": "Koia"
                                }
                            ]
                        },
                        "text/html": [
                            "<table>",
                            "<tr><th>Nev</th><th>(No column name)</th></tr>",
                            "<tr><td>Kovács Imre</td><td>Kore</td></tr>",
                            "<tr><td>Horváth Emil</td><td>Hoil</td></tr>",
                            "<tr><td>Kapos Petra</td><td>Kara</td></tr>",
                            "<tr><td>Csóka Anna</td><td>Csna</td></tr>",
                            "<tr><td>Nyúl Tamás</td><td>Nyás</td></tr>",
                            "<tr><td>Ordasi Emma</td><td>Orma</td></tr>",
                            "<tr><td>Koppány Olga</td><td>Koga</td></tr>",
                            "<tr><td>Kozma Patrícia</td><td>Koia</td></tr>",
                            "</table>"
                        ]
                    }
                }
            ],
            "execution_count": 66
        },
        {
            "cell_type": "markdown",
            "source": [
                "9. Készítsünk listát a diákok adatairól, ahol a diákok neve úgy jelenik meg, hogy először a keresztnév, majd a vezetéknév, közöttük szóközzel!  \n",
                "\n",
                "a.  Ezen felül a születési idő három külön oszlopban jelenjen meg (év, hónap, nap). \n",
                "\n",
                "b.  Az oszlopokat nevezzük el értelemszerűen!"
            ],
            "metadata": {
                "azdata_cell_guid": "435e2860-2dd5-4877-90f4-34a43baeb53c"
            },
            "attachments": {}
        },
        {
            "cell_type": "code",
            "source": [
                "SELECT concat(right(nev,len(nev)-CHARINDEX(' ', Nev)),' ',Left(nev,CHARINDEX(' ', Nev)))\r\n",
                "FROM diak"
            ],
            "metadata": {
                "azdata_cell_guid": "ce846351-ddbe-4d8e-b8fb-2a92c73ac80b",
                "language": "sql"
            },
            "outputs": [
                {
                    "output_type": "display_data",
                    "data": {
                        "text/html": "(10 rows affected)"
                    },
                    "metadata": {}
                },
                {
                    "output_type": "display_data",
                    "data": {
                        "text/html": "Total execution time: 00:00:00.006"
                    },
                    "metadata": {}
                },
                {
                    "output_type": "execute_result",
                    "metadata": {},
                    "execution_count": 72,
                    "data": {
                        "application/vnd.dataresource+json": {
                            "schema": {
                                "fields": [
                                    {
                                        "name": "(No column name)"
                                    }
                                ]
                            },
                            "data": [
                                {
                                    "(No column name)": "Péter Kos "
                                },
                                {
                                    "(No column name)": "Imre Port "
                                },
                                {
                                    "(No column name)": "Imre Kovács "
                                },
                                {
                                    "(No column name)": "Emil Horváth "
                                },
                                {
                                    "(No column name)": "Petra Kapos "
                                },
                                {
                                    "(No column name)": "Anna Csóka "
                                },
                                {
                                    "(No column name)": "Tamás Nyúl "
                                },
                                {
                                    "(No column name)": "Emma Ordasi "
                                },
                                {
                                    "(No column name)": "Olga Koppány "
                                },
                                {
                                    "(No column name)": "Patrícia Kozma "
                                }
                            ]
                        },
                        "text/html": [
                            "<table>",
                            "<tr><th>(No column name)</th></tr>",
                            "<tr><td>Péter Kos </td></tr>",
                            "<tr><td>Imre Port </td></tr>",
                            "<tr><td>Imre Kovács </td></tr>",
                            "<tr><td>Emil Horváth </td></tr>",
                            "<tr><td>Petra Kapos </td></tr>",
                            "<tr><td>Anna Csóka </td></tr>",
                            "<tr><td>Tamás Nyúl </td></tr>",
                            "<tr><td>Emma Ordasi </td></tr>",
                            "<tr><td>Olga Koppány </td></tr>",
                            "<tr><td>Patrícia Kozma </td></tr>",
                            "</table>"
                        ]
                    }
                }
            ],
            "execution_count": 72
        },
        {
            "cell_type": "markdown",
            "source": [
                "10. Készítsünk listát a munkák azonosítójáról és megnevezéséről! Egy új oszlopban azt is jelenítsük meg, hogy melyik munka hetente mennyit fizet! \n",
                "\n",
                "a.  Az oszlop neve legyen Heti bér, az értéket kerekítsük 1000 forintra! \n",
                "\n",
                "b.  A listát szűrjük azon rekordokra, ahol a kerekített heti bér 10000 Ft felett van!"
            ],
            "metadata": {
                "azdata_cell_guid": "217c5772-afe2-4a7c-b913-e3a3e09d6411"
            },
            "attachments": {}
        },
        {
            "cell_type": "code",
            "source": [
                "SELECT munkaID, allas, round(oradij*oraszam*5, -3) as 'Heti bér'\r\n",
                "FROM munka\r\n",
                "where round(oradij*oraszam*5, -3)> 10000"
            ],
            "metadata": {
                "azdata_cell_guid": "a9cc0926-3dbd-4ed8-8179-1c39d64a0762",
                "language": "sql",
                "tags": []
            },
            "outputs": [
                {
                    "output_type": "display_data",
                    "data": {
                        "text/html": "(7 rows affected)"
                    },
                    "metadata": {}
                },
                {
                    "output_type": "display_data",
                    "data": {
                        "text/html": "Total execution time: 00:00:00.006"
                    },
                    "metadata": {}
                },
                {
                    "output_type": "execute_result",
                    "metadata": {},
                    "execution_count": 76,
                    "data": {
                        "application/vnd.dataresource+json": {
                            "schema": {
                                "fields": [
                                    {
                                        "name": "munkaID"
                                    },
                                    {
                                        "name": "allas"
                                    },
                                    {
                                        "name": "Heti bér"
                                    }
                                ]
                            },
                            "data": [
                                {
                                    "munkaID": "5",
                                    "allas": "kézbesítő",
                                    "Heti bér": "14000"
                                },
                                {
                                    "munkaID": "7",
                                    "allas": "eladó",
                                    "Heti bér": "12000"
                                },
                                {
                                    "munkaID": "16",
                                    "allas": "pincér",
                                    "Heti bér": "14000"
                                },
                                {
                                    "munkaID": "17",
                                    "allas": "pincér",
                                    "Heti bér": "14000"
                                },
                                {
                                    "munkaID": "20",
                                    "allas": "takarító",
                                    "Heti bér": "11000"
                                },
                                {
                                    "munkaID": "21",
                                    "allas": "takarító",
                                    "Heti bér": "11000"
                                },
                                {
                                    "munkaID": "41",
                                    "allas": "eladó",
                                    "Heti bér": "12000"
                                }
                            ]
                        },
                        "text/html": [
                            "<table>",
                            "<tr><th>munkaID</th><th>allas</th><th>Heti bér</th></tr>",
                            "<tr><td>5</td><td>kézbesítő</td><td>14000</td></tr>",
                            "<tr><td>7</td><td>eladó</td><td>12000</td></tr>",
                            "<tr><td>16</td><td>pincér</td><td>14000</td></tr>",
                            "<tr><td>17</td><td>pincér</td><td>14000</td></tr>",
                            "<tr><td>20</td><td>takarító</td><td>11000</td></tr>",
                            "<tr><td>21</td><td>takarító</td><td>11000</td></tr>",
                            "<tr><td>41</td><td>eladó</td><td>12000</td></tr>",
                            "</table>"
                        ]
                    }
                }
            ],
            "execution_count": 76
        },
        {
            "cell_type": "markdown",
            "source": [
                "11. A diákok számára differenciált béremelést terveznek: a középiskolások esetében 33%, egyéb esetben 17% mértékben. Készítsünk listát, amely tartalmazza a munkák azonosítóját, az állás nevét, az eredeti óradíjat és a tervezett emelt óradíjat.\n",
                "\n",
                "  \n",
                "\n",
                "a.  Az oszlopoknak adjuk nevet értelemszerűen!\n",
                "\n",
                "b.  Az emelt óradíj összegét kerekítsük egészre! (Az esetlegesen megjelenő 0 tizedesjegyekkel ne foglalkozzunk)"
            ],
            "metadata": {
                "azdata_cell_guid": "d2340f5f-1614-473c-b937-85740d67f7c1"
            },
            "attachments": {}
        },
        {
            "cell_type": "code",
            "source": [
                "SELECT munkaID, allas, oradij,\r\n",
                "(CASE\r\n",
                "WHEN kozepiskolas = 0 THEN round(oradij*1.17, 0)\r\n",
                "ELSE round(oradij*1.33, 0)\r\n",
                "END) as emelt_dij\r\n",
                "FROM munka"
            ],
            "metadata": {
                "azdata_cell_guid": "e99c2c53-898f-4787-b0e6-182d106dc16f",
                "language": "sql"
            },
            "outputs": [
                {
                    "output_type": "display_data",
                    "data": {
                        "text/html": "(41 rows affected)"
                    },
                    "metadata": {}
                },
                {
                    "output_type": "display_data",
                    "data": {
                        "text/html": "Total execution time: 00:00:00.011"
                    },
                    "metadata": {}
                },
                {
                    "output_type": "execute_result",
                    "metadata": {},
                    "execution_count": 79,
                    "data": {
                        "application/vnd.dataresource+json": {
                            "schema": {
                                "fields": [
                                    {
                                        "name": "munkaID"
                                    },
                                    {
                                        "name": "allas"
                                    },
                                    {
                                        "name": "oradij"
                                    },
                                    {
                                        "name": "emelt_dij"
                                    }
                                ]
                            },
                            "data": [
                                {
                                    "munkaID": "1",
                                    "allas": "kézbesítő",
                                    "oradij": "400",
                                    "emelt_dij": "468.00"
                                },
                                {
                                    "munkaID": "2",
                                    "allas": "ügyfélszolgálati munkatárs",
                                    "oradij": "300",
                                    "emelt_dij": "351.00"
                                },
                                {
                                    "munkaID": "3",
                                    "allas": "kisegítő",
                                    "oradij": "500",
                                    "emelt_dij": "665.00"
                                },
                                {
                                    "munkaID": "4",
                                    "allas": "eladó",
                                    "oradij": "350",
                                    "emelt_dij": "410.00"
                                },
                                {
                                    "munkaID": "5",
                                    "allas": "kézbesítő",
                                    "oradij": "450",
                                    "emelt_dij": "527.00"
                                },
                                {
                                    "munkaID": "6",
                                    "allas": "futár",
                                    "oradij": "300",
                                    "emelt_dij": "399.00"
                                },
                                {
                                    "munkaID": "7",
                                    "allas": "eladó",
                                    "oradij": "400",
                                    "emelt_dij": "468.00"
                                },
                                {
                                    "munkaID": "8",
                                    "allas": "kisegítő",
                                    "oradij": "300",
                                    "emelt_dij": "351.00"
                                },
                                {
                                    "munkaID": "9",
                                    "allas": "takarító",
                                    "oradij": "400",
                                    "emelt_dij": "468.00"
                                },
                                {
                                    "munkaID": "10",
                                    "allas": "takarító",
                                    "oradij": "400",
                                    "emelt_dij": "468.00"
                                },
                                {
                                    "munkaID": "11",
                                    "allas": "kisegítő",
                                    "oradij": "300",
                                    "emelt_dij": "399.00"
                                },
                                {
                                    "munkaID": "12",
                                    "allas": "kisegítő",
                                    "oradij": "300",
                                    "emelt_dij": "399.00"
                                },
                                {
                                    "munkaID": "13",
                                    "allas": "takarító",
                                    "oradij": "400",
                                    "emelt_dij": "468.00"
                                },
                                {
                                    "munkaID": "14",
                                    "allas": "ruhatáros",
                                    "oradij": "400",
                                    "emelt_dij": "468.00"
                                },
                                {
                                    "munkaID": "15",
                                    "allas": "ruhatáros",
                                    "oradij": "400",
                                    "emelt_dij": "468.00"
                                },
                                {
                                    "munkaID": "16",
                                    "allas": "pincér",
                                    "oradij": "450",
                                    "emelt_dij": "527.00"
                                },
                                {
                                    "munkaID": "17",
                                    "allas": "pincér",
                                    "oradij": "450",
                                    "emelt_dij": "527.00"
                                },
                                {
                                    "munkaID": "18",
                                    "allas": "eladó",
                                    "oradij": "500",
                                    "emelt_dij": "585.00"
                                },
                                {
                                    "munkaID": "19",
                                    "allas": "eladó",
                                    "oradij": "500",
                                    "emelt_dij": "585.00"
                                },
                                {
                                    "munkaID": "20",
                                    "allas": "takarító",
                                    "oradij": "350",
                                    "emelt_dij": "466.00"
                                },
                                {
                                    "munkaID": "21",
                                    "allas": "takarító",
                                    "oradij": "350",
                                    "emelt_dij": "466.00"
                                },
                                {
                                    "munkaID": "22",
                                    "allas": "eladó",
                                    "oradij": "400",
                                    "emelt_dij": "468.00"
                                },
                                {
                                    "munkaID": "23",
                                    "allas": "raktáros",
                                    "oradij": "300",
                                    "emelt_dij": "351.00"
                                },
                                {
                                    "munkaID": "24",
                                    "allas": "eladó",
                                    "oradij": "300",
                                    "emelt_dij": "351.00"
                                },
                                {
                                    "munkaID": "25",
                                    "allas": "takarító",
                                    "oradij": "250",
                                    "emelt_dij": "333.00"
                                },
                                {
                                    "munkaID": "26",
                                    "allas": "takarító",
                                    "oradij": "250",
                                    "emelt_dij": "333.00"
                                },
                                {
                                    "munkaID": "27",
                                    "allas": "takarító",
                                    "oradij": "300",
                                    "emelt_dij": "399.00"
                                },
                                {
                                    "munkaID": "28",
                                    "allas": "takarító",
                                    "oradij": "300",
                                    "emelt_dij": "399.00"
                                },
                                {
                                    "munkaID": "29",
                                    "allas": "eladó",
                                    "oradij": "300",
                                    "emelt_dij": "399.00"
                                },
                                {
                                    "munkaID": "30",
                                    "allas": "eladó",
                                    "oradij": "300",
                                    "emelt_dij": "399.00"
                                },
                                {
                                    "munkaID": "31",
                                    "allas": "ruhatáros",
                                    "oradij": "200",
                                    "emelt_dij": "266.00"
                                },
                                {
                                    "munkaID": "32",
                                    "allas": "ruhatáros",
                                    "oradij": "200",
                                    "emelt_dij": "266.00"
                                },
                                {
                                    "munkaID": "33",
                                    "allas": "ruhatáros",
                                    "oradij": "200",
                                    "emelt_dij": "266.00"
                                },
                                {
                                    "munkaID": "34",
                                    "allas": "ruhatáros",
                                    "oradij": "200",
                                    "emelt_dij": "266.00"
                                },
                                {
                                    "munkaID": "35",
                                    "allas": "raktáros",
                                    "oradij": "300",
                                    "emelt_dij": "351.00"
                                },
                                {
                                    "munkaID": "36",
                                    "allas": "raktáros",
                                    "oradij": "300",
                                    "emelt_dij": "351.00"
                                },
                                {
                                    "munkaID": "37",
                                    "allas": "raktáros",
                                    "oradij": "300",
                                    "emelt_dij": "351.00"
                                },
                                {
                                    "munkaID": "38",
                                    "allas": "eladó",
                                    "oradij": "400",
                                    "emelt_dij": "468.00"
                                },
                                {
                                    "munkaID": "39",
                                    "allas": "eladó",
                                    "oradij": "400",
                                    "emelt_dij": "468.00"
                                },
                                {
                                    "munkaID": "40",
                                    "allas": "eladó",
                                    "oradij": "400",
                                    "emelt_dij": "468.00"
                                },
                                {
                                    "munkaID": "41",
                                    "allas": "eladó",
                                    "oradij": "400",
                                    "emelt_dij": "468.00"
                                }
                            ]
                        },
                        "text/html": [
                            "<table>",
                            "<tr><th>munkaID</th><th>allas</th><th>oradij</th><th>emelt_dij</th></tr>",
                            "<tr><td>1</td><td>kézbesítő</td><td>400</td><td>468.00</td></tr>",
                            "<tr><td>2</td><td>ügyfélszolgálati munkatárs</td><td>300</td><td>351.00</td></tr>",
                            "<tr><td>3</td><td>kisegítő</td><td>500</td><td>665.00</td></tr>",
                            "<tr><td>4</td><td>eladó</td><td>350</td><td>410.00</td></tr>",
                            "<tr><td>5</td><td>kézbesítő</td><td>450</td><td>527.00</td></tr>",
                            "<tr><td>6</td><td>futár</td><td>300</td><td>399.00</td></tr>",
                            "<tr><td>7</td><td>eladó</td><td>400</td><td>468.00</td></tr>",
                            "<tr><td>8</td><td>kisegítő</td><td>300</td><td>351.00</td></tr>",
                            "<tr><td>9</td><td>takarító</td><td>400</td><td>468.00</td></tr>",
                            "<tr><td>10</td><td>takarító</td><td>400</td><td>468.00</td></tr>",
                            "<tr><td>11</td><td>kisegítő</td><td>300</td><td>399.00</td></tr>",
                            "<tr><td>12</td><td>kisegítő</td><td>300</td><td>399.00</td></tr>",
                            "<tr><td>13</td><td>takarító</td><td>400</td><td>468.00</td></tr>",
                            "<tr><td>14</td><td>ruhatáros</td><td>400</td><td>468.00</td></tr>",
                            "<tr><td>15</td><td>ruhatáros</td><td>400</td><td>468.00</td></tr>",
                            "<tr><td>16</td><td>pincér</td><td>450</td><td>527.00</td></tr>",
                            "<tr><td>17</td><td>pincér</td><td>450</td><td>527.00</td></tr>",
                            "<tr><td>18</td><td>eladó</td><td>500</td><td>585.00</td></tr>",
                            "<tr><td>19</td><td>eladó</td><td>500</td><td>585.00</td></tr>",
                            "<tr><td>20</td><td>takarító</td><td>350</td><td>466.00</td></tr>",
                            "<tr><td>21</td><td>takarító</td><td>350</td><td>466.00</td></tr>",
                            "<tr><td>22</td><td>eladó</td><td>400</td><td>468.00</td></tr>",
                            "<tr><td>23</td><td>raktáros</td><td>300</td><td>351.00</td></tr>",
                            "<tr><td>24</td><td>eladó</td><td>300</td><td>351.00</td></tr>",
                            "<tr><td>25</td><td>takarító</td><td>250</td><td>333.00</td></tr>",
                            "<tr><td>26</td><td>takarító</td><td>250</td><td>333.00</td></tr>",
                            "<tr><td>27</td><td>takarító</td><td>300</td><td>399.00</td></tr>",
                            "<tr><td>28</td><td>takarító</td><td>300</td><td>399.00</td></tr>",
                            "<tr><td>29</td><td>eladó</td><td>300</td><td>399.00</td></tr>",
                            "<tr><td>30</td><td>eladó</td><td>300</td><td>399.00</td></tr>",
                            "<tr><td>31</td><td>ruhatáros</td><td>200</td><td>266.00</td></tr>",
                            "<tr><td>32</td><td>ruhatáros</td><td>200</td><td>266.00</td></tr>",
                            "<tr><td>33</td><td>ruhatáros</td><td>200</td><td>266.00</td></tr>",
                            "<tr><td>34</td><td>ruhatáros</td><td>200</td><td>266.00</td></tr>",
                            "<tr><td>35</td><td>raktáros</td><td>300</td><td>351.00</td></tr>",
                            "<tr><td>36</td><td>raktáros</td><td>300</td><td>351.00</td></tr>",
                            "<tr><td>37</td><td>raktáros</td><td>300</td><td>351.00</td></tr>",
                            "<tr><td>38</td><td>eladó</td><td>400</td><td>468.00</td></tr>",
                            "<tr><td>39</td><td>eladó</td><td>400</td><td>468.00</td></tr>",
                            "<tr><td>40</td><td>eladó</td><td>400</td><td>468.00</td></tr>",
                            "<tr><td>41</td><td>eladó</td><td>400</td><td>468.00</td></tr>",
                            "</table>"
                        ]
                    }
                }
            ],
            "execution_count": 79
        },
        {
            "cell_type": "markdown",
            "source": [
                "12. A diákok számára próbaidőt írnak elő, amely a munka kezdetétől számítva 3 hónapig tart.    Jelenítsük meg a munka tábla adatait egy új oszloppal kiegészítve, amelyik a próbaidő    végének dátumát mutatja!  \n",
                "\n",
                "  \n",
                "\n",
                "a.  Az oszlop neve Próbaidő vége legyen! \n",
                "\n",
                "b.  A lista ne tartalmazza azokat a munkákat, ahol a diákok azonosítója nincs megadva!"
            ],
            "metadata": {
                "azdata_cell_guid": "a765e9d6-58b3-4171-872a-78f3118fd6e3"
            },
            "attachments": {}
        },
        {
            "cell_type": "code",
            "source": [
                ""
            ],
            "metadata": {
                "azdata_cell_guid": "422e8127-b652-4d3a-bfd7-9b1637b5781e",
                "language": "sql"
            },
            "outputs": [],
            "execution_count": null
        },
        {
            "cell_type": "markdown",
            "source": [
                "13. Készítsünk listát a munkák azonosítóiról és a megnevezésükről! A megnevezés allas-óraszám formában jelenjen meg, pl: eladó-4. \n",
                "\n",
                "  \n",
                "\n",
                "a.  Jelenítsük meg a dátumot is, de csak a évet és a hónapot, pl: 2003-07! \n",
                "\n",
                "b.  Ennek az oszlopnak 'Kezdés hónapja' legyen a neve! A listát szűrjük a nyári hónapokra!"
            ],
            "metadata": {
                "azdata_cell_guid": "3f9237ae-f109-401c-acb9-31d75e73331b"
            },
            "attachments": {}
        },
        {
            "cell_type": "code",
            "source": [
                ""
            ],
            "metadata": {
                "azdata_cell_guid": "4b31bb89-cfbc-46b1-8639-85c462877786",
                "language": "sql"
            },
            "outputs": [],
            "execution_count": null
        },
        {
            "cell_type": "markdown",
            "source": [
                "14. Készítsünk listát a diákok adatairól, amely a Nev oszlop helyén a diák monogramját jeleníti meg (keresztnév, illetve vezetéknév első betűje összefűzve). \n",
                "\n",
                "a.  A listát szűrjük 1983.01.01 és 1987.06.01 között született diákokra!"
            ],
            "metadata": {
                "azdata_cell_guid": "f634e09a-85ef-4e70-8ec6-ef355dfddaa7"
            },
            "attachments": {}
        },
        {
            "cell_type": "code",
            "source": [
                ""
            ],
            "metadata": {
                "azdata_cell_guid": "88abc55b-2c78-495b-a72f-3f8f4eb5fe70",
                "language": "sql"
            },
            "outputs": [],
            "execution_count": null
        },
        {
            "cell_type": "markdown",
            "source": [
                "15. A diákok a munkakezdés évének utolsó napján bónuszt kapnak, amennyiben az adott évben legalább 6 hónapot dolgoznak. \n",
                "\n",
                "  \n",
                "\n",
                "a.  Jelenítsük meg, hogy az egyes munkák adatait, egy új oszlopban az éves bónusz napját is 'Bónusz dátum' néven! \n",
                "\n",
                "b.  A lista csak a bónuszra jogosultak adatait tartalmazza!"
            ],
            "metadata": {
                "azdata_cell_guid": "4cbf2f0d-a65d-480a-8186-ccdb24498443"
            },
            "attachments": {}
        },
        {
            "cell_type": "code",
            "source": [
                ""
            ],
            "metadata": {
                "azdata_cell_guid": "c148aee8-bc85-40bf-b80a-a4898a6c05cb",
                "language": "sql"
            },
            "outputs": [],
            "execution_count": null
        }
    ]
}