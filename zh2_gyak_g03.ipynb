{
    "metadata": {
        "kernelspec": {
            "name": "SQL",
            "display_name": "SQL",
            "language": "sql"
        },
        "language_info": {
            "name": "sql",
            "version": ""
        }
    },
    "nbformat_minor": 2,
    "nbformat": 4,
    "cells": [
        {
            "cell_type": "markdown",
            "source": [
                "1\\. feladat"
            ],
            "metadata": {
                "azdata_cell_guid": "b6d11165-ab11-4dee-ad0b-4aa09836121f"
            },
            "attachments": {}
        },
        {
            "cell_type": "code",
            "source": [
                "SELECT \r\n",
                "sz.SZOBA_ID as 'Azonosíto',\r\n",
                "sz.FEROHELY as 'Férőhelyek száma',\r\n",
                "DENSE_RANK() OVER (ORDER BY COUNT(f.FOGLALAS_PK) DESC, sz.FEROHELY) AS 'Helyezés'\r\n",
                "FROM Szoba sz\r\n",
                "LEFT JOIN Foglalas f ON sz.SZOBA_ID = f.SZOBA_FK\r\n",
                "GROUP BY sz.SZOBA_ID, sz.FEROHELY\r\n",
                ""
            ],
            "metadata": {
                "azdata_cell_guid": "71c145fb-47c3-4f54-846b-b93094866d8d",
                "language": "sql"
            },
            "outputs": [
                {
                    "output_type": "display_data",
                    "data": {
                        "text/html": "(294 rows affected)"
                    },
                    "metadata": {}
                },
                {
                    "output_type": "display_data",
                    "data": {
                        "text/html": "Total execution time: 00:00:00.010"
                    },
                    "metadata": {}
                },
                {
                    "output_type": "execute_result",
                    "metadata": {},
                    "execution_count": 2,
                    "data": {
                        "application/vnd.dataresource+json": {
                            "schema": {
                                "fields": [
                                    {
                                        "name": "Azonosíto"
                                    },
                                    {
                                        "name": "Férőhelyek száma"
                                    },
                                    {
                                        "name": "Helyezés"
                                    }
                                ]
                            },
                            "data": [
                                {
                                    "Azonosíto": "58",
                                    "Férőhelyek száma": "2",
                                    "Helyezés": "1"
                                },
                                {
                                    "Azonosíto": "182",
                                    "Férőhelyek száma": "2",
                                    "Helyezés": "2"
                                },
                                {
                                    "Azonosíto": "185",
                                    "Férőhelyek száma": "3",
                                    "Helyezés": "3"
                                },
                                {
                                    "Azonosíto": "70",
                                    "Férőhelyek száma": "2",
                                    "Helyezés": "4"
                                },
                                {
                                    "Azonosíto": "94",
                                    "Férőhelyek száma": "2",
                                    "Helyezés": "5"
                                },
                                {
                                    "Azonosíto": "12",
                                    "Férőhelyek száma": "2",
                                    "Helyezés": "6"
                                },
                                {
                                    "Azonosíto": "172",
                                    "Férőhelyek száma": "2",
                                    "Helyezés": "6"
                                },
                                {
                                    "Azonosíto": "35",
                                    "Férőhelyek száma": "3",
                                    "Helyezés": "7"
                                },
                                {
                                    "Azonosíto": "48",
                                    "Férőhelyek száma": "3",
                                    "Helyezés": "7"
                                },
                                {
                                    "Azonosíto": "74",
                                    "Férőhelyek száma": "3",
                                    "Helyezés": "7"
                                },
                                {
                                    "Azonosíto": "122",
                                    "Férőhelyek száma": "3",
                                    "Helyezés": "7"
                                },
                                {
                                    "Azonosíto": "121",
                                    "Férőhelyek száma": "2",
                                    "Helyezés": "8"
                                },
                                {
                                    "Azonosíto": "140",
                                    "Férőhelyek száma": "2",
                                    "Helyezés": "8"
                                },
                                {
                                    "Azonosíto": "110",
                                    "Férőhelyek száma": "2",
                                    "Helyezés": "8"
                                },
                                {
                                    "Azonosíto": "55",
                                    "Férőhelyek száma": "2",
                                    "Helyezés": "8"
                                },
                                {
                                    "Azonosíto": "38",
                                    "Férőhelyek száma": "2",
                                    "Helyezés": "8"
                                },
                                {
                                    "Azonosíto": "1",
                                    "Férőhelyek száma": "3",
                                    "Helyezés": "9"
                                },
                                {
                                    "Azonosíto": "3",
                                    "Férőhelyek száma": "3",
                                    "Helyezés": "9"
                                },
                                {
                                    "Azonosíto": "43",
                                    "Férőhelyek száma": "3",
                                    "Helyezés": "9"
                                },
                                {
                                    "Azonosíto": "83",
                                    "Férőhelyek száma": "3",
                                    "Helyezés": "9"
                                },
                                {
                                    "Azonosíto": "88",
                                    "Férőhelyek száma": "3",
                                    "Helyezés": "9"
                                },
                                {
                                    "Azonosíto": "89",
                                    "Férőhelyek száma": "3",
                                    "Helyezés": "9"
                                },
                                {
                                    "Azonosíto": "117",
                                    "Férőhelyek száma": "3",
                                    "Helyezés": "9"
                                },
                                {
                                    "Azonosíto": "198",
                                    "Férőhelyek száma": "3",
                                    "Helyezés": "9"
                                },
                                {
                                    "Azonosíto": "165",
                                    "Férőhelyek száma": "2",
                                    "Helyezés": "10"
                                },
                                {
                                    "Azonosíto": "149",
                                    "Férőhelyek száma": "2",
                                    "Helyezés": "10"
                                },
                                {
                                    "Azonosíto": "156",
                                    "Férőhelyek száma": "2",
                                    "Helyezés": "10"
                                },
                                {
                                    "Azonosíto": "163",
                                    "Férőhelyek száma": "2",
                                    "Helyezés": "10"
                                },
                                {
                                    "Azonosíto": "118",
                                    "Férőhelyek száma": "2",
                                    "Helyezés": "10"
                                },
                                {
                                    "Azonosíto": "109",
                                    "Férőhelyek száma": "2",
                                    "Helyezés": "10"
                                },
                                {
                                    "Azonosíto": "127",
                                    "Férőhelyek száma": "2",
                                    "Helyezés": "10"
                                },
                                {
                                    "Azonosíto": "139",
                                    "Férőhelyek száma": "2",
                                    "Helyezés": "10"
                                },
                                {
                                    "Azonosíto": "80",
                                    "Férőhelyek száma": "2",
                                    "Helyezés": "10"
                                },
                                {
                                    "Azonosíto": "59",
                                    "Férőhelyek száma": "2",
                                    "Helyezés": "10"
                                },
                                {
                                    "Azonosíto": "39",
                                    "Férőhelyek száma": "2",
                                    "Helyezés": "10"
                                },
                                {
                                    "Azonosíto": "27",
                                    "Férőhelyek száma": "3",
                                    "Helyezés": "11"
                                },
                                {
                                    "Azonosíto": "49",
                                    "Férőhelyek száma": "3",
                                    "Helyezés": "11"
                                },
                                {
                                    "Azonosíto": "96",
                                    "Férőhelyek száma": "3",
                                    "Helyezés": "11"
                                },
                                {
                                    "Azonosíto": "97",
                                    "Férőhelyek száma": "3",
                                    "Helyezés": "11"
                                },
                                {
                                    "Azonosíto": "138",
                                    "Férőhelyek száma": "3",
                                    "Helyezés": "11"
                                },
                                {
                                    "Azonosíto": "143",
                                    "Férőhelyek száma": "3",
                                    "Helyezés": "11"
                                },
                                {
                                    "Azonosíto": "115",
                                    "Férőhelyek száma": "3",
                                    "Helyezés": "11"
                                },
                                {
                                    "Azonosíto": "193",
                                    "Férőhelyek száma": "3",
                                    "Helyezés": "11"
                                },
                                {
                                    "Azonosíto": "187",
                                    "Férőhelyek száma": "3",
                                    "Helyezés": "11"
                                },
                                {
                                    "Azonosíto": "195",
                                    "Férőhelyek száma": "2",
                                    "Helyezés": "12"
                                },
                                {
                                    "Azonosíto": "161",
                                    "Férőhelyek száma": "2",
                                    "Helyezés": "12"
                                },
                                {
                                    "Azonosíto": "150",
                                    "Férőhelyek száma": "2",
                                    "Helyezés": "12"
                                },
                                {
                                    "Azonosíto": "148",
                                    "Férőhelyek száma": "2",
                                    "Helyezés": "12"
                                },
                                {
                                    "Azonosíto": "169",
                                    "Férőhelyek száma": "2",
                                    "Helyezés": "12"
                                },
                                {
                                    "Azonosíto": "106",
                                    "Férőhelyek száma": "2",
                                    "Helyezés": "12"
                                },
                                {
                                    "Azonosíto": "126",
                                    "Férőhelyek száma": "2",
                                    "Helyezés": "12"
                                },
                                {
                                    "Azonosíto": "145",
                                    "Férőhelyek száma": "2",
                                    "Helyezés": "12"
                                },
                                {
                                    "Azonosíto": "141",
                                    "Férőhelyek száma": "2",
                                    "Helyezés": "12"
                                },
                                {
                                    "Azonosíto": "130",
                                    "Férőhelyek száma": "2",
                                    "Helyezés": "12"
                                },
                                {
                                    "Azonosíto": "137",
                                    "Férőhelyek száma": "2",
                                    "Helyezés": "12"
                                },
                                {
                                    "Azonosíto": "78",
                                    "Férőhelyek száma": "2",
                                    "Helyezés": "12"
                                },
                                {
                                    "Azonosíto": "42",
                                    "Férőhelyek száma": "2",
                                    "Helyezés": "12"
                                },
                                {
                                    "Azonosíto": "64",
                                    "Férőhelyek száma": "2",
                                    "Helyezés": "12"
                                },
                                {
                                    "Azonosíto": "67",
                                    "Férőhelyek száma": "2",
                                    "Helyezés": "12"
                                },
                                {
                                    "Azonosíto": "28",
                                    "Férőhelyek száma": "2",
                                    "Helyezés": "12"
                                },
                                {
                                    "Azonosíto": "29",
                                    "Férőhelyek száma": "2",
                                    "Helyezés": "12"
                                },
                                {
                                    "Azonosíto": "19",
                                    "Férőhelyek száma": "2",
                                    "Helyezés": "12"
                                },
                                {
                                    "Azonosíto": "33",
                                    "Férőhelyek száma": "2",
                                    "Helyezés": "12"
                                },
                                {
                                    "Azonosíto": "4",
                                    "Férőhelyek száma": "2",
                                    "Helyezés": "12"
                                },
                                {
                                    "Azonosíto": "7",
                                    "Férőhelyek száma": "2",
                                    "Helyezés": "12"
                                },
                                {
                                    "Azonosíto": "15",
                                    "Férőhelyek száma": "2",
                                    "Helyezés": "12"
                                },
                                {
                                    "Azonosíto": "17",
                                    "Férőhelyek száma": "3",
                                    "Helyezés": "13"
                                },
                                {
                                    "Azonosíto": "18",
                                    "Férőhelyek száma": "3",
                                    "Helyezés": "13"
                                },
                                {
                                    "Azonosíto": "6",
                                    "Férőhelyek száma": "3",
                                    "Helyezés": "13"
                                },
                                {
                                    "Azonosíto": "9",
                                    "Férőhelyek száma": "3",
                                    "Helyezés": "13"
                                },
                                {
                                    "Azonosíto": "22",
                                    "Férőhelyek száma": "3",
                                    "Helyezés": "13"
                                },
                                {
                                    "Azonosíto": "36",
                                    "Férőhelyek száma": "3",
                                    "Helyezés": "13"
                                },
                                {
                                    "Azonosíto": "44",
                                    "Férőhelyek száma": "3",
                                    "Helyezés": "13"
                                },
                                {
                                    "Azonosíto": "54",
                                    "Férőhelyek száma": "3",
                                    "Helyezés": "13"
                                },
                                {
                                    "Azonosíto": "77",
                                    "Férőhelyek száma": "3",
                                    "Helyezés": "13"
                                },
                                {
                                    "Azonosíto": "82",
                                    "Férőhelyek száma": "3",
                                    "Helyezés": "13"
                                },
                                {
                                    "Azonosíto": "92",
                                    "Férőhelyek száma": "3",
                                    "Helyezés": "13"
                                },
                                {
                                    "Azonosíto": "132",
                                    "Férőhelyek száma": "3",
                                    "Helyezés": "13"
                                },
                                {
                                    "Azonosíto": "133",
                                    "Férőhelyek száma": "3",
                                    "Helyezés": "13"
                                },
                                {
                                    "Azonosíto": "134",
                                    "Férőhelyek száma": "3",
                                    "Helyezés": "13"
                                },
                                {
                                    "Azonosíto": "146",
                                    "Férőhelyek száma": "3",
                                    "Helyezés": "13"
                                },
                                {
                                    "Azonosíto": "124",
                                    "Férőhelyek száma": "3",
                                    "Helyezés": "13"
                                },
                                {
                                    "Azonosíto": "120",
                                    "Férőhelyek száma": "3",
                                    "Helyezés": "13"
                                },
                                {
                                    "Azonosíto": "181",
                                    "Férőhelyek száma": "3",
                                    "Helyezés": "13"
                                },
                                {
                                    "Azonosíto": "176",
                                    "Férőhelyek száma": "3",
                                    "Helyezés": "13"
                                },
                                {
                                    "Azonosíto": "197",
                                    "Férőhelyek száma": "3",
                                    "Helyezés": "13"
                                },
                                {
                                    "Azonosíto": "188",
                                    "Férőhelyek száma": "3",
                                    "Helyezés": "13"
                                },
                                {
                                    "Azonosíto": "189",
                                    "Férőhelyek száma": "2",
                                    "Helyezés": "14"
                                },
                                {
                                    "Azonosíto": "190",
                                    "Férőhelyek száma": "2",
                                    "Helyezés": "14"
                                },
                                {
                                    "Azonosíto": "191",
                                    "Férőhelyek száma": "2",
                                    "Helyezés": "14"
                                },
                                {
                                    "Azonosíto": "170",
                                    "Férőhelyek száma": "2",
                                    "Helyezés": "14"
                                },
                                {
                                    "Azonosíto": "171",
                                    "Férőhelyek száma": "2",
                                    "Helyezés": "14"
                                },
                                {
                                    "Azonosíto": "168",
                                    "Férőhelyek száma": "2",
                                    "Helyezés": "14"
                                },
                                {
                                    "Azonosíto": "175",
                                    "Férőhelyek száma": "2",
                                    "Helyezés": "14"
                                },
                                {
                                    "Azonosíto": "157",
                                    "Férőhelyek száma": "2",
                                    "Helyezés": "14"
                                },
                                {
                                    "Azonosíto": "164",
                                    "Férőhelyek száma": "2",
                                    "Helyezés": "14"
                                },
                                {
                                    "Azonosíto": "154",
                                    "Férőhelyek száma": "2",
                                    "Helyezés": "14"
                                },
                                {
                                    "Azonosíto": "119",
                                    "Férőhelyek száma": "2",
                                    "Helyezés": "14"
                                },
                                {
                                    "Azonosíto": "107",
                                    "Férőhelyek száma": "2",
                                    "Helyezés": "14"
                                },
                                {
                                    "Azonosíto": "128",
                                    "Férőhelyek száma": "2",
                                    "Helyezés": "14"
                                },
                                {
                                    "Azonosíto": "131",
                                    "Férőhelyek száma": "2",
                                    "Helyezés": "14"
                                },
                                {
                                    "Azonosíto": "99",
                                    "Férőhelyek száma": "2",
                                    "Helyezés": "14"
                                },
                                {
                                    "Azonosíto": "111",
                                    "Férőhelyek száma": "2",
                                    "Helyezés": "14"
                                },
                                {
                                    "Azonosíto": "81",
                                    "Férőhelyek száma": "2",
                                    "Helyezés": "14"
                                },
                                {
                                    "Azonosíto": "86",
                                    "Férőhelyek száma": "2",
                                    "Helyezés": "14"
                                },
                                {
                                    "Azonosíto": "52",
                                    "Férőhelyek száma": "2",
                                    "Helyezés": "14"
                                },
                                {
                                    "Azonosíto": "45",
                                    "Férőhelyek száma": "2",
                                    "Helyezés": "14"
                                },
                                {
                                    "Azonosíto": "62",
                                    "Férőhelyek száma": "2",
                                    "Helyezés": "14"
                                },
                                {
                                    "Azonosíto": "61",
                                    "Férőhelyek száma": "3",
                                    "Helyezés": "15"
                                },
                                {
                                    "Azonosíto": "51",
                                    "Férőhelyek száma": "3",
                                    "Helyezés": "15"
                                },
                                {
                                    "Azonosíto": "20",
                                    "Férőhelyek száma": "3",
                                    "Helyezés": "15"
                                },
                                {
                                    "Azonosíto": "8",
                                    "Férőhelyek száma": "3",
                                    "Helyezés": "15"
                                },
                                {
                                    "Azonosíto": "16",
                                    "Férőhelyek száma": "3",
                                    "Helyezés": "15"
                                },
                                {
                                    "Azonosíto": "87",
                                    "Férőhelyek száma": "3",
                                    "Helyezés": "15"
                                },
                                {
                                    "Azonosíto": "79",
                                    "Férőhelyek száma": "3",
                                    "Helyezés": "15"
                                },
                                {
                                    "Azonosíto": "112",
                                    "Férőhelyek száma": "3",
                                    "Helyezés": "15"
                                },
                                {
                                    "Azonosíto": "113",
                                    "Férőhelyek száma": "3",
                                    "Helyezés": "15"
                                },
                                {
                                    "Azonosíto": "93",
                                    "Férőhelyek száma": "3",
                                    "Helyezés": "15"
                                },
                                {
                                    "Azonosíto": "144",
                                    "Férőhelyek száma": "3",
                                    "Helyezés": "15"
                                },
                                {
                                    "Azonosíto": "123",
                                    "Férőhelyek száma": "3",
                                    "Helyezés": "15"
                                },
                                {
                                    "Azonosíto": "155",
                                    "Férőhelyek száma": "3",
                                    "Helyezés": "15"
                                },
                                {
                                    "Azonosíto": "153",
                                    "Férőhelyek száma": "3",
                                    "Helyezés": "15"
                                },
                                {
                                    "Azonosíto": "160",
                                    "Férőhelyek száma": "3",
                                    "Helyezés": "15"
                                },
                                {
                                    "Azonosíto": "152",
                                    "Férőhelyek száma": "2",
                                    "Helyezés": "16"
                                },
                                {
                                    "Azonosíto": "173",
                                    "Férőhelyek száma": "2",
                                    "Helyezés": "16"
                                },
                                {
                                    "Azonosíto": "174",
                                    "Férőhelyek száma": "2",
                                    "Helyezés": "16"
                                },
                                {
                                    "Azonosíto": "186",
                                    "Férőhelyek száma": "2",
                                    "Helyezés": "16"
                                },
                                {
                                    "Azonosíto": "184",
                                    "Férőhelyek száma": "2",
                                    "Helyezés": "16"
                                },
                                {
                                    "Azonosíto": "196",
                                    "Férőhelyek száma": "2",
                                    "Helyezés": "16"
                                },
                                {
                                    "Azonosíto": "129",
                                    "Férőhelyek száma": "2",
                                    "Helyezés": "16"
                                },
                                {
                                    "Azonosíto": "100",
                                    "Férőhelyek száma": "2",
                                    "Helyezés": "16"
                                },
                                {
                                    "Azonosíto": "114",
                                    "Férőhelyek száma": "2",
                                    "Helyezés": "16"
                                },
                                {
                                    "Azonosíto": "98",
                                    "Férőhelyek száma": "2",
                                    "Helyezés": "16"
                                },
                                {
                                    "Azonosíto": "103",
                                    "Férőhelyek száma": "2",
                                    "Helyezés": "16"
                                },
                                {
                                    "Azonosíto": "85",
                                    "Férőhelyek száma": "2",
                                    "Helyezés": "16"
                                },
                                {
                                    "Azonosíto": "91",
                                    "Férőhelyek száma": "2",
                                    "Helyezés": "16"
                                },
                                {
                                    "Azonosíto": "11",
                                    "Férőhelyek száma": "2",
                                    "Helyezés": "16"
                                },
                                {
                                    "Azonosíto": "5",
                                    "Férőhelyek száma": "2",
                                    "Helyezés": "16"
                                },
                                {
                                    "Azonosíto": "21",
                                    "Férőhelyek száma": "2",
                                    "Helyezés": "16"
                                },
                                {
                                    "Azonosíto": "50",
                                    "Férőhelyek száma": "2",
                                    "Helyezés": "16"
                                },
                                {
                                    "Azonosíto": "57",
                                    "Férőhelyek száma": "2",
                                    "Helyezés": "16"
                                },
                                {
                                    "Azonosíto": "63",
                                    "Férőhelyek száma": "2",
                                    "Helyezés": "16"
                                },
                                {
                                    "Azonosíto": "72",
                                    "Férőhelyek száma": "2",
                                    "Helyezés": "16"
                                },
                                {
                                    "Azonosíto": "73",
                                    "Férőhelyek száma": "2",
                                    "Helyezés": "16"
                                },
                                {
                                    "Azonosíto": "66",
                                    "Férőhelyek száma": "3",
                                    "Helyezés": "17"
                                },
                                {
                                    "Azonosíto": "69",
                                    "Férőhelyek száma": "3",
                                    "Helyezés": "17"
                                },
                                {
                                    "Azonosíto": "46",
                                    "Férőhelyek száma": "3",
                                    "Helyezés": "17"
                                },
                                {
                                    "Azonosíto": "34",
                                    "Férőhelyek száma": "3",
                                    "Helyezés": "17"
                                },
                                {
                                    "Azonosíto": "40",
                                    "Férőhelyek száma": "3",
                                    "Helyezés": "17"
                                },
                                {
                                    "Azonosíto": "2",
                                    "Férőhelyek száma": "3",
                                    "Helyezés": "17"
                                },
                                {
                                    "Azonosíto": "10",
                                    "Férőhelyek száma": "3",
                                    "Helyezés": "17"
                                },
                                {
                                    "Azonosíto": "13",
                                    "Férőhelyek száma": "3",
                                    "Helyezés": "17"
                                },
                                {
                                    "Azonosíto": "90",
                                    "Férőhelyek száma": "3",
                                    "Helyezés": "17"
                                },
                                {
                                    "Azonosíto": "84",
                                    "Férőhelyek száma": "3",
                                    "Helyezés": "17"
                                },
                                {
                                    "Azonosíto": "104",
                                    "Férőhelyek száma": "3",
                                    "Helyezés": "17"
                                },
                                {
                                    "Azonosíto": "95",
                                    "Férőhelyek száma": "3",
                                    "Helyezés": "17"
                                },
                                {
                                    "Azonosíto": "177",
                                    "Férőhelyek száma": "3",
                                    "Helyezés": "17"
                                },
                                {
                                    "Azonosíto": "178",
                                    "Férőhelyek száma": "3",
                                    "Helyezés": "17"
                                },
                                {
                                    "Azonosíto": "183",
                                    "Férőhelyek száma": "3",
                                    "Helyezés": "17"
                                },
                                {
                                    "Azonosíto": "180",
                                    "Férőhelyek száma": "2",
                                    "Helyezés": "18"
                                },
                                {
                                    "Azonosíto": "166",
                                    "Férőhelyek száma": "2",
                                    "Helyezés": "18"
                                },
                                {
                                    "Azonosíto": "151",
                                    "Férőhelyek száma": "2",
                                    "Helyezés": "18"
                                },
                                {
                                    "Azonosíto": "158",
                                    "Férőhelyek száma": "2",
                                    "Helyezés": "18"
                                },
                                {
                                    "Azonosíto": "101",
                                    "Férőhelyek száma": "2",
                                    "Helyezés": "18"
                                },
                                {
                                    "Azonosíto": "75",
                                    "Férőhelyek száma": "2",
                                    "Helyezés": "18"
                                },
                                {
                                    "Azonosíto": "76",
                                    "Férőhelyek száma": "2",
                                    "Helyezés": "18"
                                },
                                {
                                    "Azonosíto": "136",
                                    "Férőhelyek száma": "2",
                                    "Helyezés": "18"
                                },
                                {
                                    "Azonosíto": "23",
                                    "Férőhelyek száma": "2",
                                    "Helyezés": "18"
                                },
                                {
                                    "Azonosíto": "37",
                                    "Férőhelyek száma": "2",
                                    "Helyezés": "18"
                                },
                                {
                                    "Azonosíto": "68",
                                    "Férőhelyek száma": "2",
                                    "Helyezés": "18"
                                },
                                {
                                    "Azonosíto": "71",
                                    "Férőhelyek száma": "3",
                                    "Helyezés": "19"
                                },
                                {
                                    "Azonosíto": "30",
                                    "Férőhelyek száma": "3",
                                    "Helyezés": "19"
                                },
                                {
                                    "Azonosíto": "31",
                                    "Férőhelyek száma": "3",
                                    "Helyezés": "19"
                                },
                                {
                                    "Azonosíto": "14",
                                    "Férőhelyek száma": "3",
                                    "Helyezés": "19"
                                },
                                {
                                    "Azonosíto": "135",
                                    "Férőhelyek száma": "3",
                                    "Helyezés": "19"
                                },
                                {
                                    "Azonosíto": "162",
                                    "Férőhelyek száma": "3",
                                    "Helyezés": "19"
                                },
                                {
                                    "Azonosíto": "179",
                                    "Férőhelyek száma": "3",
                                    "Helyezés": "19"
                                },
                                {
                                    "Azonosíto": "24",
                                    "Férőhelyek száma": "4",
                                    "Helyezés": "20"
                                },
                                {
                                    "Azonosíto": "26",
                                    "Férőhelyek száma": "2",
                                    "Helyezés": "21"
                                },
                                {
                                    "Azonosíto": "47",
                                    "Férőhelyek száma": "2",
                                    "Helyezés": "21"
                                },
                                {
                                    "Azonosíto": "53",
                                    "Férőhelyek száma": "2",
                                    "Helyezés": "21"
                                },
                                {
                                    "Azonosíto": "56",
                                    "Férőhelyek száma": "2",
                                    "Helyezés": "21"
                                },
                                {
                                    "Azonosíto": "108",
                                    "Férőhelyek száma": "2",
                                    "Helyezés": "21"
                                },
                                {
                                    "Azonosíto": "102",
                                    "Férőhelyek száma": "2",
                                    "Helyezés": "21"
                                },
                                {
                                    "Azonosíto": "105",
                                    "Férőhelyek száma": "2",
                                    "Helyezés": "21"
                                },
                                {
                                    "Azonosíto": "192",
                                    "Férőhelyek száma": "2",
                                    "Helyezés": "21"
                                },
                                {
                                    "Azonosíto": "167",
                                    "Férőhelyek száma": "3",
                                    "Helyezés": "22"
                                },
                                {
                                    "Azonosíto": "116",
                                    "Férőhelyek száma": "3",
                                    "Helyezés": "22"
                                },
                                {
                                    "Azonosíto": "142",
                                    "Férőhelyek száma": "3",
                                    "Helyezés": "22"
                                },
                                {
                                    "Azonosíto": "25",
                                    "Férőhelyek száma": "3",
                                    "Helyezés": "22"
                                },
                                {
                                    "Azonosíto": "41",
                                    "Férőhelyek száma": "3",
                                    "Helyezés": "22"
                                },
                                {
                                    "Azonosíto": "32",
                                    "Férőhelyek száma": "2",
                                    "Helyezés": "23"
                                },
                                {
                                    "Azonosíto": "65",
                                    "Férőhelyek száma": "2",
                                    "Helyezés": "23"
                                },
                                {
                                    "Azonosíto": "147",
                                    "Férőhelyek száma": "2",
                                    "Helyezés": "23"
                                },
                                {
                                    "Azonosíto": "125",
                                    "Férőhelyek száma": "2",
                                    "Helyezés": "23"
                                },
                                {
                                    "Azonosíto": "194",
                                    "Férőhelyek száma": "2",
                                    "Helyezés": "23"
                                },
                                {
                                    "Azonosíto": "60",
                                    "Férőhelyek száma": "3",
                                    "Helyezés": "24"
                                },
                                {
                                    "Azonosíto": "261",
                                    "Férőhelyek száma": "1",
                                    "Helyezés": "25"
                                },
                                {
                                    "Azonosíto": "262",
                                    "Férőhelyek száma": "1",
                                    "Helyezés": "25"
                                },
                                {
                                    "Azonosíto": "263",
                                    "Férőhelyek száma": "2",
                                    "Helyezés": "26"
                                },
                                {
                                    "Azonosíto": "266",
                                    "Férőhelyek száma": "2",
                                    "Helyezés": "26"
                                },
                                {
                                    "Azonosíto": "267",
                                    "Férőhelyek száma": "2",
                                    "Helyezés": "26"
                                },
                                {
                                    "Azonosíto": "268",
                                    "Férőhelyek száma": "2",
                                    "Helyezés": "26"
                                },
                                {
                                    "Azonosíto": "269",
                                    "Férőhelyek száma": "2",
                                    "Helyezés": "26"
                                },
                                {
                                    "Azonosíto": "275",
                                    "Férőhelyek száma": "2",
                                    "Helyezés": "26"
                                },
                                {
                                    "Azonosíto": "276",
                                    "Férőhelyek száma": "2",
                                    "Helyezés": "26"
                                },
                                {
                                    "Azonosíto": "277",
                                    "Férőhelyek száma": "2",
                                    "Helyezés": "26"
                                },
                                {
                                    "Azonosíto": "273",
                                    "Férőhelyek száma": "2",
                                    "Helyezés": "26"
                                },
                                {
                                    "Azonosíto": "279",
                                    "Férőhelyek száma": "2",
                                    "Helyezés": "26"
                                },
                                {
                                    "Azonosíto": "281",
                                    "Férőhelyek száma": "2",
                                    "Helyezés": "26"
                                },
                                {
                                    "Azonosíto": "282",
                                    "Férőhelyek száma": "2",
                                    "Helyezés": "26"
                                },
                                {
                                    "Azonosíto": "283",
                                    "Férőhelyek száma": "2",
                                    "Helyezés": "26"
                                },
                                {
                                    "Azonosíto": "284",
                                    "Férőhelyek száma": "2",
                                    "Helyezés": "26"
                                },
                                {
                                    "Azonosíto": "285",
                                    "Férőhelyek száma": "2",
                                    "Helyezés": "26"
                                },
                                {
                                    "Azonosíto": "290",
                                    "Férőhelyek száma": "2",
                                    "Helyezés": "26"
                                },
                                {
                                    "Azonosíto": "291",
                                    "Férőhelyek száma": "2",
                                    "Helyezés": "26"
                                },
                                {
                                    "Azonosíto": "292",
                                    "Férőhelyek száma": "2",
                                    "Helyezés": "26"
                                },
                                {
                                    "Azonosíto": "293",
                                    "Férőhelyek száma": "2",
                                    "Helyezés": "26"
                                },
                                {
                                    "Azonosíto": "288",
                                    "Férőhelyek száma": "2",
                                    "Helyezés": "26"
                                },
                                {
                                    "Azonosíto": "222",
                                    "Férőhelyek száma": "2",
                                    "Helyezés": "26"
                                },
                                {
                                    "Azonosíto": "223",
                                    "Férőhelyek száma": "2",
                                    "Helyezés": "26"
                                },
                                {
                                    "Azonosíto": "224",
                                    "Férőhelyek száma": "2",
                                    "Helyezés": "26"
                                },
                                {
                                    "Azonosíto": "225",
                                    "Férőhelyek száma": "2",
                                    "Helyezés": "26"
                                },
                                {
                                    "Azonosíto": "227",
                                    "Férőhelyek száma": "2",
                                    "Helyezés": "26"
                                },
                                {
                                    "Azonosíto": "229",
                                    "Férőhelyek száma": "2",
                                    "Helyezés": "26"
                                },
                                {
                                    "Azonosíto": "231",
                                    "Férőhelyek száma": "2",
                                    "Helyezés": "26"
                                },
                                {
                                    "Azonosíto": "232",
                                    "Férőhelyek száma": "2",
                                    "Helyezés": "26"
                                },
                                {
                                    "Azonosíto": "237",
                                    "Férőhelyek száma": "2",
                                    "Helyezés": "26"
                                },
                                {
                                    "Azonosíto": "239",
                                    "Férőhelyek száma": "2",
                                    "Helyezés": "26"
                                },
                                {
                                    "Azonosíto": "241",
                                    "Férőhelyek száma": "2",
                                    "Helyezés": "26"
                                },
                                {
                                    "Azonosíto": "242",
                                    "Férőhelyek száma": "2",
                                    "Helyezés": "26"
                                },
                                {
                                    "Azonosíto": "243",
                                    "Férőhelyek száma": "2",
                                    "Helyezés": "26"
                                },
                                {
                                    "Azonosíto": "244",
                                    "Férőhelyek száma": "2",
                                    "Helyezés": "26"
                                },
                                {
                                    "Azonosíto": "245",
                                    "Férőhelyek száma": "2",
                                    "Helyezés": "26"
                                },
                                {
                                    "Azonosíto": "246",
                                    "Férőhelyek száma": "2",
                                    "Helyezés": "26"
                                },
                                {
                                    "Azonosíto": "247",
                                    "Férőhelyek száma": "2",
                                    "Helyezés": "26"
                                },
                                {
                                    "Azonosíto": "248",
                                    "Férőhelyek száma": "2",
                                    "Helyezés": "26"
                                },
                                {
                                    "Azonosíto": "249",
                                    "Férőhelyek száma": "2",
                                    "Helyezés": "26"
                                },
                                {
                                    "Azonosíto": "253",
                                    "Férőhelyek száma": "2",
                                    "Helyezés": "26"
                                },
                                {
                                    "Azonosíto": "254",
                                    "Férőhelyek száma": "2",
                                    "Helyezés": "26"
                                },
                                {
                                    "Azonosíto": "257",
                                    "Férőhelyek száma": "2",
                                    "Helyezés": "26"
                                },
                                {
                                    "Azonosíto": "258",
                                    "Férőhelyek száma": "2",
                                    "Helyezés": "26"
                                },
                                {
                                    "Azonosíto": "259",
                                    "Férőhelyek száma": "2",
                                    "Helyezés": "26"
                                },
                                {
                                    "Azonosíto": "260",
                                    "Férőhelyek száma": "2",
                                    "Helyezés": "26"
                                },
                                {
                                    "Azonosíto": "200",
                                    "Férőhelyek száma": "2",
                                    "Helyezés": "26"
                                },
                                {
                                    "Azonosíto": "215",
                                    "Férőhelyek száma": "2",
                                    "Helyezés": "26"
                                },
                                {
                                    "Azonosíto": "217",
                                    "Férőhelyek száma": "2",
                                    "Helyezés": "26"
                                },
                                {
                                    "Azonosíto": "219",
                                    "Férőhelyek száma": "2",
                                    "Helyezés": "26"
                                },
                                {
                                    "Azonosíto": "206",
                                    "Férőhelyek száma": "2",
                                    "Helyezés": "26"
                                },
                                {
                                    "Azonosíto": "207",
                                    "Férőhelyek száma": "2",
                                    "Helyezés": "26"
                                },
                                {
                                    "Azonosíto": "208",
                                    "Férőhelyek száma": "2",
                                    "Helyezés": "26"
                                },
                                {
                                    "Azonosíto": "210",
                                    "Férőhelyek száma": "2",
                                    "Helyezés": "26"
                                },
                                {
                                    "Azonosíto": "211",
                                    "Férőhelyek száma": "2",
                                    "Helyezés": "26"
                                },
                                {
                                    "Azonosíto": "212",
                                    "Férőhelyek száma": "3",
                                    "Helyezés": "27"
                                },
                                {
                                    "Azonosíto": "213",
                                    "Férőhelyek száma": "3",
                                    "Helyezés": "27"
                                },
                                {
                                    "Azonosíto": "214",
                                    "Férőhelyek száma": "3",
                                    "Helyezés": "27"
                                },
                                {
                                    "Azonosíto": "209",
                                    "Férőhelyek száma": "3",
                                    "Helyezés": "27"
                                },
                                {
                                    "Azonosíto": "220",
                                    "Férőhelyek száma": "3",
                                    "Helyezés": "27"
                                },
                                {
                                    "Azonosíto": "221",
                                    "Férőhelyek száma": "3",
                                    "Helyezés": "27"
                                },
                                {
                                    "Azonosíto": "218",
                                    "Férőhelyek száma": "3",
                                    "Helyezés": "27"
                                },
                                {
                                    "Azonosíto": "216",
                                    "Férőhelyek száma": "3",
                                    "Helyezés": "27"
                                },
                                {
                                    "Azonosíto": "199",
                                    "Férőhelyek száma": "3",
                                    "Helyezés": "27"
                                },
                                {
                                    "Azonosíto": "201",
                                    "Férőhelyek száma": "3",
                                    "Helyezés": "27"
                                },
                                {
                                    "Azonosíto": "202",
                                    "Férőhelyek száma": "3",
                                    "Helyezés": "27"
                                },
                                {
                                    "Azonosíto": "203",
                                    "Férőhelyek száma": "3",
                                    "Helyezés": "27"
                                },
                                {
                                    "Azonosíto": "204",
                                    "Férőhelyek száma": "3",
                                    "Helyezés": "27"
                                },
                                {
                                    "Azonosíto": "205",
                                    "Férőhelyek száma": "3",
                                    "Helyezés": "27"
                                },
                                {
                                    "Azonosíto": "159",
                                    "Férőhelyek száma": "3",
                                    "Helyezés": "27"
                                },
                                {
                                    "Azonosíto": "255",
                                    "Férőhelyek száma": "3",
                                    "Helyezés": "27"
                                },
                                {
                                    "Azonosíto": "256",
                                    "Férőhelyek száma": "3",
                                    "Helyezés": "27"
                                },
                                {
                                    "Azonosíto": "250",
                                    "Férőhelyek száma": "3",
                                    "Helyezés": "27"
                                },
                                {
                                    "Azonosíto": "251",
                                    "Férőhelyek száma": "3",
                                    "Helyezés": "27"
                                },
                                {
                                    "Azonosíto": "252",
                                    "Férőhelyek száma": "3",
                                    "Helyezés": "27"
                                },
                                {
                                    "Azonosíto": "240",
                                    "Férőhelyek száma": "3",
                                    "Helyezés": "27"
                                },
                                {
                                    "Azonosíto": "238",
                                    "Férőhelyek száma": "3",
                                    "Helyezés": "27"
                                },
                                {
                                    "Azonosíto": "233",
                                    "Férőhelyek száma": "3",
                                    "Helyezés": "27"
                                },
                                {
                                    "Azonosíto": "234",
                                    "Férőhelyek száma": "3",
                                    "Helyezés": "27"
                                },
                                {
                                    "Azonosíto": "235",
                                    "Férőhelyek száma": "3",
                                    "Helyezés": "27"
                                },
                                {
                                    "Azonosíto": "236",
                                    "Férőhelyek száma": "3",
                                    "Helyezés": "27"
                                },
                                {
                                    "Azonosíto": "230",
                                    "Férőhelyek száma": "3",
                                    "Helyezés": "27"
                                },
                                {
                                    "Azonosíto": "228",
                                    "Férőhelyek száma": "3",
                                    "Helyezés": "27"
                                },
                                {
                                    "Azonosíto": "226",
                                    "Férőhelyek száma": "3",
                                    "Helyezés": "27"
                                },
                                {
                                    "Azonosíto": "289",
                                    "Férőhelyek száma": "3",
                                    "Helyezés": "27"
                                },
                                {
                                    "Azonosíto": "294",
                                    "Férőhelyek száma": "3",
                                    "Helyezés": "27"
                                },
                                {
                                    "Azonosíto": "286",
                                    "Férőhelyek száma": "3",
                                    "Helyezés": "27"
                                },
                                {
                                    "Azonosíto": "287",
                                    "Férőhelyek száma": "3",
                                    "Helyezés": "27"
                                },
                                {
                                    "Azonosíto": "280",
                                    "Férőhelyek száma": "3",
                                    "Helyezés": "27"
                                },
                                {
                                    "Azonosíto": "274",
                                    "Férőhelyek száma": "3",
                                    "Helyezés": "27"
                                },
                                {
                                    "Azonosíto": "278",
                                    "Férőhelyek száma": "3",
                                    "Helyezés": "27"
                                },
                                {
                                    "Azonosíto": "270",
                                    "Férőhelyek száma": "3",
                                    "Helyezés": "27"
                                },
                                {
                                    "Azonosíto": "271",
                                    "Férőhelyek száma": "3",
                                    "Helyezés": "27"
                                },
                                {
                                    "Azonosíto": "272",
                                    "Férőhelyek száma": "3",
                                    "Helyezés": "27"
                                },
                                {
                                    "Azonosíto": "264",
                                    "Férőhelyek száma": "3",
                                    "Helyezés": "27"
                                },
                                {
                                    "Azonosíto": "265",
                                    "Férőhelyek száma": "3",
                                    "Helyezés": "27"
                                }
                            ]
                        },
                        "text/html": [
                            "<table>",
                            "<tr><th>Azonosíto</th><th>Férőhelyek száma</th><th>Helyezés</th></tr>",
                            "<tr><td>58</td><td>2</td><td>1</td></tr>",
                            "<tr><td>182</td><td>2</td><td>2</td></tr>",
                            "<tr><td>185</td><td>3</td><td>3</td></tr>",
                            "<tr><td>70</td><td>2</td><td>4</td></tr>",
                            "<tr><td>94</td><td>2</td><td>5</td></tr>",
                            "<tr><td>12</td><td>2</td><td>6</td></tr>",
                            "<tr><td>172</td><td>2</td><td>6</td></tr>",
                            "<tr><td>35</td><td>3</td><td>7</td></tr>",
                            "<tr><td>48</td><td>3</td><td>7</td></tr>",
                            "<tr><td>74</td><td>3</td><td>7</td></tr>",
                            "<tr><td>122</td><td>3</td><td>7</td></tr>",
                            "<tr><td>121</td><td>2</td><td>8</td></tr>",
                            "<tr><td>140</td><td>2</td><td>8</td></tr>",
                            "<tr><td>110</td><td>2</td><td>8</td></tr>",
                            "<tr><td>55</td><td>2</td><td>8</td></tr>",
                            "<tr><td>38</td><td>2</td><td>8</td></tr>",
                            "<tr><td>1</td><td>3</td><td>9</td></tr>",
                            "<tr><td>3</td><td>3</td><td>9</td></tr>",
                            "<tr><td>43</td><td>3</td><td>9</td></tr>",
                            "<tr><td>83</td><td>3</td><td>9</td></tr>",
                            "<tr><td>88</td><td>3</td><td>9</td></tr>",
                            "<tr><td>89</td><td>3</td><td>9</td></tr>",
                            "<tr><td>117</td><td>3</td><td>9</td></tr>",
                            "<tr><td>198</td><td>3</td><td>9</td></tr>",
                            "<tr><td>165</td><td>2</td><td>10</td></tr>",
                            "<tr><td>149</td><td>2</td><td>10</td></tr>",
                            "<tr><td>156</td><td>2</td><td>10</td></tr>",
                            "<tr><td>163</td><td>2</td><td>10</td></tr>",
                            "<tr><td>118</td><td>2</td><td>10</td></tr>",
                            "<tr><td>109</td><td>2</td><td>10</td></tr>",
                            "<tr><td>127</td><td>2</td><td>10</td></tr>",
                            "<tr><td>139</td><td>2</td><td>10</td></tr>",
                            "<tr><td>80</td><td>2</td><td>10</td></tr>",
                            "<tr><td>59</td><td>2</td><td>10</td></tr>",
                            "<tr><td>39</td><td>2</td><td>10</td></tr>",
                            "<tr><td>27</td><td>3</td><td>11</td></tr>",
                            "<tr><td>49</td><td>3</td><td>11</td></tr>",
                            "<tr><td>96</td><td>3</td><td>11</td></tr>",
                            "<tr><td>97</td><td>3</td><td>11</td></tr>",
                            "<tr><td>138</td><td>3</td><td>11</td></tr>",
                            "<tr><td>143</td><td>3</td><td>11</td></tr>",
                            "<tr><td>115</td><td>3</td><td>11</td></tr>",
                            "<tr><td>193</td><td>3</td><td>11</td></tr>",
                            "<tr><td>187</td><td>3</td><td>11</td></tr>",
                            "<tr><td>195</td><td>2</td><td>12</td></tr>",
                            "<tr><td>161</td><td>2</td><td>12</td></tr>",
                            "<tr><td>150</td><td>2</td><td>12</td></tr>",
                            "<tr><td>148</td><td>2</td><td>12</td></tr>",
                            "<tr><td>169</td><td>2</td><td>12</td></tr>",
                            "<tr><td>106</td><td>2</td><td>12</td></tr>",
                            "<tr><td>126</td><td>2</td><td>12</td></tr>",
                            "<tr><td>145</td><td>2</td><td>12</td></tr>",
                            "<tr><td>141</td><td>2</td><td>12</td></tr>",
                            "<tr><td>130</td><td>2</td><td>12</td></tr>",
                            "<tr><td>137</td><td>2</td><td>12</td></tr>",
                            "<tr><td>78</td><td>2</td><td>12</td></tr>",
                            "<tr><td>42</td><td>2</td><td>12</td></tr>",
                            "<tr><td>64</td><td>2</td><td>12</td></tr>",
                            "<tr><td>67</td><td>2</td><td>12</td></tr>",
                            "<tr><td>28</td><td>2</td><td>12</td></tr>",
                            "<tr><td>29</td><td>2</td><td>12</td></tr>",
                            "<tr><td>19</td><td>2</td><td>12</td></tr>",
                            "<tr><td>33</td><td>2</td><td>12</td></tr>",
                            "<tr><td>4</td><td>2</td><td>12</td></tr>",
                            "<tr><td>7</td><td>2</td><td>12</td></tr>",
                            "<tr><td>15</td><td>2</td><td>12</td></tr>",
                            "<tr><td>17</td><td>3</td><td>13</td></tr>",
                            "<tr><td>18</td><td>3</td><td>13</td></tr>",
                            "<tr><td>6</td><td>3</td><td>13</td></tr>",
                            "<tr><td>9</td><td>3</td><td>13</td></tr>",
                            "<tr><td>22</td><td>3</td><td>13</td></tr>",
                            "<tr><td>36</td><td>3</td><td>13</td></tr>",
                            "<tr><td>44</td><td>3</td><td>13</td></tr>",
                            "<tr><td>54</td><td>3</td><td>13</td></tr>",
                            "<tr><td>77</td><td>3</td><td>13</td></tr>",
                            "<tr><td>82</td><td>3</td><td>13</td></tr>",
                            "<tr><td>92</td><td>3</td><td>13</td></tr>",
                            "<tr><td>132</td><td>3</td><td>13</td></tr>",
                            "<tr><td>133</td><td>3</td><td>13</td></tr>",
                            "<tr><td>134</td><td>3</td><td>13</td></tr>",
                            "<tr><td>146</td><td>3</td><td>13</td></tr>",
                            "<tr><td>124</td><td>3</td><td>13</td></tr>",
                            "<tr><td>120</td><td>3</td><td>13</td></tr>",
                            "<tr><td>181</td><td>3</td><td>13</td></tr>",
                            "<tr><td>176</td><td>3</td><td>13</td></tr>",
                            "<tr><td>197</td><td>3</td><td>13</td></tr>",
                            "<tr><td>188</td><td>3</td><td>13</td></tr>",
                            "<tr><td>189</td><td>2</td><td>14</td></tr>",
                            "<tr><td>190</td><td>2</td><td>14</td></tr>",
                            "<tr><td>191</td><td>2</td><td>14</td></tr>",
                            "<tr><td>170</td><td>2</td><td>14</td></tr>",
                            "<tr><td>171</td><td>2</td><td>14</td></tr>",
                            "<tr><td>168</td><td>2</td><td>14</td></tr>",
                            "<tr><td>175</td><td>2</td><td>14</td></tr>",
                            "<tr><td>157</td><td>2</td><td>14</td></tr>",
                            "<tr><td>164</td><td>2</td><td>14</td></tr>",
                            "<tr><td>154</td><td>2</td><td>14</td></tr>",
                            "<tr><td>119</td><td>2</td><td>14</td></tr>",
                            "<tr><td>107</td><td>2</td><td>14</td></tr>",
                            "<tr><td>128</td><td>2</td><td>14</td></tr>",
                            "<tr><td>131</td><td>2</td><td>14</td></tr>",
                            "<tr><td>99</td><td>2</td><td>14</td></tr>",
                            "<tr><td>111</td><td>2</td><td>14</td></tr>",
                            "<tr><td>81</td><td>2</td><td>14</td></tr>",
                            "<tr><td>86</td><td>2</td><td>14</td></tr>",
                            "<tr><td>52</td><td>2</td><td>14</td></tr>",
                            "<tr><td>45</td><td>2</td><td>14</td></tr>",
                            "<tr><td>62</td><td>2</td><td>14</td></tr>",
                            "<tr><td>61</td><td>3</td><td>15</td></tr>",
                            "<tr><td>51</td><td>3</td><td>15</td></tr>",
                            "<tr><td>20</td><td>3</td><td>15</td></tr>",
                            "<tr><td>8</td><td>3</td><td>15</td></tr>",
                            "<tr><td>16</td><td>3</td><td>15</td></tr>",
                            "<tr><td>87</td><td>3</td><td>15</td></tr>",
                            "<tr><td>79</td><td>3</td><td>15</td></tr>",
                            "<tr><td>112</td><td>3</td><td>15</td></tr>",
                            "<tr><td>113</td><td>3</td><td>15</td></tr>",
                            "<tr><td>93</td><td>3</td><td>15</td></tr>",
                            "<tr><td>144</td><td>3</td><td>15</td></tr>",
                            "<tr><td>123</td><td>3</td><td>15</td></tr>",
                            "<tr><td>155</td><td>3</td><td>15</td></tr>",
                            "<tr><td>153</td><td>3</td><td>15</td></tr>",
                            "<tr><td>160</td><td>3</td><td>15</td></tr>",
                            "<tr><td>152</td><td>2</td><td>16</td></tr>",
                            "<tr><td>173</td><td>2</td><td>16</td></tr>",
                            "<tr><td>174</td><td>2</td><td>16</td></tr>",
                            "<tr><td>186</td><td>2</td><td>16</td></tr>",
                            "<tr><td>184</td><td>2</td><td>16</td></tr>",
                            "<tr><td>196</td><td>2</td><td>16</td></tr>",
                            "<tr><td>129</td><td>2</td><td>16</td></tr>",
                            "<tr><td>100</td><td>2</td><td>16</td></tr>",
                            "<tr><td>114</td><td>2</td><td>16</td></tr>",
                            "<tr><td>98</td><td>2</td><td>16</td></tr>",
                            "<tr><td>103</td><td>2</td><td>16</td></tr>",
                            "<tr><td>85</td><td>2</td><td>16</td></tr>",
                            "<tr><td>91</td><td>2</td><td>16</td></tr>",
                            "<tr><td>11</td><td>2</td><td>16</td></tr>",
                            "<tr><td>5</td><td>2</td><td>16</td></tr>",
                            "<tr><td>21</td><td>2</td><td>16</td></tr>",
                            "<tr><td>50</td><td>2</td><td>16</td></tr>",
                            "<tr><td>57</td><td>2</td><td>16</td></tr>",
                            "<tr><td>63</td><td>2</td><td>16</td></tr>",
                            "<tr><td>72</td><td>2</td><td>16</td></tr>",
                            "<tr><td>73</td><td>2</td><td>16</td></tr>",
                            "<tr><td>66</td><td>3</td><td>17</td></tr>",
                            "<tr><td>69</td><td>3</td><td>17</td></tr>",
                            "<tr><td>46</td><td>3</td><td>17</td></tr>",
                            "<tr><td>34</td><td>3</td><td>17</td></tr>",
                            "<tr><td>40</td><td>3</td><td>17</td></tr>",
                            "<tr><td>2</td><td>3</td><td>17</td></tr>",
                            "<tr><td>10</td><td>3</td><td>17</td></tr>",
                            "<tr><td>13</td><td>3</td><td>17</td></tr>",
                            "<tr><td>90</td><td>3</td><td>17</td></tr>",
                            "<tr><td>84</td><td>3</td><td>17</td></tr>",
                            "<tr><td>104</td><td>3</td><td>17</td></tr>",
                            "<tr><td>95</td><td>3</td><td>17</td></tr>",
                            "<tr><td>177</td><td>3</td><td>17</td></tr>",
                            "<tr><td>178</td><td>3</td><td>17</td></tr>",
                            "<tr><td>183</td><td>3</td><td>17</td></tr>",
                            "<tr><td>180</td><td>2</td><td>18</td></tr>",
                            "<tr><td>166</td><td>2</td><td>18</td></tr>",
                            "<tr><td>151</td><td>2</td><td>18</td></tr>",
                            "<tr><td>158</td><td>2</td><td>18</td></tr>",
                            "<tr><td>101</td><td>2</td><td>18</td></tr>",
                            "<tr><td>75</td><td>2</td><td>18</td></tr>",
                            "<tr><td>76</td><td>2</td><td>18</td></tr>",
                            "<tr><td>136</td><td>2</td><td>18</td></tr>",
                            "<tr><td>23</td><td>2</td><td>18</td></tr>",
                            "<tr><td>37</td><td>2</td><td>18</td></tr>",
                            "<tr><td>68</td><td>2</td><td>18</td></tr>",
                            "<tr><td>71</td><td>3</td><td>19</td></tr>",
                            "<tr><td>30</td><td>3</td><td>19</td></tr>",
                            "<tr><td>31</td><td>3</td><td>19</td></tr>",
                            "<tr><td>14</td><td>3</td><td>19</td></tr>",
                            "<tr><td>135</td><td>3</td><td>19</td></tr>",
                            "<tr><td>162</td><td>3</td><td>19</td></tr>",
                            "<tr><td>179</td><td>3</td><td>19</td></tr>",
                            "<tr><td>24</td><td>4</td><td>20</td></tr>",
                            "<tr><td>26</td><td>2</td><td>21</td></tr>",
                            "<tr><td>47</td><td>2</td><td>21</td></tr>",
                            "<tr><td>53</td><td>2</td><td>21</td></tr>",
                            "<tr><td>56</td><td>2</td><td>21</td></tr>",
                            "<tr><td>108</td><td>2</td><td>21</td></tr>",
                            "<tr><td>102</td><td>2</td><td>21</td></tr>",
                            "<tr><td>105</td><td>2</td><td>21</td></tr>",
                            "<tr><td>192</td><td>2</td><td>21</td></tr>",
                            "<tr><td>167</td><td>3</td><td>22</td></tr>",
                            "<tr><td>116</td><td>3</td><td>22</td></tr>",
                            "<tr><td>142</td><td>3</td><td>22</td></tr>",
                            "<tr><td>25</td><td>3</td><td>22</td></tr>",
                            "<tr><td>41</td><td>3</td><td>22</td></tr>",
                            "<tr><td>32</td><td>2</td><td>23</td></tr>",
                            "<tr><td>65</td><td>2</td><td>23</td></tr>",
                            "<tr><td>147</td><td>2</td><td>23</td></tr>",
                            "<tr><td>125</td><td>2</td><td>23</td></tr>",
                            "<tr><td>194</td><td>2</td><td>23</td></tr>",
                            "<tr><td>60</td><td>3</td><td>24</td></tr>",
                            "<tr><td>261</td><td>1</td><td>25</td></tr>",
                            "<tr><td>262</td><td>1</td><td>25</td></tr>",
                            "<tr><td>263</td><td>2</td><td>26</td></tr>",
                            "<tr><td>266</td><td>2</td><td>26</td></tr>",
                            "<tr><td>267</td><td>2</td><td>26</td></tr>",
                            "<tr><td>268</td><td>2</td><td>26</td></tr>",
                            "<tr><td>269</td><td>2</td><td>26</td></tr>",
                            "<tr><td>275</td><td>2</td><td>26</td></tr>",
                            "<tr><td>276</td><td>2</td><td>26</td></tr>",
                            "<tr><td>277</td><td>2</td><td>26</td></tr>",
                            "<tr><td>273</td><td>2</td><td>26</td></tr>",
                            "<tr><td>279</td><td>2</td><td>26</td></tr>",
                            "<tr><td>281</td><td>2</td><td>26</td></tr>",
                            "<tr><td>282</td><td>2</td><td>26</td></tr>",
                            "<tr><td>283</td><td>2</td><td>26</td></tr>",
                            "<tr><td>284</td><td>2</td><td>26</td></tr>",
                            "<tr><td>285</td><td>2</td><td>26</td></tr>",
                            "<tr><td>290</td><td>2</td><td>26</td></tr>",
                            "<tr><td>291</td><td>2</td><td>26</td></tr>",
                            "<tr><td>292</td><td>2</td><td>26</td></tr>",
                            "<tr><td>293</td><td>2</td><td>26</td></tr>",
                            "<tr><td>288</td><td>2</td><td>26</td></tr>",
                            "<tr><td>222</td><td>2</td><td>26</td></tr>",
                            "<tr><td>223</td><td>2</td><td>26</td></tr>",
                            "<tr><td>224</td><td>2</td><td>26</td></tr>",
                            "<tr><td>225</td><td>2</td><td>26</td></tr>",
                            "<tr><td>227</td><td>2</td><td>26</td></tr>",
                            "<tr><td>229</td><td>2</td><td>26</td></tr>",
                            "<tr><td>231</td><td>2</td><td>26</td></tr>",
                            "<tr><td>232</td><td>2</td><td>26</td></tr>",
                            "<tr><td>237</td><td>2</td><td>26</td></tr>",
                            "<tr><td>239</td><td>2</td><td>26</td></tr>",
                            "<tr><td>241</td><td>2</td><td>26</td></tr>",
                            "<tr><td>242</td><td>2</td><td>26</td></tr>",
                            "<tr><td>243</td><td>2</td><td>26</td></tr>",
                            "<tr><td>244</td><td>2</td><td>26</td></tr>",
                            "<tr><td>245</td><td>2</td><td>26</td></tr>",
                            "<tr><td>246</td><td>2</td><td>26</td></tr>",
                            "<tr><td>247</td><td>2</td><td>26</td></tr>",
                            "<tr><td>248</td><td>2</td><td>26</td></tr>",
                            "<tr><td>249</td><td>2</td><td>26</td></tr>",
                            "<tr><td>253</td><td>2</td><td>26</td></tr>",
                            "<tr><td>254</td><td>2</td><td>26</td></tr>",
                            "<tr><td>257</td><td>2</td><td>26</td></tr>",
                            "<tr><td>258</td><td>2</td><td>26</td></tr>",
                            "<tr><td>259</td><td>2</td><td>26</td></tr>",
                            "<tr><td>260</td><td>2</td><td>26</td></tr>",
                            "<tr><td>200</td><td>2</td><td>26</td></tr>",
                            "<tr><td>215</td><td>2</td><td>26</td></tr>",
                            "<tr><td>217</td><td>2</td><td>26</td></tr>",
                            "<tr><td>219</td><td>2</td><td>26</td></tr>",
                            "<tr><td>206</td><td>2</td><td>26</td></tr>",
                            "<tr><td>207</td><td>2</td><td>26</td></tr>",
                            "<tr><td>208</td><td>2</td><td>26</td></tr>",
                            "<tr><td>210</td><td>2</td><td>26</td></tr>",
                            "<tr><td>211</td><td>2</td><td>26</td></tr>",
                            "<tr><td>212</td><td>3</td><td>27</td></tr>",
                            "<tr><td>213</td><td>3</td><td>27</td></tr>",
                            "<tr><td>214</td><td>3</td><td>27</td></tr>",
                            "<tr><td>209</td><td>3</td><td>27</td></tr>",
                            "<tr><td>220</td><td>3</td><td>27</td></tr>",
                            "<tr><td>221</td><td>3</td><td>27</td></tr>",
                            "<tr><td>218</td><td>3</td><td>27</td></tr>",
                            "<tr><td>216</td><td>3</td><td>27</td></tr>",
                            "<tr><td>199</td><td>3</td><td>27</td></tr>",
                            "<tr><td>201</td><td>3</td><td>27</td></tr>",
                            "<tr><td>202</td><td>3</td><td>27</td></tr>",
                            "<tr><td>203</td><td>3</td><td>27</td></tr>",
                            "<tr><td>204</td><td>3</td><td>27</td></tr>",
                            "<tr><td>205</td><td>3</td><td>27</td></tr>",
                            "<tr><td>159</td><td>3</td><td>27</td></tr>",
                            "<tr><td>255</td><td>3</td><td>27</td></tr>",
                            "<tr><td>256</td><td>3</td><td>27</td></tr>",
                            "<tr><td>250</td><td>3</td><td>27</td></tr>",
                            "<tr><td>251</td><td>3</td><td>27</td></tr>",
                            "<tr><td>252</td><td>3</td><td>27</td></tr>",
                            "<tr><td>240</td><td>3</td><td>27</td></tr>",
                            "<tr><td>238</td><td>3</td><td>27</td></tr>",
                            "<tr><td>233</td><td>3</td><td>27</td></tr>",
                            "<tr><td>234</td><td>3</td><td>27</td></tr>",
                            "<tr><td>235</td><td>3</td><td>27</td></tr>",
                            "<tr><td>236</td><td>3</td><td>27</td></tr>",
                            "<tr><td>230</td><td>3</td><td>27</td></tr>",
                            "<tr><td>228</td><td>3</td><td>27</td></tr>",
                            "<tr><td>226</td><td>3</td><td>27</td></tr>",
                            "<tr><td>289</td><td>3</td><td>27</td></tr>",
                            "<tr><td>294</td><td>3</td><td>27</td></tr>",
                            "<tr><td>286</td><td>3</td><td>27</td></tr>",
                            "<tr><td>287</td><td>3</td><td>27</td></tr>",
                            "<tr><td>280</td><td>3</td><td>27</td></tr>",
                            "<tr><td>274</td><td>3</td><td>27</td></tr>",
                            "<tr><td>278</td><td>3</td><td>27</td></tr>",
                            "<tr><td>270</td><td>3</td><td>27</td></tr>",
                            "<tr><td>271</td><td>3</td><td>27</td></tr>",
                            "<tr><td>272</td><td>3</td><td>27</td></tr>",
                            "<tr><td>264</td><td>3</td><td>27</td></tr>",
                            "<tr><td>265</td><td>3</td><td>27</td></tr>",
                            "</table>"
                        ]
                    }
                }
            ],
            "execution_count": 2
        },
        {
            "cell_type": "markdown",
            "source": [
                "2\\. feladat"
            ],
            "metadata": {
                "azdata_cell_guid": "c8470de1-8c63-400e-994f-a03baf70687b"
            },
            "attachments": {}
        },
        {
            "cell_type": "code",
            "source": [
                "SELECT SZOBA_FK as 'Szoba azonosító',\r\n",
                "(CASE\r\n",
                "WHEN GROUPING_ID(SZOBA_FK, YEAR(METTOL)) = 1 THEN 'Részösszeg'\r\n",
                "WHEN GROUPING_ID(SZOBA_FK, YEAR(METTOL)) = 3 THEN 'Összesen'\r\n",
                "ELSE CAST(YEAR(METTOL) as varchar) END) as 'Év',\r\n",
                "COUNT(*) as 'Foglalások száma'\r\n",
                "FROM Foglalas\r\n",
                "GROUP BY ROLLUP(SZOBA_FK, YEAR(METTOL))\r\n",
                "HAVING GROUPING_ID(SZOBA_FK, YEAR(METTOL)) IN (0, 1, 3)\r\n",
                ""
            ],
            "metadata": {
                "azdata_cell_guid": "ead6178e-5d8d-4fc3-a9a3-b2faea9246bd",
                "language": "sql"
            },
            "outputs": [
                {
                    "output_type": "display_data",
                    "data": {
                        "text/html": "(513 rows affected)"
                    },
                    "metadata": {}
                },
                {
                    "output_type": "display_data",
                    "data": {
                        "text/html": "Total execution time: 00:00:00.016"
                    },
                    "metadata": {}
                },
                {
                    "output_type": "execute_result",
                    "metadata": {},
                    "execution_count": 1,
                    "data": {
                        "application/vnd.dataresource+json": {
                            "schema": {
                                "fields": [
                                    {
                                        "name": "Szoba azonosító"
                                    },
                                    {
                                        "name": "Év"
                                    },
                                    {
                                        "name": "Foglalások száma"
                                    }
                                ]
                            },
                            "data": [
                                {
                                    "Szoba azonosító": "1",
                                    "Év": "2016",
                                    "Foglalások száma": "8"
                                },
                                {
                                    "Szoba azonosító": "1",
                                    "Év": "Részösszeg",
                                    "Foglalások száma": "8"
                                },
                                {
                                    "Szoba azonosító": "2",
                                    "Év": "2016",
                                    "Foglalások száma": "4"
                                },
                                {
                                    "Szoba azonosító": "2",
                                    "Év": "Részösszeg",
                                    "Foglalások száma": "4"
                                },
                                {
                                    "Szoba azonosító": "3",
                                    "Év": "2016",
                                    "Foglalások száma": "6"
                                },
                                {
                                    "Szoba azonosító": "3",
                                    "Év": "2017",
                                    "Foglalások száma": "2"
                                },
                                {
                                    "Szoba azonosító": "3",
                                    "Év": "Részösszeg",
                                    "Foglalások száma": "8"
                                },
                                {
                                    "Szoba azonosító": "4",
                                    "Év": "2016",
                                    "Foglalások száma": "5"
                                },
                                {
                                    "Szoba azonosító": "4",
                                    "Év": "2017",
                                    "Foglalások száma": "1"
                                },
                                {
                                    "Szoba azonosító": "4",
                                    "Év": "Részösszeg",
                                    "Foglalások száma": "6"
                                },
                                {
                                    "Szoba azonosító": "5",
                                    "Év": "2016",
                                    "Foglalások száma": "4"
                                },
                                {
                                    "Szoba azonosító": "5",
                                    "Év": "Részösszeg",
                                    "Foglalások száma": "4"
                                },
                                {
                                    "Szoba azonosító": "6",
                                    "Év": "2016",
                                    "Foglalások száma": "6"
                                },
                                {
                                    "Szoba azonosító": "6",
                                    "Év": "Részösszeg",
                                    "Foglalások száma": "6"
                                },
                                {
                                    "Szoba azonosító": "7",
                                    "Év": "2016",
                                    "Foglalások száma": "6"
                                },
                                {
                                    "Szoba azonosító": "7",
                                    "Év": "Részösszeg",
                                    "Foglalások száma": "6"
                                },
                                {
                                    "Szoba azonosító": "8",
                                    "Év": "2016",
                                    "Foglalások száma": "5"
                                },
                                {
                                    "Szoba azonosító": "8",
                                    "Év": "Részösszeg",
                                    "Foglalások száma": "5"
                                },
                                {
                                    "Szoba azonosító": "9",
                                    "Év": "2016",
                                    "Foglalások száma": "4"
                                },
                                {
                                    "Szoba azonosító": "9",
                                    "Év": "2017",
                                    "Foglalások száma": "2"
                                },
                                {
                                    "Szoba azonosító": "9",
                                    "Év": "Részösszeg",
                                    "Foglalások száma": "6"
                                },
                                {
                                    "Szoba azonosító": "10",
                                    "Év": "2016",
                                    "Foglalások száma": "4"
                                },
                                {
                                    "Szoba azonosító": "10",
                                    "Év": "Részösszeg",
                                    "Foglalások száma": "4"
                                },
                                {
                                    "Szoba azonosító": "11",
                                    "Év": "2016",
                                    "Foglalások száma": "3"
                                },
                                {
                                    "Szoba azonosító": "11",
                                    "Év": "2017",
                                    "Foglalások száma": "1"
                                },
                                {
                                    "Szoba azonosító": "11",
                                    "Év": "Részösszeg",
                                    "Foglalások száma": "4"
                                },
                                {
                                    "Szoba azonosító": "12",
                                    "Év": "2016",
                                    "Foglalások száma": "8"
                                },
                                {
                                    "Szoba azonosító": "12",
                                    "Év": "2017",
                                    "Foglalások száma": "1"
                                },
                                {
                                    "Szoba azonosító": "12",
                                    "Év": "Részösszeg",
                                    "Foglalások száma": "9"
                                },
                                {
                                    "Szoba azonosító": "13",
                                    "Év": "2016",
                                    "Foglalások száma": "3"
                                },
                                {
                                    "Szoba azonosító": "13",
                                    "Év": "2017",
                                    "Foglalások száma": "1"
                                },
                                {
                                    "Szoba azonosító": "13",
                                    "Év": "Részösszeg",
                                    "Foglalások száma": "4"
                                },
                                {
                                    "Szoba azonosító": "14",
                                    "Év": "2016",
                                    "Foglalások száma": "2"
                                },
                                {
                                    "Szoba azonosító": "14",
                                    "Év": "2017",
                                    "Foglalások száma": "1"
                                },
                                {
                                    "Szoba azonosító": "14",
                                    "Év": "Részösszeg",
                                    "Foglalások száma": "3"
                                },
                                {
                                    "Szoba azonosító": "15",
                                    "Év": "2016",
                                    "Foglalások száma": "4"
                                },
                                {
                                    "Szoba azonosító": "15",
                                    "Év": "2017",
                                    "Foglalások száma": "2"
                                },
                                {
                                    "Szoba azonosító": "15",
                                    "Év": "Részösszeg",
                                    "Foglalások száma": "6"
                                },
                                {
                                    "Szoba azonosító": "16",
                                    "Év": "2016",
                                    "Foglalások száma": "4"
                                },
                                {
                                    "Szoba azonosító": "16",
                                    "Év": "2017",
                                    "Foglalások száma": "1"
                                },
                                {
                                    "Szoba azonosító": "16",
                                    "Év": "Részösszeg",
                                    "Foglalások száma": "5"
                                },
                                {
                                    "Szoba azonosító": "17",
                                    "Év": "2016",
                                    "Foglalások száma": "5"
                                },
                                {
                                    "Szoba azonosító": "17",
                                    "Év": "2017",
                                    "Foglalások száma": "1"
                                },
                                {
                                    "Szoba azonosító": "17",
                                    "Év": "Részösszeg",
                                    "Foglalások száma": "6"
                                },
                                {
                                    "Szoba azonosító": "18",
                                    "Év": "2016",
                                    "Foglalások száma": "5"
                                },
                                {
                                    "Szoba azonosító": "18",
                                    "Év": "2017",
                                    "Foglalások száma": "1"
                                },
                                {
                                    "Szoba azonosító": "18",
                                    "Év": "Részösszeg",
                                    "Foglalások száma": "6"
                                },
                                {
                                    "Szoba azonosító": "19",
                                    "Év": "2016",
                                    "Foglalások száma": "5"
                                },
                                {
                                    "Szoba azonosító": "19",
                                    "Év": "2017",
                                    "Foglalások száma": "1"
                                },
                                {
                                    "Szoba azonosító": "19",
                                    "Év": "Részösszeg",
                                    "Foglalások száma": "6"
                                },
                                {
                                    "Szoba azonosító": "20",
                                    "Év": "2016",
                                    "Foglalások száma": "5"
                                },
                                {
                                    "Szoba azonosító": "20",
                                    "Év": "Részösszeg",
                                    "Foglalások száma": "5"
                                },
                                {
                                    "Szoba azonosító": "21",
                                    "Év": "2016",
                                    "Foglalások száma": "4"
                                },
                                {
                                    "Szoba azonosító": "21",
                                    "Év": "Részösszeg",
                                    "Foglalások száma": "4"
                                },
                                {
                                    "Szoba azonosító": "22",
                                    "Év": "2016",
                                    "Foglalások száma": "6"
                                },
                                {
                                    "Szoba azonosító": "22",
                                    "Év": "Részösszeg",
                                    "Foglalások száma": "6"
                                },
                                {
                                    "Szoba azonosító": "23",
                                    "Év": "2016",
                                    "Foglalások száma": "3"
                                },
                                {
                                    "Szoba azonosító": "23",
                                    "Év": "Részösszeg",
                                    "Foglalások száma": "3"
                                },
                                {
                                    "Szoba azonosító": "24",
                                    "Év": "2016",
                                    "Foglalások száma": "2"
                                },
                                {
                                    "Szoba azonosító": "24",
                                    "Év": "2017",
                                    "Foglalások száma": "1"
                                },
                                {
                                    "Szoba azonosító": "24",
                                    "Év": "Részösszeg",
                                    "Foglalások száma": "3"
                                },
                                {
                                    "Szoba azonosító": "25",
                                    "Év": "2016",
                                    "Foglalások száma": "2"
                                },
                                {
                                    "Szoba azonosító": "25",
                                    "Év": "Részösszeg",
                                    "Foglalások száma": "2"
                                },
                                {
                                    "Szoba azonosító": "26",
                                    "Év": "2016",
                                    "Foglalások száma": "2"
                                },
                                {
                                    "Szoba azonosító": "26",
                                    "Év": "Részösszeg",
                                    "Foglalások száma": "2"
                                },
                                {
                                    "Szoba azonosító": "27",
                                    "Év": "2016",
                                    "Foglalások száma": "6"
                                },
                                {
                                    "Szoba azonosító": "27",
                                    "Év": "2017",
                                    "Foglalások száma": "1"
                                },
                                {
                                    "Szoba azonosító": "27",
                                    "Év": "Részösszeg",
                                    "Foglalások száma": "7"
                                },
                                {
                                    "Szoba azonosító": "28",
                                    "Év": "2016",
                                    "Foglalások száma": "5"
                                },
                                {
                                    "Szoba azonosító": "28",
                                    "Év": "2017",
                                    "Foglalások száma": "1"
                                },
                                {
                                    "Szoba azonosító": "28",
                                    "Év": "Részösszeg",
                                    "Foglalások száma": "6"
                                },
                                {
                                    "Szoba azonosító": "29",
                                    "Év": "2016",
                                    "Foglalások száma": "5"
                                },
                                {
                                    "Szoba azonosító": "29",
                                    "Év": "2017",
                                    "Foglalások száma": "1"
                                },
                                {
                                    "Szoba azonosító": "29",
                                    "Év": "Részösszeg",
                                    "Foglalások száma": "6"
                                },
                                {
                                    "Szoba azonosító": "30",
                                    "Év": "2016",
                                    "Foglalások száma": "3"
                                },
                                {
                                    "Szoba azonosító": "30",
                                    "Év": "Részösszeg",
                                    "Foglalások száma": "3"
                                },
                                {
                                    "Szoba azonosító": "31",
                                    "Év": "2016",
                                    "Foglalások száma": "3"
                                },
                                {
                                    "Szoba azonosító": "31",
                                    "Év": "Részösszeg",
                                    "Foglalások száma": "3"
                                },
                                {
                                    "Szoba azonosító": "32",
                                    "Év": "2016",
                                    "Foglalások száma": "1"
                                },
                                {
                                    "Szoba azonosító": "32",
                                    "Év": "Részösszeg",
                                    "Foglalások száma": "1"
                                },
                                {
                                    "Szoba azonosító": "33",
                                    "Év": "2016",
                                    "Foglalások száma": "6"
                                },
                                {
                                    "Szoba azonosító": "33",
                                    "Év": "Részösszeg",
                                    "Foglalások száma": "6"
                                },
                                {
                                    "Szoba azonosító": "34",
                                    "Év": "2016",
                                    "Foglalások száma": "4"
                                },
                                {
                                    "Szoba azonosító": "34",
                                    "Év": "Részösszeg",
                                    "Foglalások száma": "4"
                                },
                                {
                                    "Szoba azonosító": "35",
                                    "Év": "2016",
                                    "Foglalások száma": "6"
                                },
                                {
                                    "Szoba azonosító": "35",
                                    "Év": "2017",
                                    "Foglalások száma": "3"
                                },
                                {
                                    "Szoba azonosító": "35",
                                    "Év": "Részösszeg",
                                    "Foglalások száma": "9"
                                },
                                {
                                    "Szoba azonosító": "36",
                                    "Év": "2016",
                                    "Foglalások száma": "6"
                                },
                                {
                                    "Szoba azonosító": "36",
                                    "Év": "Részösszeg",
                                    "Foglalások száma": "6"
                                },
                                {
                                    "Szoba azonosító": "37",
                                    "Év": "2016",
                                    "Foglalások száma": "3"
                                },
                                {
                                    "Szoba azonosító": "37",
                                    "Év": "Részösszeg",
                                    "Foglalások száma": "3"
                                },
                                {
                                    "Szoba azonosító": "38",
                                    "Év": "2016",
                                    "Foglalások száma": "5"
                                },
                                {
                                    "Szoba azonosító": "38",
                                    "Év": "2017",
                                    "Foglalások száma": "3"
                                },
                                {
                                    "Szoba azonosító": "38",
                                    "Év": "Részösszeg",
                                    "Foglalások száma": "8"
                                },
                                {
                                    "Szoba azonosító": "39",
                                    "Év": "2016",
                                    "Foglalások száma": "4"
                                },
                                {
                                    "Szoba azonosító": "39",
                                    "Év": "2017",
                                    "Foglalások száma": "3"
                                },
                                {
                                    "Szoba azonosító": "39",
                                    "Év": "Részösszeg",
                                    "Foglalások száma": "7"
                                },
                                {
                                    "Szoba azonosító": "40",
                                    "Év": "2016",
                                    "Foglalások száma": "4"
                                },
                                {
                                    "Szoba azonosító": "40",
                                    "Év": "Részösszeg",
                                    "Foglalások száma": "4"
                                },
                                {
                                    "Szoba azonosító": "41",
                                    "Év": "2016",
                                    "Foglalások száma": "2"
                                },
                                {
                                    "Szoba azonosító": "41",
                                    "Év": "Részösszeg",
                                    "Foglalások száma": "2"
                                },
                                {
                                    "Szoba azonosító": "42",
                                    "Év": "2016",
                                    "Foglalások száma": "5"
                                },
                                {
                                    "Szoba azonosító": "42",
                                    "Év": "2017",
                                    "Foglalások száma": "1"
                                },
                                {
                                    "Szoba azonosító": "42",
                                    "Év": "Részösszeg",
                                    "Foglalások száma": "6"
                                },
                                {
                                    "Szoba azonosító": "43",
                                    "Év": "2016",
                                    "Foglalások száma": "6"
                                },
                                {
                                    "Szoba azonosító": "43",
                                    "Év": "2017",
                                    "Foglalások száma": "2"
                                },
                                {
                                    "Szoba azonosító": "43",
                                    "Év": "Részösszeg",
                                    "Foglalások száma": "8"
                                },
                                {
                                    "Szoba azonosító": "44",
                                    "Év": "2016",
                                    "Foglalások száma": "4"
                                },
                                {
                                    "Szoba azonosító": "44",
                                    "Év": "2017",
                                    "Foglalások száma": "2"
                                },
                                {
                                    "Szoba azonosító": "44",
                                    "Év": "Részösszeg",
                                    "Foglalások száma": "6"
                                },
                                {
                                    "Szoba azonosító": "45",
                                    "Év": "2016",
                                    "Foglalások száma": "5"
                                },
                                {
                                    "Szoba azonosító": "45",
                                    "Év": "Részösszeg",
                                    "Foglalások száma": "5"
                                },
                                {
                                    "Szoba azonosító": "46",
                                    "Év": "2016",
                                    "Foglalások száma": "3"
                                },
                                {
                                    "Szoba azonosító": "46",
                                    "Év": "2017",
                                    "Foglalások száma": "1"
                                },
                                {
                                    "Szoba azonosító": "46",
                                    "Év": "Részösszeg",
                                    "Foglalások száma": "4"
                                },
                                {
                                    "Szoba azonosító": "47",
                                    "Év": "2016",
                                    "Foglalások száma": "2"
                                },
                                {
                                    "Szoba azonosító": "47",
                                    "Év": "Részösszeg",
                                    "Foglalások száma": "2"
                                },
                                {
                                    "Szoba azonosító": "48",
                                    "Év": "2016",
                                    "Foglalások száma": "6"
                                },
                                {
                                    "Szoba azonosító": "48",
                                    "Év": "2017",
                                    "Foglalások száma": "3"
                                },
                                {
                                    "Szoba azonosító": "48",
                                    "Év": "Részösszeg",
                                    "Foglalások száma": "9"
                                },
                                {
                                    "Szoba azonosító": "49",
                                    "Év": "2016",
                                    "Foglalások száma": "6"
                                },
                                {
                                    "Szoba azonosító": "49",
                                    "Év": "2017",
                                    "Foglalások száma": "1"
                                },
                                {
                                    "Szoba azonosító": "49",
                                    "Év": "Részösszeg",
                                    "Foglalások száma": "7"
                                },
                                {
                                    "Szoba azonosító": "50",
                                    "Év": "2016",
                                    "Foglalások száma": "4"
                                },
                                {
                                    "Szoba azonosító": "50",
                                    "Év": "Részösszeg",
                                    "Foglalások száma": "4"
                                },
                                {
                                    "Szoba azonosító": "51",
                                    "Év": "2016",
                                    "Foglalások száma": "3"
                                },
                                {
                                    "Szoba azonosító": "51",
                                    "Év": "2017",
                                    "Foglalások száma": "2"
                                },
                                {
                                    "Szoba azonosító": "51",
                                    "Év": "Részösszeg",
                                    "Foglalások száma": "5"
                                },
                                {
                                    "Szoba azonosító": "52",
                                    "Év": "2016",
                                    "Foglalások száma": "3"
                                },
                                {
                                    "Szoba azonosító": "52",
                                    "Év": "2017",
                                    "Foglalások száma": "2"
                                },
                                {
                                    "Szoba azonosító": "52",
                                    "Év": "Részösszeg",
                                    "Foglalások száma": "5"
                                },
                                {
                                    "Szoba azonosító": "53",
                                    "Év": "2016",
                                    "Foglalások száma": "2"
                                },
                                {
                                    "Szoba azonosító": "53",
                                    "Év": "Részösszeg",
                                    "Foglalások száma": "2"
                                },
                                {
                                    "Szoba azonosító": "54",
                                    "Év": "2016",
                                    "Foglalások száma": "6"
                                },
                                {
                                    "Szoba azonosító": "54",
                                    "Év": "Részösszeg",
                                    "Foglalások száma": "6"
                                },
                                {
                                    "Szoba azonosító": "55",
                                    "Év": "2016",
                                    "Foglalások száma": "6"
                                },
                                {
                                    "Szoba azonosító": "55",
                                    "Év": "2017",
                                    "Foglalások száma": "2"
                                },
                                {
                                    "Szoba azonosító": "55",
                                    "Év": "Részösszeg",
                                    "Foglalások száma": "8"
                                },
                                {
                                    "Szoba azonosító": "56",
                                    "Év": "2016",
                                    "Foglalások száma": "2"
                                },
                                {
                                    "Szoba azonosító": "56",
                                    "Év": "Részösszeg",
                                    "Foglalások száma": "2"
                                },
                                {
                                    "Szoba azonosító": "57",
                                    "Év": "2016",
                                    "Foglalások száma": "2"
                                },
                                {
                                    "Szoba azonosító": "57",
                                    "Év": "2017",
                                    "Foglalások száma": "2"
                                },
                                {
                                    "Szoba azonosító": "57",
                                    "Év": "Részösszeg",
                                    "Foglalások száma": "4"
                                },
                                {
                                    "Szoba azonosító": "58",
                                    "Év": "2016",
                                    "Foglalások száma": "12"
                                },
                                {
                                    "Szoba azonosító": "58",
                                    "Év": "2017",
                                    "Foglalások száma": "1"
                                },
                                {
                                    "Szoba azonosító": "58",
                                    "Év": "Részösszeg",
                                    "Foglalások száma": "13"
                                },
                                {
                                    "Szoba azonosító": "59",
                                    "Év": "2016",
                                    "Foglalások száma": "6"
                                },
                                {
                                    "Szoba azonosító": "59",
                                    "Év": "2017",
                                    "Foglalások száma": "1"
                                },
                                {
                                    "Szoba azonosító": "59",
                                    "Év": "Részösszeg",
                                    "Foglalások száma": "7"
                                },
                                {
                                    "Szoba azonosító": "60",
                                    "Év": "2016",
                                    "Foglalások száma": "1"
                                },
                                {
                                    "Szoba azonosító": "60",
                                    "Év": "Részösszeg",
                                    "Foglalások száma": "1"
                                },
                                {
                                    "Szoba azonosító": "61",
                                    "Év": "2016",
                                    "Foglalások száma": "4"
                                },
                                {
                                    "Szoba azonosító": "61",
                                    "Év": "2017",
                                    "Foglalások száma": "1"
                                },
                                {
                                    "Szoba azonosító": "61",
                                    "Év": "Részösszeg",
                                    "Foglalások száma": "5"
                                },
                                {
                                    "Szoba azonosító": "62",
                                    "Év": "2016",
                                    "Foglalások száma": "4"
                                },
                                {
                                    "Szoba azonosító": "62",
                                    "Év": "2017",
                                    "Foglalások száma": "1"
                                },
                                {
                                    "Szoba azonosító": "62",
                                    "Év": "Részösszeg",
                                    "Foglalások száma": "5"
                                },
                                {
                                    "Szoba azonosító": "63",
                                    "Év": "2016",
                                    "Foglalások száma": "4"
                                },
                                {
                                    "Szoba azonosító": "63",
                                    "Év": "Részösszeg",
                                    "Foglalások száma": "4"
                                },
                                {
                                    "Szoba azonosító": "64",
                                    "Év": "2016",
                                    "Foglalások száma": "3"
                                },
                                {
                                    "Szoba azonosító": "64",
                                    "Év": "2017",
                                    "Foglalások száma": "3"
                                },
                                {
                                    "Szoba azonosító": "64",
                                    "Év": "Részösszeg",
                                    "Foglalások száma": "6"
                                },
                                {
                                    "Szoba azonosító": "65",
                                    "Év": "2016",
                                    "Foglalások száma": "1"
                                },
                                {
                                    "Szoba azonosító": "65",
                                    "Év": "Részösszeg",
                                    "Foglalások száma": "1"
                                },
                                {
                                    "Szoba azonosító": "66",
                                    "Év": "2016",
                                    "Foglalások száma": "4"
                                },
                                {
                                    "Szoba azonosító": "66",
                                    "Év": "Részösszeg",
                                    "Foglalások száma": "4"
                                },
                                {
                                    "Szoba azonosító": "67",
                                    "Év": "2016",
                                    "Foglalások száma": "4"
                                },
                                {
                                    "Szoba azonosító": "67",
                                    "Év": "2017",
                                    "Foglalások száma": "2"
                                },
                                {
                                    "Szoba azonosító": "67",
                                    "Év": "Részösszeg",
                                    "Foglalások száma": "6"
                                },
                                {
                                    "Szoba azonosító": "68",
                                    "Év": "2016",
                                    "Foglalások száma": "3"
                                },
                                {
                                    "Szoba azonosító": "68",
                                    "Év": "Részösszeg",
                                    "Foglalások száma": "3"
                                },
                                {
                                    "Szoba azonosító": "69",
                                    "Év": "2016",
                                    "Foglalások száma": "4"
                                },
                                {
                                    "Szoba azonosító": "69",
                                    "Év": "Részösszeg",
                                    "Foglalások száma": "4"
                                },
                                {
                                    "Szoba azonosító": "70",
                                    "Év": "2016",
                                    "Foglalások száma": "10"
                                },
                                {
                                    "Szoba azonosító": "70",
                                    "Év": "2017",
                                    "Foglalások száma": "1"
                                },
                                {
                                    "Szoba azonosító": "70",
                                    "Év": "Részösszeg",
                                    "Foglalások száma": "11"
                                },
                                {
                                    "Szoba azonosító": "71",
                                    "Év": "2016",
                                    "Foglalások száma": "3"
                                },
                                {
                                    "Szoba azonosító": "71",
                                    "Év": "Részösszeg",
                                    "Foglalások száma": "3"
                                },
                                {
                                    "Szoba azonosító": "72",
                                    "Év": "2016",
                                    "Foglalások száma": "4"
                                },
                                {
                                    "Szoba azonosító": "72",
                                    "Év": "Részösszeg",
                                    "Foglalások száma": "4"
                                },
                                {
                                    "Szoba azonosító": "73",
                                    "Év": "2016",
                                    "Foglalások száma": "4"
                                },
                                {
                                    "Szoba azonosító": "73",
                                    "Év": "Részösszeg",
                                    "Foglalások száma": "4"
                                },
                                {
                                    "Szoba azonosító": "74",
                                    "Év": "2016",
                                    "Foglalások száma": "9"
                                },
                                {
                                    "Szoba azonosító": "74",
                                    "Év": "Részösszeg",
                                    "Foglalások száma": "9"
                                },
                                {
                                    "Szoba azonosító": "75",
                                    "Év": "2016",
                                    "Foglalások száma": "1"
                                },
                                {
                                    "Szoba azonosító": "75",
                                    "Év": "2017",
                                    "Foglalások száma": "2"
                                },
                                {
                                    "Szoba azonosító": "75",
                                    "Év": "Részösszeg",
                                    "Foglalások száma": "3"
                                },
                                {
                                    "Szoba azonosító": "76",
                                    "Év": "2016",
                                    "Foglalások száma": "2"
                                },
                                {
                                    "Szoba azonosító": "76",
                                    "Év": "2017",
                                    "Foglalások száma": "1"
                                },
                                {
                                    "Szoba azonosító": "76",
                                    "Év": "Részösszeg",
                                    "Foglalások száma": "3"
                                },
                                {
                                    "Szoba azonosító": "77",
                                    "Év": "2016",
                                    "Foglalások száma": "4"
                                },
                                {
                                    "Szoba azonosító": "77",
                                    "Év": "2017",
                                    "Foglalások száma": "2"
                                },
                                {
                                    "Szoba azonosító": "77",
                                    "Év": "Részösszeg",
                                    "Foglalások száma": "6"
                                },
                                {
                                    "Szoba azonosító": "78",
                                    "Év": "2016",
                                    "Foglalások száma": "5"
                                },
                                {
                                    "Szoba azonosító": "78",
                                    "Év": "2017",
                                    "Foglalások száma": "1"
                                },
                                {
                                    "Szoba azonosító": "78",
                                    "Év": "Részösszeg",
                                    "Foglalások száma": "6"
                                },
                                {
                                    "Szoba azonosító": "79",
                                    "Év": "2016",
                                    "Foglalások száma": "4"
                                },
                                {
                                    "Szoba azonosító": "79",
                                    "Év": "2017",
                                    "Foglalások száma": "1"
                                },
                                {
                                    "Szoba azonosító": "79",
                                    "Év": "Részösszeg",
                                    "Foglalások száma": "5"
                                },
                                {
                                    "Szoba azonosító": "80",
                                    "Év": "2016",
                                    "Foglalások száma": "7"
                                },
                                {
                                    "Szoba azonosító": "80",
                                    "Év": "Részösszeg",
                                    "Foglalások száma": "7"
                                },
                                {
                                    "Szoba azonosító": "81",
                                    "Év": "2016",
                                    "Foglalások száma": "1"
                                },
                                {
                                    "Szoba azonosító": "81",
                                    "Év": "2017",
                                    "Foglalások száma": "4"
                                },
                                {
                                    "Szoba azonosító": "81",
                                    "Év": "Részösszeg",
                                    "Foglalások száma": "5"
                                },
                                {
                                    "Szoba azonosító": "82",
                                    "Év": "2016",
                                    "Foglalások száma": "6"
                                },
                                {
                                    "Szoba azonosító": "82",
                                    "Év": "Részösszeg",
                                    "Foglalások száma": "6"
                                },
                                {
                                    "Szoba azonosító": "83",
                                    "Év": "2016",
                                    "Foglalások száma": "8"
                                },
                                {
                                    "Szoba azonosító": "83",
                                    "Év": "Részösszeg",
                                    "Foglalások száma": "8"
                                },
                                {
                                    "Szoba azonosító": "84",
                                    "Év": "2016",
                                    "Foglalások száma": "4"
                                },
                                {
                                    "Szoba azonosító": "84",
                                    "Év": "Részösszeg",
                                    "Foglalások száma": "4"
                                },
                                {
                                    "Szoba azonosító": "85",
                                    "Év": "2016",
                                    "Foglalások száma": "3"
                                },
                                {
                                    "Szoba azonosító": "85",
                                    "Év": "2017",
                                    "Foglalások száma": "1"
                                },
                                {
                                    "Szoba azonosító": "85",
                                    "Év": "Részösszeg",
                                    "Foglalások száma": "4"
                                },
                                {
                                    "Szoba azonosító": "86",
                                    "Év": "2016",
                                    "Foglalások száma": "4"
                                },
                                {
                                    "Szoba azonosító": "86",
                                    "Év": "2017",
                                    "Foglalások száma": "1"
                                },
                                {
                                    "Szoba azonosító": "86",
                                    "Év": "Részösszeg",
                                    "Foglalások száma": "5"
                                },
                                {
                                    "Szoba azonosító": "87",
                                    "Év": "2016",
                                    "Foglalások száma": "4"
                                },
                                {
                                    "Szoba azonosító": "87",
                                    "Év": "2017",
                                    "Foglalások száma": "1"
                                },
                                {
                                    "Szoba azonosító": "87",
                                    "Év": "Részösszeg",
                                    "Foglalások száma": "5"
                                },
                                {
                                    "Szoba azonosító": "88",
                                    "Év": "2016",
                                    "Foglalások száma": "6"
                                },
                                {
                                    "Szoba azonosító": "88",
                                    "Év": "2017",
                                    "Foglalások száma": "2"
                                },
                                {
                                    "Szoba azonosító": "88",
                                    "Év": "Részösszeg",
                                    "Foglalások száma": "8"
                                },
                                {
                                    "Szoba azonosító": "89",
                                    "Év": "2016",
                                    "Foglalások száma": "7"
                                },
                                {
                                    "Szoba azonosító": "89",
                                    "Év": "2017",
                                    "Foglalások száma": "1"
                                },
                                {
                                    "Szoba azonosító": "89",
                                    "Év": "Részösszeg",
                                    "Foglalások száma": "8"
                                },
                                {
                                    "Szoba azonosító": "90",
                                    "Év": "2016",
                                    "Foglalások száma": "4"
                                },
                                {
                                    "Szoba azonosító": "90",
                                    "Év": "Részösszeg",
                                    "Foglalások száma": "4"
                                },
                                {
                                    "Szoba azonosító": "91",
                                    "Év": "2016",
                                    "Foglalások száma": "4"
                                },
                                {
                                    "Szoba azonosító": "91",
                                    "Év": "Részösszeg",
                                    "Foglalások száma": "4"
                                },
                                {
                                    "Szoba azonosító": "92",
                                    "Év": "2016",
                                    "Foglalások száma": "4"
                                },
                                {
                                    "Szoba azonosító": "92",
                                    "Év": "2017",
                                    "Foglalások száma": "2"
                                },
                                {
                                    "Szoba azonosító": "92",
                                    "Év": "Részösszeg",
                                    "Foglalások száma": "6"
                                },
                                {
                                    "Szoba azonosító": "93",
                                    "Év": "2016",
                                    "Foglalások száma": "5"
                                },
                                {
                                    "Szoba azonosító": "93",
                                    "Év": "Részösszeg",
                                    "Foglalások száma": "5"
                                },
                                {
                                    "Szoba azonosító": "94",
                                    "Év": "2016",
                                    "Foglalások száma": "8"
                                },
                                {
                                    "Szoba azonosító": "94",
                                    "Év": "2017",
                                    "Foglalások száma": "2"
                                },
                                {
                                    "Szoba azonosító": "94",
                                    "Év": "Részösszeg",
                                    "Foglalások száma": "10"
                                },
                                {
                                    "Szoba azonosító": "95",
                                    "Év": "2016",
                                    "Foglalások száma": "3"
                                },
                                {
                                    "Szoba azonosító": "95",
                                    "Év": "2017",
                                    "Foglalások száma": "1"
                                },
                                {
                                    "Szoba azonosító": "95",
                                    "Év": "Részösszeg",
                                    "Foglalások száma": "4"
                                },
                                {
                                    "Szoba azonosító": "96",
                                    "Év": "2016",
                                    "Foglalások száma": "5"
                                },
                                {
                                    "Szoba azonosító": "96",
                                    "Év": "2017",
                                    "Foglalások száma": "2"
                                },
                                {
                                    "Szoba azonosító": "96",
                                    "Év": "Részösszeg",
                                    "Foglalások száma": "7"
                                },
                                {
                                    "Szoba azonosító": "97",
                                    "Év": "2016",
                                    "Foglalások száma": "5"
                                },
                                {
                                    "Szoba azonosító": "97",
                                    "Év": "2017",
                                    "Foglalások száma": "2"
                                },
                                {
                                    "Szoba azonosító": "97",
                                    "Év": "Részösszeg",
                                    "Foglalások száma": "7"
                                },
                                {
                                    "Szoba azonosító": "98",
                                    "Év": "2016",
                                    "Foglalások száma": "4"
                                },
                                {
                                    "Szoba azonosító": "98",
                                    "Év": "Részösszeg",
                                    "Foglalások száma": "4"
                                },
                                {
                                    "Szoba azonosító": "99",
                                    "Év": "2016",
                                    "Foglalások száma": "4"
                                },
                                {
                                    "Szoba azonosító": "99",
                                    "Év": "2017",
                                    "Foglalások száma": "1"
                                },
                                {
                                    "Szoba azonosító": "99",
                                    "Év": "Részösszeg",
                                    "Foglalások száma": "5"
                                },
                                {
                                    "Szoba azonosító": "100",
                                    "Év": "2016",
                                    "Foglalások száma": "3"
                                },
                                {
                                    "Szoba azonosító": "100",
                                    "Év": "2017",
                                    "Foglalások száma": "1"
                                },
                                {
                                    "Szoba azonosító": "100",
                                    "Év": "Részösszeg",
                                    "Foglalások száma": "4"
                                },
                                {
                                    "Szoba azonosító": "101",
                                    "Év": "2016",
                                    "Foglalások száma": "2"
                                },
                                {
                                    "Szoba azonosító": "101",
                                    "Év": "2017",
                                    "Foglalások száma": "1"
                                },
                                {
                                    "Szoba azonosító": "101",
                                    "Év": "Részösszeg",
                                    "Foglalások száma": "3"
                                },
                                {
                                    "Szoba azonosító": "102",
                                    "Év": "2016",
                                    "Foglalások száma": "2"
                                },
                                {
                                    "Szoba azonosító": "102",
                                    "Év": "Részösszeg",
                                    "Foglalások száma": "2"
                                },
                                {
                                    "Szoba azonosító": "103",
                                    "Év": "2016",
                                    "Foglalások száma": "3"
                                },
                                {
                                    "Szoba azonosító": "103",
                                    "Év": "2017",
                                    "Foglalások száma": "1"
                                },
                                {
                                    "Szoba azonosító": "103",
                                    "Év": "Részösszeg",
                                    "Foglalások száma": "4"
                                },
                                {
                                    "Szoba azonosító": "104",
                                    "Év": "2016",
                                    "Foglalások száma": "2"
                                },
                                {
                                    "Szoba azonosító": "104",
                                    "Év": "2017",
                                    "Foglalások száma": "2"
                                },
                                {
                                    "Szoba azonosító": "104",
                                    "Év": "Részösszeg",
                                    "Foglalások száma": "4"
                                },
                                {
                                    "Szoba azonosító": "105",
                                    "Év": "2016",
                                    "Foglalások száma": "1"
                                },
                                {
                                    "Szoba azonosító": "105",
                                    "Év": "2017",
                                    "Foglalások száma": "1"
                                },
                                {
                                    "Szoba azonosító": "105",
                                    "Év": "Részösszeg",
                                    "Foglalások száma": "2"
                                },
                                {
                                    "Szoba azonosító": "106",
                                    "Év": "2016",
                                    "Foglalások száma": "5"
                                },
                                {
                                    "Szoba azonosító": "106",
                                    "Év": "2017",
                                    "Foglalások száma": "1"
                                },
                                {
                                    "Szoba azonosító": "106",
                                    "Év": "Részösszeg",
                                    "Foglalások száma": "6"
                                },
                                {
                                    "Szoba azonosító": "107",
                                    "Év": "2016",
                                    "Foglalások száma": "3"
                                },
                                {
                                    "Szoba azonosító": "107",
                                    "Év": "2017",
                                    "Foglalások száma": "2"
                                },
                                {
                                    "Szoba azonosító": "107",
                                    "Év": "Részösszeg",
                                    "Foglalások száma": "5"
                                },
                                {
                                    "Szoba azonosító": "108",
                                    "Év": "2016",
                                    "Foglalások száma": "2"
                                },
                                {
                                    "Szoba azonosító": "108",
                                    "Év": "Részösszeg",
                                    "Foglalások száma": "2"
                                },
                                {
                                    "Szoba azonosító": "109",
                                    "Év": "2016",
                                    "Foglalások száma": "6"
                                },
                                {
                                    "Szoba azonosító": "109",
                                    "Év": "2017",
                                    "Foglalások száma": "1"
                                },
                                {
                                    "Szoba azonosító": "109",
                                    "Év": "Részösszeg",
                                    "Foglalások száma": "7"
                                },
                                {
                                    "Szoba azonosító": "110",
                                    "Év": "2016",
                                    "Foglalások száma": "6"
                                },
                                {
                                    "Szoba azonosító": "110",
                                    "Év": "2017",
                                    "Foglalások száma": "2"
                                },
                                {
                                    "Szoba azonosító": "110",
                                    "Év": "Részösszeg",
                                    "Foglalások száma": "8"
                                },
                                {
                                    "Szoba azonosító": "111",
                                    "Év": "2016",
                                    "Foglalások száma": "5"
                                },
                                {
                                    "Szoba azonosító": "111",
                                    "Év": "Részösszeg",
                                    "Foglalások száma": "5"
                                },
                                {
                                    "Szoba azonosító": "112",
                                    "Év": "2016",
                                    "Foglalások száma": "4"
                                },
                                {
                                    "Szoba azonosító": "112",
                                    "Év": "2017",
                                    "Foglalások száma": "1"
                                },
                                {
                                    "Szoba azonosító": "112",
                                    "Év": "Részösszeg",
                                    "Foglalások száma": "5"
                                },
                                {
                                    "Szoba azonosító": "113",
                                    "Év": "2016",
                                    "Foglalások száma": "3"
                                },
                                {
                                    "Szoba azonosító": "113",
                                    "Év": "2017",
                                    "Foglalások száma": "2"
                                },
                                {
                                    "Szoba azonosító": "113",
                                    "Év": "Részösszeg",
                                    "Foglalások száma": "5"
                                },
                                {
                                    "Szoba azonosító": "114",
                                    "Év": "2016",
                                    "Foglalások száma": "3"
                                },
                                {
                                    "Szoba azonosító": "114",
                                    "Év": "2017",
                                    "Foglalások száma": "1"
                                },
                                {
                                    "Szoba azonosító": "114",
                                    "Év": "Részösszeg",
                                    "Foglalások száma": "4"
                                },
                                {
                                    "Szoba azonosító": "115",
                                    "Év": "2016",
                                    "Foglalások száma": "5"
                                },
                                {
                                    "Szoba azonosító": "115",
                                    "Év": "2017",
                                    "Foglalások száma": "2"
                                },
                                {
                                    "Szoba azonosító": "115",
                                    "Év": "Részösszeg",
                                    "Foglalások száma": "7"
                                },
                                {
                                    "Szoba azonosító": "116",
                                    "Év": "2017",
                                    "Foglalások száma": "2"
                                },
                                {
                                    "Szoba azonosító": "116",
                                    "Év": "Részösszeg",
                                    "Foglalások száma": "2"
                                },
                                {
                                    "Szoba azonosító": "117",
                                    "Év": "2016",
                                    "Foglalások száma": "7"
                                },
                                {
                                    "Szoba azonosító": "117",
                                    "Év": "2017",
                                    "Foglalások száma": "1"
                                },
                                {
                                    "Szoba azonosító": "117",
                                    "Év": "Részösszeg",
                                    "Foglalások száma": "8"
                                },
                                {
                                    "Szoba azonosító": "118",
                                    "Év": "2016",
                                    "Foglalások száma": "5"
                                },
                                {
                                    "Szoba azonosító": "118",
                                    "Év": "2017",
                                    "Foglalások száma": "2"
                                },
                                {
                                    "Szoba azonosító": "118",
                                    "Év": "Részösszeg",
                                    "Foglalások száma": "7"
                                },
                                {
                                    "Szoba azonosító": "119",
                                    "Év": "2016",
                                    "Foglalások száma": "3"
                                },
                                {
                                    "Szoba azonosító": "119",
                                    "Év": "2017",
                                    "Foglalások száma": "2"
                                },
                                {
                                    "Szoba azonosító": "119",
                                    "Év": "Részösszeg",
                                    "Foglalások száma": "5"
                                },
                                {
                                    "Szoba azonosító": "120",
                                    "Év": "2016",
                                    "Foglalások száma": "4"
                                },
                                {
                                    "Szoba azonosító": "120",
                                    "Év": "2017",
                                    "Foglalások száma": "2"
                                },
                                {
                                    "Szoba azonosító": "120",
                                    "Év": "Részösszeg",
                                    "Foglalások száma": "6"
                                },
                                {
                                    "Szoba azonosító": "121",
                                    "Év": "2016",
                                    "Foglalások száma": "8"
                                },
                                {
                                    "Szoba azonosító": "121",
                                    "Év": "Részösszeg",
                                    "Foglalások száma": "8"
                                },
                                {
                                    "Szoba azonosító": "122",
                                    "Év": "2016",
                                    "Foglalások száma": "8"
                                },
                                {
                                    "Szoba azonosító": "122",
                                    "Év": "2017",
                                    "Foglalások száma": "1"
                                },
                                {
                                    "Szoba azonosító": "122",
                                    "Év": "Részösszeg",
                                    "Foglalások száma": "9"
                                },
                                {
                                    "Szoba azonosító": "123",
                                    "Év": "2016",
                                    "Foglalások száma": "5"
                                },
                                {
                                    "Szoba azonosító": "123",
                                    "Év": "Részösszeg",
                                    "Foglalások száma": "5"
                                },
                                {
                                    "Szoba azonosító": "124",
                                    "Év": "2016",
                                    "Foglalások száma": "4"
                                },
                                {
                                    "Szoba azonosító": "124",
                                    "Év": "2017",
                                    "Foglalások száma": "2"
                                },
                                {
                                    "Szoba azonosító": "124",
                                    "Év": "Részösszeg",
                                    "Foglalások száma": "6"
                                },
                                {
                                    "Szoba azonosító": "125",
                                    "Év": "2016",
                                    "Foglalások száma": "1"
                                },
                                {
                                    "Szoba azonosító": "125",
                                    "Év": "Részösszeg",
                                    "Foglalások száma": "1"
                                },
                                {
                                    "Szoba azonosító": "126",
                                    "Év": "2016",
                                    "Foglalások száma": "4"
                                },
                                {
                                    "Szoba azonosító": "126",
                                    "Év": "2017",
                                    "Foglalások száma": "2"
                                },
                                {
                                    "Szoba azonosító": "126",
                                    "Év": "Részösszeg",
                                    "Foglalások száma": "6"
                                },
                                {
                                    "Szoba azonosító": "127",
                                    "Év": "2016",
                                    "Foglalások száma": "6"
                                },
                                {
                                    "Szoba azonosító": "127",
                                    "Év": "2017",
                                    "Foglalások száma": "1"
                                },
                                {
                                    "Szoba azonosító": "127",
                                    "Év": "Részösszeg",
                                    "Foglalások száma": "7"
                                },
                                {
                                    "Szoba azonosító": "128",
                                    "Év": "2016",
                                    "Foglalások száma": "3"
                                },
                                {
                                    "Szoba azonosító": "128",
                                    "Év": "2017",
                                    "Foglalások száma": "2"
                                },
                                {
                                    "Szoba azonosító": "128",
                                    "Év": "Részösszeg",
                                    "Foglalások száma": "5"
                                },
                                {
                                    "Szoba azonosító": "129",
                                    "Év": "2016",
                                    "Foglalások száma": "2"
                                },
                                {
                                    "Szoba azonosító": "129",
                                    "Év": "2017",
                                    "Foglalások száma": "2"
                                },
                                {
                                    "Szoba azonosító": "129",
                                    "Év": "Részösszeg",
                                    "Foglalások száma": "4"
                                },
                                {
                                    "Szoba azonosító": "130",
                                    "Év": "2016",
                                    "Foglalások száma": "5"
                                },
                                {
                                    "Szoba azonosító": "130",
                                    "Év": "2017",
                                    "Foglalások száma": "1"
                                },
                                {
                                    "Szoba azonosító": "130",
                                    "Év": "Részösszeg",
                                    "Foglalások száma": "6"
                                },
                                {
                                    "Szoba azonosító": "131",
                                    "Év": "2016",
                                    "Foglalások száma": "4"
                                },
                                {
                                    "Szoba azonosító": "131",
                                    "Év": "2017",
                                    "Foglalások száma": "1"
                                },
                                {
                                    "Szoba azonosító": "131",
                                    "Év": "Részösszeg",
                                    "Foglalások száma": "5"
                                },
                                {
                                    "Szoba azonosító": "132",
                                    "Év": "2016",
                                    "Foglalások száma": "5"
                                },
                                {
                                    "Szoba azonosító": "132",
                                    "Év": "2017",
                                    "Foglalások száma": "1"
                                },
                                {
                                    "Szoba azonosító": "132",
                                    "Év": "Részösszeg",
                                    "Foglalások száma": "6"
                                },
                                {
                                    "Szoba azonosító": "133",
                                    "Év": "2016",
                                    "Foglalások száma": "5"
                                },
                                {
                                    "Szoba azonosító": "133",
                                    "Év": "2017",
                                    "Foglalások száma": "1"
                                },
                                {
                                    "Szoba azonosító": "133",
                                    "Év": "Részösszeg",
                                    "Foglalások száma": "6"
                                },
                                {
                                    "Szoba azonosító": "134",
                                    "Év": "2016",
                                    "Foglalások száma": "5"
                                },
                                {
                                    "Szoba azonosító": "134",
                                    "Év": "2017",
                                    "Foglalások száma": "1"
                                },
                                {
                                    "Szoba azonosító": "134",
                                    "Év": "Részösszeg",
                                    "Foglalások száma": "6"
                                },
                                {
                                    "Szoba azonosító": "135",
                                    "Év": "2016",
                                    "Foglalások száma": "3"
                                },
                                {
                                    "Szoba azonosító": "135",
                                    "Év": "Részösszeg",
                                    "Foglalások száma": "3"
                                },
                                {
                                    "Szoba azonosító": "136",
                                    "Év": "2016",
                                    "Foglalások száma": "3"
                                },
                                {
                                    "Szoba azonosító": "136",
                                    "Év": "Részösszeg",
                                    "Foglalások száma": "3"
                                },
                                {
                                    "Szoba azonosító": "137",
                                    "Év": "2016",
                                    "Foglalások száma": "6"
                                },
                                {
                                    "Szoba azonosító": "137",
                                    "Év": "Részösszeg",
                                    "Foglalások száma": "6"
                                },
                                {
                                    "Szoba azonosító": "138",
                                    "Év": "2016",
                                    "Foglalások száma": "7"
                                },
                                {
                                    "Szoba azonosító": "138",
                                    "Év": "Részösszeg",
                                    "Foglalások száma": "7"
                                },
                                {
                                    "Szoba azonosító": "139",
                                    "Év": "2016",
                                    "Foglalások száma": "5"
                                },
                                {
                                    "Szoba azonosító": "139",
                                    "Év": "2017",
                                    "Foglalások száma": "2"
                                },
                                {
                                    "Szoba azonosító": "139",
                                    "Év": "Részösszeg",
                                    "Foglalások száma": "7"
                                },
                                {
                                    "Szoba azonosító": "140",
                                    "Év": "2016",
                                    "Foglalások száma": "8"
                                },
                                {
                                    "Szoba azonosító": "140",
                                    "Év": "Részösszeg",
                                    "Foglalások száma": "8"
                                },
                                {
                                    "Szoba azonosító": "141",
                                    "Év": "2016",
                                    "Foglalások száma": "6"
                                },
                                {
                                    "Szoba azonosító": "141",
                                    "Év": "Részösszeg",
                                    "Foglalások száma": "6"
                                },
                                {
                                    "Szoba azonosító": "142",
                                    "Év": "2016",
                                    "Foglalások száma": "1"
                                },
                                {
                                    "Szoba azonosító": "142",
                                    "Év": "2017",
                                    "Foglalások száma": "1"
                                },
                                {
                                    "Szoba azonosító": "142",
                                    "Év": "Részösszeg",
                                    "Foglalások száma": "2"
                                },
                                {
                                    "Szoba azonosító": "143",
                                    "Év": "2016",
                                    "Foglalások száma": "6"
                                },
                                {
                                    "Szoba azonosító": "143",
                                    "Év": "2017",
                                    "Foglalások száma": "1"
                                },
                                {
                                    "Szoba azonosító": "143",
                                    "Év": "Részösszeg",
                                    "Foglalások száma": "7"
                                },
                                {
                                    "Szoba azonosító": "144",
                                    "Év": "2016",
                                    "Foglalások száma": "4"
                                },
                                {
                                    "Szoba azonosító": "144",
                                    "Év": "2017",
                                    "Foglalások száma": "1"
                                },
                                {
                                    "Szoba azonosító": "144",
                                    "Év": "Részösszeg",
                                    "Foglalások száma": "5"
                                },
                                {
                                    "Szoba azonosító": "145",
                                    "Év": "2016",
                                    "Foglalások száma": "5"
                                },
                                {
                                    "Szoba azonosító": "145",
                                    "Év": "2017",
                                    "Foglalások száma": "1"
                                },
                                {
                                    "Szoba azonosító": "145",
                                    "Év": "Részösszeg",
                                    "Foglalások száma": "6"
                                },
                                {
                                    "Szoba azonosító": "146",
                                    "Év": "2016",
                                    "Foglalások száma": "5"
                                },
                                {
                                    "Szoba azonosító": "146",
                                    "Év": "2017",
                                    "Foglalások száma": "1"
                                },
                                {
                                    "Szoba azonosító": "146",
                                    "Év": "Részösszeg",
                                    "Foglalások száma": "6"
                                },
                                {
                                    "Szoba azonosító": "147",
                                    "Év": "2016",
                                    "Foglalások száma": "1"
                                },
                                {
                                    "Szoba azonosító": "147",
                                    "Év": "Részösszeg",
                                    "Foglalások száma": "1"
                                },
                                {
                                    "Szoba azonosító": "148",
                                    "Év": "2016",
                                    "Foglalások száma": "5"
                                },
                                {
                                    "Szoba azonosító": "148",
                                    "Év": "2017",
                                    "Foglalások száma": "1"
                                },
                                {
                                    "Szoba azonosító": "148",
                                    "Év": "Részösszeg",
                                    "Foglalások száma": "6"
                                },
                                {
                                    "Szoba azonosító": "149",
                                    "Év": "2016",
                                    "Foglalások száma": "6"
                                },
                                {
                                    "Szoba azonosító": "149",
                                    "Év": "2017",
                                    "Foglalások száma": "1"
                                },
                                {
                                    "Szoba azonosító": "149",
                                    "Év": "Részösszeg",
                                    "Foglalások száma": "7"
                                },
                                {
                                    "Szoba azonosító": "150",
                                    "Év": "2016",
                                    "Foglalások száma": "5"
                                },
                                {
                                    "Szoba azonosító": "150",
                                    "Év": "2017",
                                    "Foglalások száma": "1"
                                },
                                {
                                    "Szoba azonosító": "150",
                                    "Év": "Részösszeg",
                                    "Foglalások száma": "6"
                                },
                                {
                                    "Szoba azonosító": "151",
                                    "Év": "2016",
                                    "Foglalások száma": "3"
                                },
                                {
                                    "Szoba azonosító": "151",
                                    "Év": "Részösszeg",
                                    "Foglalások száma": "3"
                                },
                                {
                                    "Szoba azonosító": "152",
                                    "Év": "2016",
                                    "Foglalások száma": "3"
                                },
                                {
                                    "Szoba azonosító": "152",
                                    "Év": "2017",
                                    "Foglalások száma": "1"
                                },
                                {
                                    "Szoba azonosító": "152",
                                    "Év": "Részösszeg",
                                    "Foglalások száma": "4"
                                },
                                {
                                    "Szoba azonosító": "153",
                                    "Év": "2016",
                                    "Foglalások száma": "2"
                                },
                                {
                                    "Szoba azonosító": "153",
                                    "Év": "2017",
                                    "Foglalások száma": "3"
                                },
                                {
                                    "Szoba azonosító": "153",
                                    "Év": "Részösszeg",
                                    "Foglalások száma": "5"
                                },
                                {
                                    "Szoba azonosító": "154",
                                    "Év": "2016",
                                    "Foglalások száma": "4"
                                },
                                {
                                    "Szoba azonosító": "154",
                                    "Év": "2017",
                                    "Foglalások száma": "1"
                                },
                                {
                                    "Szoba azonosító": "154",
                                    "Év": "Részösszeg",
                                    "Foglalások száma": "5"
                                },
                                {
                                    "Szoba azonosító": "155",
                                    "Év": "2016",
                                    "Foglalások száma": "4"
                                },
                                {
                                    "Szoba azonosító": "155",
                                    "Év": "2017",
                                    "Foglalások száma": "1"
                                },
                                {
                                    "Szoba azonosító": "155",
                                    "Év": "Részösszeg",
                                    "Foglalások száma": "5"
                                },
                                {
                                    "Szoba azonosító": "156",
                                    "Év": "2016",
                                    "Foglalások száma": "4"
                                },
                                {
                                    "Szoba azonosító": "156",
                                    "Év": "2017",
                                    "Foglalások száma": "3"
                                },
                                {
                                    "Szoba azonosító": "156",
                                    "Év": "Részösszeg",
                                    "Foglalások száma": "7"
                                },
                                {
                                    "Szoba azonosító": "157",
                                    "Év": "2016",
                                    "Foglalások száma": "4"
                                },
                                {
                                    "Szoba azonosító": "157",
                                    "Év": "2017",
                                    "Foglalások száma": "1"
                                },
                                {
                                    "Szoba azonosító": "157",
                                    "Év": "Részösszeg",
                                    "Foglalások száma": "5"
                                },
                                {
                                    "Szoba azonosító": "158",
                                    "Év": "2016",
                                    "Foglalások száma": "3"
                                },
                                {
                                    "Szoba azonosító": "158",
                                    "Év": "Részösszeg",
                                    "Foglalások száma": "3"
                                },
                                {
                                    "Szoba azonosító": "160",
                                    "Év": "2016",
                                    "Foglalások száma": "4"
                                },
                                {
                                    "Szoba azonosító": "160",
                                    "Év": "2017",
                                    "Foglalások száma": "1"
                                },
                                {
                                    "Szoba azonosító": "160",
                                    "Év": "Részösszeg",
                                    "Foglalások száma": "5"
                                },
                                {
                                    "Szoba azonosító": "161",
                                    "Év": "2016",
                                    "Foglalások száma": "5"
                                },
                                {
                                    "Szoba azonosító": "161",
                                    "Év": "2017",
                                    "Foglalások száma": "1"
                                },
                                {
                                    "Szoba azonosító": "161",
                                    "Év": "Részösszeg",
                                    "Foglalások száma": "6"
                                },
                                {
                                    "Szoba azonosító": "162",
                                    "Év": "2016",
                                    "Foglalások száma": "3"
                                },
                                {
                                    "Szoba azonosító": "162",
                                    "Év": "Részösszeg",
                                    "Foglalások száma": "3"
                                },
                                {
                                    "Szoba azonosító": "163",
                                    "Év": "2016",
                                    "Foglalások száma": "6"
                                },
                                {
                                    "Szoba azonosító": "163",
                                    "Év": "2017",
                                    "Foglalások száma": "1"
                                },
                                {
                                    "Szoba azonosító": "163",
                                    "Év": "Részösszeg",
                                    "Foglalások száma": "7"
                                },
                                {
                                    "Szoba azonosító": "164",
                                    "Év": "2016",
                                    "Foglalások száma": "5"
                                },
                                {
                                    "Szoba azonosító": "164",
                                    "Év": "Részösszeg",
                                    "Foglalások száma": "5"
                                },
                                {
                                    "Szoba azonosító": "165",
                                    "Év": "2016",
                                    "Foglalások száma": "7"
                                },
                                {
                                    "Szoba azonosító": "165",
                                    "Év": "Részösszeg",
                                    "Foglalások száma": "7"
                                },
                                {
                                    "Szoba azonosító": "166",
                                    "Év": "2016",
                                    "Foglalások száma": "2"
                                },
                                {
                                    "Szoba azonosító": "166",
                                    "Év": "2017",
                                    "Foglalások száma": "1"
                                },
                                {
                                    "Szoba azonosító": "166",
                                    "Év": "Részösszeg",
                                    "Foglalások száma": "3"
                                },
                                {
                                    "Szoba azonosító": "167",
                                    "Év": "2016",
                                    "Foglalások száma": "1"
                                },
                                {
                                    "Szoba azonosító": "167",
                                    "Év": "2017",
                                    "Foglalások száma": "1"
                                },
                                {
                                    "Szoba azonosító": "167",
                                    "Év": "Részösszeg",
                                    "Foglalások száma": "2"
                                },
                                {
                                    "Szoba azonosító": "168",
                                    "Év": "2016",
                                    "Foglalások száma": "5"
                                },
                                {
                                    "Szoba azonosító": "168",
                                    "Év": "Részösszeg",
                                    "Foglalások száma": "5"
                                },
                                {
                                    "Szoba azonosító": "169",
                                    "Év": "2016",
                                    "Foglalások száma": "5"
                                },
                                {
                                    "Szoba azonosító": "169",
                                    "Év": "2017",
                                    "Foglalások száma": "1"
                                },
                                {
                                    "Szoba azonosító": "169",
                                    "Év": "Részösszeg",
                                    "Foglalások száma": "6"
                                },
                                {
                                    "Szoba azonosító": "170",
                                    "Év": "2016",
                                    "Foglalások száma": "5"
                                },
                                {
                                    "Szoba azonosító": "170",
                                    "Év": "Részösszeg",
                                    "Foglalások száma": "5"
                                },
                                {
                                    "Szoba azonosító": "171",
                                    "Év": "2016",
                                    "Foglalások száma": "4"
                                },
                                {
                                    "Szoba azonosító": "171",
                                    "Év": "2017",
                                    "Foglalások száma": "1"
                                },
                                {
                                    "Szoba azonosító": "171",
                                    "Év": "Részösszeg",
                                    "Foglalások száma": "5"
                                },
                                {
                                    "Szoba azonosító": "172",
                                    "Év": "2016",
                                    "Foglalások száma": "7"
                                },
                                {
                                    "Szoba azonosító": "172",
                                    "Év": "2017",
                                    "Foglalások száma": "2"
                                },
                                {
                                    "Szoba azonosító": "172",
                                    "Év": "Részösszeg",
                                    "Foglalások száma": "9"
                                },
                                {
                                    "Szoba azonosító": "173",
                                    "Év": "2016",
                                    "Foglalások száma": "3"
                                },
                                {
                                    "Szoba azonosító": "173",
                                    "Év": "2017",
                                    "Foglalások száma": "1"
                                },
                                {
                                    "Szoba azonosító": "173",
                                    "Év": "Részösszeg",
                                    "Foglalások száma": "4"
                                },
                                {
                                    "Szoba azonosító": "174",
                                    "Év": "2016",
                                    "Foglalások száma": "4"
                                },
                                {
                                    "Szoba azonosító": "174",
                                    "Év": "Részösszeg",
                                    "Foglalások száma": "4"
                                },
                                {
                                    "Szoba azonosító": "175",
                                    "Év": "2016",
                                    "Foglalások száma": "5"
                                },
                                {
                                    "Szoba azonosító": "175",
                                    "Év": "Részösszeg",
                                    "Foglalások száma": "5"
                                },
                                {
                                    "Szoba azonosító": "176",
                                    "Év": "2016",
                                    "Foglalások száma": "4"
                                },
                                {
                                    "Szoba azonosító": "176",
                                    "Év": "2017",
                                    "Foglalások száma": "2"
                                },
                                {
                                    "Szoba azonosító": "176",
                                    "Év": "Részösszeg",
                                    "Foglalások száma": "6"
                                },
                                {
                                    "Szoba azonosító": "177",
                                    "Év": "2016",
                                    "Foglalások száma": "3"
                                },
                                {
                                    "Szoba azonosító": "177",
                                    "Év": "2017",
                                    "Foglalások száma": "1"
                                },
                                {
                                    "Szoba azonosító": "177",
                                    "Év": "Részösszeg",
                                    "Foglalások száma": "4"
                                },
                                {
                                    "Szoba azonosító": "178",
                                    "Év": "2016",
                                    "Foglalások száma": "4"
                                },
                                {
                                    "Szoba azonosító": "178",
                                    "Év": "Részösszeg",
                                    "Foglalások száma": "4"
                                },
                                {
                                    "Szoba azonosító": "179",
                                    "Év": "2016",
                                    "Foglalások száma": "2"
                                },
                                {
                                    "Szoba azonosító": "179",
                                    "Év": "2017",
                                    "Foglalások száma": "1"
                                },
                                {
                                    "Szoba azonosító": "179",
                                    "Év": "Részösszeg",
                                    "Foglalások száma": "3"
                                },
                                {
                                    "Szoba azonosító": "180",
                                    "Év": "2016",
                                    "Foglalások száma": "1"
                                },
                                {
                                    "Szoba azonosító": "180",
                                    "Év": "2017",
                                    "Foglalások száma": "2"
                                },
                                {
                                    "Szoba azonosító": "180",
                                    "Év": "Részösszeg",
                                    "Foglalások száma": "3"
                                },
                                {
                                    "Szoba azonosító": "181",
                                    "Év": "2016",
                                    "Foglalások száma": "6"
                                },
                                {
                                    "Szoba azonosító": "181",
                                    "Év": "Részösszeg",
                                    "Foglalások száma": "6"
                                },
                                {
                                    "Szoba azonosító": "182",
                                    "Év": "2016",
                                    "Foglalások száma": "10"
                                },
                                {
                                    "Szoba azonosító": "182",
                                    "Év": "2017",
                                    "Foglalások száma": "2"
                                },
                                {
                                    "Szoba azonosító": "182",
                                    "Év": "Részösszeg",
                                    "Foglalások száma": "12"
                                },
                                {
                                    "Szoba azonosító": "183",
                                    "Év": "2016",
                                    "Foglalások száma": "3"
                                },
                                {
                                    "Szoba azonosító": "183",
                                    "Év": "2017",
                                    "Foglalások száma": "1"
                                },
                                {
                                    "Szoba azonosító": "183",
                                    "Év": "Részösszeg",
                                    "Foglalások száma": "4"
                                },
                                {
                                    "Szoba azonosító": "184",
                                    "Év": "2016",
                                    "Foglalások száma": "4"
                                },
                                {
                                    "Szoba azonosító": "184",
                                    "Év": "Részösszeg",
                                    "Foglalások száma": "4"
                                },
                                {
                                    "Szoba azonosító": "185",
                                    "Év": "2016",
                                    "Foglalások száma": "10"
                                },
                                {
                                    "Szoba azonosító": "185",
                                    "Év": "2017",
                                    "Foglalások száma": "2"
                                },
                                {
                                    "Szoba azonosító": "185",
                                    "Év": "Részösszeg",
                                    "Foglalások száma": "12"
                                },
                                {
                                    "Szoba azonosító": "186",
                                    "Év": "2016",
                                    "Foglalások száma": "3"
                                },
                                {
                                    "Szoba azonosító": "186",
                                    "Év": "2017",
                                    "Foglalások száma": "1"
                                },
                                {
                                    "Szoba azonosító": "186",
                                    "Év": "Részösszeg",
                                    "Foglalások száma": "4"
                                },
                                {
                                    "Szoba azonosító": "187",
                                    "Év": "2016",
                                    "Foglalások száma": "7"
                                },
                                {
                                    "Szoba azonosító": "187",
                                    "Év": "Részösszeg",
                                    "Foglalások száma": "7"
                                },
                                {
                                    "Szoba azonosító": "188",
                                    "Év": "2016",
                                    "Foglalások száma": "6"
                                },
                                {
                                    "Szoba azonosító": "188",
                                    "Év": "Részösszeg",
                                    "Foglalások száma": "6"
                                },
                                {
                                    "Szoba azonosító": "189",
                                    "Év": "2016",
                                    "Foglalások száma": "3"
                                },
                                {
                                    "Szoba azonosító": "189",
                                    "Év": "2017",
                                    "Foglalások száma": "2"
                                },
                                {
                                    "Szoba azonosító": "189",
                                    "Év": "Részösszeg",
                                    "Foglalások száma": "5"
                                },
                                {
                                    "Szoba azonosító": "190",
                                    "Év": "2016",
                                    "Foglalások száma": "4"
                                },
                                {
                                    "Szoba azonosító": "190",
                                    "Év": "2017",
                                    "Foglalások száma": "1"
                                },
                                {
                                    "Szoba azonosító": "190",
                                    "Év": "Részösszeg",
                                    "Foglalások száma": "5"
                                },
                                {
                                    "Szoba azonosító": "191",
                                    "Év": "2016",
                                    "Foglalások száma": "3"
                                },
                                {
                                    "Szoba azonosító": "191",
                                    "Év": "2017",
                                    "Foglalások száma": "2"
                                },
                                {
                                    "Szoba azonosító": "191",
                                    "Év": "Részösszeg",
                                    "Foglalások száma": "5"
                                },
                                {
                                    "Szoba azonosító": "192",
                                    "Év": "2016",
                                    "Foglalások száma": "2"
                                },
                                {
                                    "Szoba azonosító": "192",
                                    "Év": "Részösszeg",
                                    "Foglalások száma": "2"
                                },
                                {
                                    "Szoba azonosító": "193",
                                    "Év": "2016",
                                    "Foglalások száma": "7"
                                },
                                {
                                    "Szoba azonosító": "193",
                                    "Év": "Részösszeg",
                                    "Foglalások száma": "7"
                                },
                                {
                                    "Szoba azonosító": "194",
                                    "Év": "2016",
                                    "Foglalások száma": "1"
                                },
                                {
                                    "Szoba azonosító": "194",
                                    "Év": "Részösszeg",
                                    "Foglalások száma": "1"
                                },
                                {
                                    "Szoba azonosító": "195",
                                    "Év": "2016",
                                    "Foglalások száma": "4"
                                },
                                {
                                    "Szoba azonosító": "195",
                                    "Év": "2017",
                                    "Foglalások száma": "2"
                                },
                                {
                                    "Szoba azonosító": "195",
                                    "Év": "Részösszeg",
                                    "Foglalások száma": "6"
                                },
                                {
                                    "Szoba azonosító": "196",
                                    "Év": "2016",
                                    "Foglalások száma": "4"
                                },
                                {
                                    "Szoba azonosító": "196",
                                    "Év": "Részösszeg",
                                    "Foglalások száma": "4"
                                },
                                {
                                    "Szoba azonosító": "197",
                                    "Év": "2016",
                                    "Foglalások száma": "6"
                                },
                                {
                                    "Szoba azonosító": "197",
                                    "Év": "Részösszeg",
                                    "Foglalások száma": "6"
                                },
                                {
                                    "Szoba azonosító": "198",
                                    "Év": "2016",
                                    "Foglalások száma": "7"
                                },
                                {
                                    "Szoba azonosító": "198",
                                    "Év": "2017",
                                    "Foglalások száma": "1"
                                },
                                {
                                    "Szoba azonosító": "198",
                                    "Év": "Részösszeg",
                                    "Foglalások száma": "8"
                                },
                                {
                                    "Szoba azonosító": "NULL",
                                    "Év": "Összesen",
                                    "Foglalások száma": "1027"
                                }
                            ]
                        },
                        "text/html": [
                            "<table>",
                            "<tr><th>Szoba azonosító</th><th>Év</th><th>Foglalások száma</th></tr>",
                            "<tr><td>1</td><td>2016</td><td>8</td></tr>",
                            "<tr><td>1</td><td>Részösszeg</td><td>8</td></tr>",
                            "<tr><td>2</td><td>2016</td><td>4</td></tr>",
                            "<tr><td>2</td><td>Részösszeg</td><td>4</td></tr>",
                            "<tr><td>3</td><td>2016</td><td>6</td></tr>",
                            "<tr><td>3</td><td>2017</td><td>2</td></tr>",
                            "<tr><td>3</td><td>Részösszeg</td><td>8</td></tr>",
                            "<tr><td>4</td><td>2016</td><td>5</td></tr>",
                            "<tr><td>4</td><td>2017</td><td>1</td></tr>",
                            "<tr><td>4</td><td>Részösszeg</td><td>6</td></tr>",
                            "<tr><td>5</td><td>2016</td><td>4</td></tr>",
                            "<tr><td>5</td><td>Részösszeg</td><td>4</td></tr>",
                            "<tr><td>6</td><td>2016</td><td>6</td></tr>",
                            "<tr><td>6</td><td>Részösszeg</td><td>6</td></tr>",
                            "<tr><td>7</td><td>2016</td><td>6</td></tr>",
                            "<tr><td>7</td><td>Részösszeg</td><td>6</td></tr>",
                            "<tr><td>8</td><td>2016</td><td>5</td></tr>",
                            "<tr><td>8</td><td>Részösszeg</td><td>5</td></tr>",
                            "<tr><td>9</td><td>2016</td><td>4</td></tr>",
                            "<tr><td>9</td><td>2017</td><td>2</td></tr>",
                            "<tr><td>9</td><td>Részösszeg</td><td>6</td></tr>",
                            "<tr><td>10</td><td>2016</td><td>4</td></tr>",
                            "<tr><td>10</td><td>Részösszeg</td><td>4</td></tr>",
                            "<tr><td>11</td><td>2016</td><td>3</td></tr>",
                            "<tr><td>11</td><td>2017</td><td>1</td></tr>",
                            "<tr><td>11</td><td>Részösszeg</td><td>4</td></tr>",
                            "<tr><td>12</td><td>2016</td><td>8</td></tr>",
                            "<tr><td>12</td><td>2017</td><td>1</td></tr>",
                            "<tr><td>12</td><td>Részösszeg</td><td>9</td></tr>",
                            "<tr><td>13</td><td>2016</td><td>3</td></tr>",
                            "<tr><td>13</td><td>2017</td><td>1</td></tr>",
                            "<tr><td>13</td><td>Részösszeg</td><td>4</td></tr>",
                            "<tr><td>14</td><td>2016</td><td>2</td></tr>",
                            "<tr><td>14</td><td>2017</td><td>1</td></tr>",
                            "<tr><td>14</td><td>Részösszeg</td><td>3</td></tr>",
                            "<tr><td>15</td><td>2016</td><td>4</td></tr>",
                            "<tr><td>15</td><td>2017</td><td>2</td></tr>",
                            "<tr><td>15</td><td>Részösszeg</td><td>6</td></tr>",
                            "<tr><td>16</td><td>2016</td><td>4</td></tr>",
                            "<tr><td>16</td><td>2017</td><td>1</td></tr>",
                            "<tr><td>16</td><td>Részösszeg</td><td>5</td></tr>",
                            "<tr><td>17</td><td>2016</td><td>5</td></tr>",
                            "<tr><td>17</td><td>2017</td><td>1</td></tr>",
                            "<tr><td>17</td><td>Részösszeg</td><td>6</td></tr>",
                            "<tr><td>18</td><td>2016</td><td>5</td></tr>",
                            "<tr><td>18</td><td>2017</td><td>1</td></tr>",
                            "<tr><td>18</td><td>Részösszeg</td><td>6</td></tr>",
                            "<tr><td>19</td><td>2016</td><td>5</td></tr>",
                            "<tr><td>19</td><td>2017</td><td>1</td></tr>",
                            "<tr><td>19</td><td>Részösszeg</td><td>6</td></tr>",
                            "<tr><td>20</td><td>2016</td><td>5</td></tr>",
                            "<tr><td>20</td><td>Részösszeg</td><td>5</td></tr>",
                            "<tr><td>21</td><td>2016</td><td>4</td></tr>",
                            "<tr><td>21</td><td>Részösszeg</td><td>4</td></tr>",
                            "<tr><td>22</td><td>2016</td><td>6</td></tr>",
                            "<tr><td>22</td><td>Részösszeg</td><td>6</td></tr>",
                            "<tr><td>23</td><td>2016</td><td>3</td></tr>",
                            "<tr><td>23</td><td>Részösszeg</td><td>3</td></tr>",
                            "<tr><td>24</td><td>2016</td><td>2</td></tr>",
                            "<tr><td>24</td><td>2017</td><td>1</td></tr>",
                            "<tr><td>24</td><td>Részösszeg</td><td>3</td></tr>",
                            "<tr><td>25</td><td>2016</td><td>2</td></tr>",
                            "<tr><td>25</td><td>Részösszeg</td><td>2</td></tr>",
                            "<tr><td>26</td><td>2016</td><td>2</td></tr>",
                            "<tr><td>26</td><td>Részösszeg</td><td>2</td></tr>",
                            "<tr><td>27</td><td>2016</td><td>6</td></tr>",
                            "<tr><td>27</td><td>2017</td><td>1</td></tr>",
                            "<tr><td>27</td><td>Részösszeg</td><td>7</td></tr>",
                            "<tr><td>28</td><td>2016</td><td>5</td></tr>",
                            "<tr><td>28</td><td>2017</td><td>1</td></tr>",
                            "<tr><td>28</td><td>Részösszeg</td><td>6</td></tr>",
                            "<tr><td>29</td><td>2016</td><td>5</td></tr>",
                            "<tr><td>29</td><td>2017</td><td>1</td></tr>",
                            "<tr><td>29</td><td>Részösszeg</td><td>6</td></tr>",
                            "<tr><td>30</td><td>2016</td><td>3</td></tr>",
                            "<tr><td>30</td><td>Részösszeg</td><td>3</td></tr>",
                            "<tr><td>31</td><td>2016</td><td>3</td></tr>",
                            "<tr><td>31</td><td>Részösszeg</td><td>3</td></tr>",
                            "<tr><td>32</td><td>2016</td><td>1</td></tr>",
                            "<tr><td>32</td><td>Részösszeg</td><td>1</td></tr>",
                            "<tr><td>33</td><td>2016</td><td>6</td></tr>",
                            "<tr><td>33</td><td>Részösszeg</td><td>6</td></tr>",
                            "<tr><td>34</td><td>2016</td><td>4</td></tr>",
                            "<tr><td>34</td><td>Részösszeg</td><td>4</td></tr>",
                            "<tr><td>35</td><td>2016</td><td>6</td></tr>",
                            "<tr><td>35</td><td>2017</td><td>3</td></tr>",
                            "<tr><td>35</td><td>Részösszeg</td><td>9</td></tr>",
                            "<tr><td>36</td><td>2016</td><td>6</td></tr>",
                            "<tr><td>36</td><td>Részösszeg</td><td>6</td></tr>",
                            "<tr><td>37</td><td>2016</td><td>3</td></tr>",
                            "<tr><td>37</td><td>Részösszeg</td><td>3</td></tr>",
                            "<tr><td>38</td><td>2016</td><td>5</td></tr>",
                            "<tr><td>38</td><td>2017</td><td>3</td></tr>",
                            "<tr><td>38</td><td>Részösszeg</td><td>8</td></tr>",
                            "<tr><td>39</td><td>2016</td><td>4</td></tr>",
                            "<tr><td>39</td><td>2017</td><td>3</td></tr>",
                            "<tr><td>39</td><td>Részösszeg</td><td>7</td></tr>",
                            "<tr><td>40</td><td>2016</td><td>4</td></tr>",
                            "<tr><td>40</td><td>Részösszeg</td><td>4</td></tr>",
                            "<tr><td>41</td><td>2016</td><td>2</td></tr>",
                            "<tr><td>41</td><td>Részösszeg</td><td>2</td></tr>",
                            "<tr><td>42</td><td>2016</td><td>5</td></tr>",
                            "<tr><td>42</td><td>2017</td><td>1</td></tr>",
                            "<tr><td>42</td><td>Részösszeg</td><td>6</td></tr>",
                            "<tr><td>43</td><td>2016</td><td>6</td></tr>",
                            "<tr><td>43</td><td>2017</td><td>2</td></tr>",
                            "<tr><td>43</td><td>Részösszeg</td><td>8</td></tr>",
                            "<tr><td>44</td><td>2016</td><td>4</td></tr>",
                            "<tr><td>44</td><td>2017</td><td>2</td></tr>",
                            "<tr><td>44</td><td>Részösszeg</td><td>6</td></tr>",
                            "<tr><td>45</td><td>2016</td><td>5</td></tr>",
                            "<tr><td>45</td><td>Részösszeg</td><td>5</td></tr>",
                            "<tr><td>46</td><td>2016</td><td>3</td></tr>",
                            "<tr><td>46</td><td>2017</td><td>1</td></tr>",
                            "<tr><td>46</td><td>Részösszeg</td><td>4</td></tr>",
                            "<tr><td>47</td><td>2016</td><td>2</td></tr>",
                            "<tr><td>47</td><td>Részösszeg</td><td>2</td></tr>",
                            "<tr><td>48</td><td>2016</td><td>6</td></tr>",
                            "<tr><td>48</td><td>2017</td><td>3</td></tr>",
                            "<tr><td>48</td><td>Részösszeg</td><td>9</td></tr>",
                            "<tr><td>49</td><td>2016</td><td>6</td></tr>",
                            "<tr><td>49</td><td>2017</td><td>1</td></tr>",
                            "<tr><td>49</td><td>Részösszeg</td><td>7</td></tr>",
                            "<tr><td>50</td><td>2016</td><td>4</td></tr>",
                            "<tr><td>50</td><td>Részösszeg</td><td>4</td></tr>",
                            "<tr><td>51</td><td>2016</td><td>3</td></tr>",
                            "<tr><td>51</td><td>2017</td><td>2</td></tr>",
                            "<tr><td>51</td><td>Részösszeg</td><td>5</td></tr>",
                            "<tr><td>52</td><td>2016</td><td>3</td></tr>",
                            "<tr><td>52</td><td>2017</td><td>2</td></tr>",
                            "<tr><td>52</td><td>Részösszeg</td><td>5</td></tr>",
                            "<tr><td>53</td><td>2016</td><td>2</td></tr>",
                            "<tr><td>53</td><td>Részösszeg</td><td>2</td></tr>",
                            "<tr><td>54</td><td>2016</td><td>6</td></tr>",
                            "<tr><td>54</td><td>Részösszeg</td><td>6</td></tr>",
                            "<tr><td>55</td><td>2016</td><td>6</td></tr>",
                            "<tr><td>55</td><td>2017</td><td>2</td></tr>",
                            "<tr><td>55</td><td>Részösszeg</td><td>8</td></tr>",
                            "<tr><td>56</td><td>2016</td><td>2</td></tr>",
                            "<tr><td>56</td><td>Részösszeg</td><td>2</td></tr>",
                            "<tr><td>57</td><td>2016</td><td>2</td></tr>",
                            "<tr><td>57</td><td>2017</td><td>2</td></tr>",
                            "<tr><td>57</td><td>Részösszeg</td><td>4</td></tr>",
                            "<tr><td>58</td><td>2016</td><td>12</td></tr>",
                            "<tr><td>58</td><td>2017</td><td>1</td></tr>",
                            "<tr><td>58</td><td>Részösszeg</td><td>13</td></tr>",
                            "<tr><td>59</td><td>2016</td><td>6</td></tr>",
                            "<tr><td>59</td><td>2017</td><td>1</td></tr>",
                            "<tr><td>59</td><td>Részösszeg</td><td>7</td></tr>",
                            "<tr><td>60</td><td>2016</td><td>1</td></tr>",
                            "<tr><td>60</td><td>Részösszeg</td><td>1</td></tr>",
                            "<tr><td>61</td><td>2016</td><td>4</td></tr>",
                            "<tr><td>61</td><td>2017</td><td>1</td></tr>",
                            "<tr><td>61</td><td>Részösszeg</td><td>5</td></tr>",
                            "<tr><td>62</td><td>2016</td><td>4</td></tr>",
                            "<tr><td>62</td><td>2017</td><td>1</td></tr>",
                            "<tr><td>62</td><td>Részösszeg</td><td>5</td></tr>",
                            "<tr><td>63</td><td>2016</td><td>4</td></tr>",
                            "<tr><td>63</td><td>Részösszeg</td><td>4</td></tr>",
                            "<tr><td>64</td><td>2016</td><td>3</td></tr>",
                            "<tr><td>64</td><td>2017</td><td>3</td></tr>",
                            "<tr><td>64</td><td>Részösszeg</td><td>6</td></tr>",
                            "<tr><td>65</td><td>2016</td><td>1</td></tr>",
                            "<tr><td>65</td><td>Részösszeg</td><td>1</td></tr>",
                            "<tr><td>66</td><td>2016</td><td>4</td></tr>",
                            "<tr><td>66</td><td>Részösszeg</td><td>4</td></tr>",
                            "<tr><td>67</td><td>2016</td><td>4</td></tr>",
                            "<tr><td>67</td><td>2017</td><td>2</td></tr>",
                            "<tr><td>67</td><td>Részösszeg</td><td>6</td></tr>",
                            "<tr><td>68</td><td>2016</td><td>3</td></tr>",
                            "<tr><td>68</td><td>Részösszeg</td><td>3</td></tr>",
                            "<tr><td>69</td><td>2016</td><td>4</td></tr>",
                            "<tr><td>69</td><td>Részösszeg</td><td>4</td></tr>",
                            "<tr><td>70</td><td>2016</td><td>10</td></tr>",
                            "<tr><td>70</td><td>2017</td><td>1</td></tr>",
                            "<tr><td>70</td><td>Részösszeg</td><td>11</td></tr>",
                            "<tr><td>71</td><td>2016</td><td>3</td></tr>",
                            "<tr><td>71</td><td>Részösszeg</td><td>3</td></tr>",
                            "<tr><td>72</td><td>2016</td><td>4</td></tr>",
                            "<tr><td>72</td><td>Részösszeg</td><td>4</td></tr>",
                            "<tr><td>73</td><td>2016</td><td>4</td></tr>",
                            "<tr><td>73</td><td>Részösszeg</td><td>4</td></tr>",
                            "<tr><td>74</td><td>2016</td><td>9</td></tr>",
                            "<tr><td>74</td><td>Részösszeg</td><td>9</td></tr>",
                            "<tr><td>75</td><td>2016</td><td>1</td></tr>",
                            "<tr><td>75</td><td>2017</td><td>2</td></tr>",
                            "<tr><td>75</td><td>Részösszeg</td><td>3</td></tr>",
                            "<tr><td>76</td><td>2016</td><td>2</td></tr>",
                            "<tr><td>76</td><td>2017</td><td>1</td></tr>",
                            "<tr><td>76</td><td>Részösszeg</td><td>3</td></tr>",
                            "<tr><td>77</td><td>2016</td><td>4</td></tr>",
                            "<tr><td>77</td><td>2017</td><td>2</td></tr>",
                            "<tr><td>77</td><td>Részösszeg</td><td>6</td></tr>",
                            "<tr><td>78</td><td>2016</td><td>5</td></tr>",
                            "<tr><td>78</td><td>2017</td><td>1</td></tr>",
                            "<tr><td>78</td><td>Részösszeg</td><td>6</td></tr>",
                            "<tr><td>79</td><td>2016</td><td>4</td></tr>",
                            "<tr><td>79</td><td>2017</td><td>1</td></tr>",
                            "<tr><td>79</td><td>Részösszeg</td><td>5</td></tr>",
                            "<tr><td>80</td><td>2016</td><td>7</td></tr>",
                            "<tr><td>80</td><td>Részösszeg</td><td>7</td></tr>",
                            "<tr><td>81</td><td>2016</td><td>1</td></tr>",
                            "<tr><td>81</td><td>2017</td><td>4</td></tr>",
                            "<tr><td>81</td><td>Részösszeg</td><td>5</td></tr>",
                            "<tr><td>82</td><td>2016</td><td>6</td></tr>",
                            "<tr><td>82</td><td>Részösszeg</td><td>6</td></tr>",
                            "<tr><td>83</td><td>2016</td><td>8</td></tr>",
                            "<tr><td>83</td><td>Részösszeg</td><td>8</td></tr>",
                            "<tr><td>84</td><td>2016</td><td>4</td></tr>",
                            "<tr><td>84</td><td>Részösszeg</td><td>4</td></tr>",
                            "<tr><td>85</td><td>2016</td><td>3</td></tr>",
                            "<tr><td>85</td><td>2017</td><td>1</td></tr>",
                            "<tr><td>85</td><td>Részösszeg</td><td>4</td></tr>",
                            "<tr><td>86</td><td>2016</td><td>4</td></tr>",
                            "<tr><td>86</td><td>2017</td><td>1</td></tr>",
                            "<tr><td>86</td><td>Részösszeg</td><td>5</td></tr>",
                            "<tr><td>87</td><td>2016</td><td>4</td></tr>",
                            "<tr><td>87</td><td>2017</td><td>1</td></tr>",
                            "<tr><td>87</td><td>Részösszeg</td><td>5</td></tr>",
                            "<tr><td>88</td><td>2016</td><td>6</td></tr>",
                            "<tr><td>88</td><td>2017</td><td>2</td></tr>",
                            "<tr><td>88</td><td>Részösszeg</td><td>8</td></tr>",
                            "<tr><td>89</td><td>2016</td><td>7</td></tr>",
                            "<tr><td>89</td><td>2017</td><td>1</td></tr>",
                            "<tr><td>89</td><td>Részösszeg</td><td>8</td></tr>",
                            "<tr><td>90</td><td>2016</td><td>4</td></tr>",
                            "<tr><td>90</td><td>Részösszeg</td><td>4</td></tr>",
                            "<tr><td>91</td><td>2016</td><td>4</td></tr>",
                            "<tr><td>91</td><td>Részösszeg</td><td>4</td></tr>",
                            "<tr><td>92</td><td>2016</td><td>4</td></tr>",
                            "<tr><td>92</td><td>2017</td><td>2</td></tr>",
                            "<tr><td>92</td><td>Részösszeg</td><td>6</td></tr>",
                            "<tr><td>93</td><td>2016</td><td>5</td></tr>",
                            "<tr><td>93</td><td>Részösszeg</td><td>5</td></tr>",
                            "<tr><td>94</td><td>2016</td><td>8</td></tr>",
                            "<tr><td>94</td><td>2017</td><td>2</td></tr>",
                            "<tr><td>94</td><td>Részösszeg</td><td>10</td></tr>",
                            "<tr><td>95</td><td>2016</td><td>3</td></tr>",
                            "<tr><td>95</td><td>2017</td><td>1</td></tr>",
                            "<tr><td>95</td><td>Részösszeg</td><td>4</td></tr>",
                            "<tr><td>96</td><td>2016</td><td>5</td></tr>",
                            "<tr><td>96</td><td>2017</td><td>2</td></tr>",
                            "<tr><td>96</td><td>Részösszeg</td><td>7</td></tr>",
                            "<tr><td>97</td><td>2016</td><td>5</td></tr>",
                            "<tr><td>97</td><td>2017</td><td>2</td></tr>",
                            "<tr><td>97</td><td>Részösszeg</td><td>7</td></tr>",
                            "<tr><td>98</td><td>2016</td><td>4</td></tr>",
                            "<tr><td>98</td><td>Részösszeg</td><td>4</td></tr>",
                            "<tr><td>99</td><td>2016</td><td>4</td></tr>",
                            "<tr><td>99</td><td>2017</td><td>1</td></tr>",
                            "<tr><td>99</td><td>Részösszeg</td><td>5</td></tr>",
                            "<tr><td>100</td><td>2016</td><td>3</td></tr>",
                            "<tr><td>100</td><td>2017</td><td>1</td></tr>",
                            "<tr><td>100</td><td>Részösszeg</td><td>4</td></tr>",
                            "<tr><td>101</td><td>2016</td><td>2</td></tr>",
                            "<tr><td>101</td><td>2017</td><td>1</td></tr>",
                            "<tr><td>101</td><td>Részösszeg</td><td>3</td></tr>",
                            "<tr><td>102</td><td>2016</td><td>2</td></tr>",
                            "<tr><td>102</td><td>Részösszeg</td><td>2</td></tr>",
                            "<tr><td>103</td><td>2016</td><td>3</td></tr>",
                            "<tr><td>103</td><td>2017</td><td>1</td></tr>",
                            "<tr><td>103</td><td>Részösszeg</td><td>4</td></tr>",
                            "<tr><td>104</td><td>2016</td><td>2</td></tr>",
                            "<tr><td>104</td><td>2017</td><td>2</td></tr>",
                            "<tr><td>104</td><td>Részösszeg</td><td>4</td></tr>",
                            "<tr><td>105</td><td>2016</td><td>1</td></tr>",
                            "<tr><td>105</td><td>2017</td><td>1</td></tr>",
                            "<tr><td>105</td><td>Részösszeg</td><td>2</td></tr>",
                            "<tr><td>106</td><td>2016</td><td>5</td></tr>",
                            "<tr><td>106</td><td>2017</td><td>1</td></tr>",
                            "<tr><td>106</td><td>Részösszeg</td><td>6</td></tr>",
                            "<tr><td>107</td><td>2016</td><td>3</td></tr>",
                            "<tr><td>107</td><td>2017</td><td>2</td></tr>",
                            "<tr><td>107</td><td>Részösszeg</td><td>5</td></tr>",
                            "<tr><td>108</td><td>2016</td><td>2</td></tr>",
                            "<tr><td>108</td><td>Részösszeg</td><td>2</td></tr>",
                            "<tr><td>109</td><td>2016</td><td>6</td></tr>",
                            "<tr><td>109</td><td>2017</td><td>1</td></tr>",
                            "<tr><td>109</td><td>Részösszeg</td><td>7</td></tr>",
                            "<tr><td>110</td><td>2016</td><td>6</td></tr>",
                            "<tr><td>110</td><td>2017</td><td>2</td></tr>",
                            "<tr><td>110</td><td>Részösszeg</td><td>8</td></tr>",
                            "<tr><td>111</td><td>2016</td><td>5</td></tr>",
                            "<tr><td>111</td><td>Részösszeg</td><td>5</td></tr>",
                            "<tr><td>112</td><td>2016</td><td>4</td></tr>",
                            "<tr><td>112</td><td>2017</td><td>1</td></tr>",
                            "<tr><td>112</td><td>Részösszeg</td><td>5</td></tr>",
                            "<tr><td>113</td><td>2016</td><td>3</td></tr>",
                            "<tr><td>113</td><td>2017</td><td>2</td></tr>",
                            "<tr><td>113</td><td>Részösszeg</td><td>5</td></tr>",
                            "<tr><td>114</td><td>2016</td><td>3</td></tr>",
                            "<tr><td>114</td><td>2017</td><td>1</td></tr>",
                            "<tr><td>114</td><td>Részösszeg</td><td>4</td></tr>",
                            "<tr><td>115</td><td>2016</td><td>5</td></tr>",
                            "<tr><td>115</td><td>2017</td><td>2</td></tr>",
                            "<tr><td>115</td><td>Részösszeg</td><td>7</td></tr>",
                            "<tr><td>116</td><td>2017</td><td>2</td></tr>",
                            "<tr><td>116</td><td>Részösszeg</td><td>2</td></tr>",
                            "<tr><td>117</td><td>2016</td><td>7</td></tr>",
                            "<tr><td>117</td><td>2017</td><td>1</td></tr>",
                            "<tr><td>117</td><td>Részösszeg</td><td>8</td></tr>",
                            "<tr><td>118</td><td>2016</td><td>5</td></tr>",
                            "<tr><td>118</td><td>2017</td><td>2</td></tr>",
                            "<tr><td>118</td><td>Részösszeg</td><td>7</td></tr>",
                            "<tr><td>119</td><td>2016</td><td>3</td></tr>",
                            "<tr><td>119</td><td>2017</td><td>2</td></tr>",
                            "<tr><td>119</td><td>Részösszeg</td><td>5</td></tr>",
                            "<tr><td>120</td><td>2016</td><td>4</td></tr>",
                            "<tr><td>120</td><td>2017</td><td>2</td></tr>",
                            "<tr><td>120</td><td>Részösszeg</td><td>6</td></tr>",
                            "<tr><td>121</td><td>2016</td><td>8</td></tr>",
                            "<tr><td>121</td><td>Részösszeg</td><td>8</td></tr>",
                            "<tr><td>122</td><td>2016</td><td>8</td></tr>",
                            "<tr><td>122</td><td>2017</td><td>1</td></tr>",
                            "<tr><td>122</td><td>Részösszeg</td><td>9</td></tr>",
                            "<tr><td>123</td><td>2016</td><td>5</td></tr>",
                            "<tr><td>123</td><td>Részösszeg</td><td>5</td></tr>",
                            "<tr><td>124</td><td>2016</td><td>4</td></tr>",
                            "<tr><td>124</td><td>2017</td><td>2</td></tr>",
                            "<tr><td>124</td><td>Részösszeg</td><td>6</td></tr>",
                            "<tr><td>125</td><td>2016</td><td>1</td></tr>",
                            "<tr><td>125</td><td>Részösszeg</td><td>1</td></tr>",
                            "<tr><td>126</td><td>2016</td><td>4</td></tr>",
                            "<tr><td>126</td><td>2017</td><td>2</td></tr>",
                            "<tr><td>126</td><td>Részösszeg</td><td>6</td></tr>",
                            "<tr><td>127</td><td>2016</td><td>6</td></tr>",
                            "<tr><td>127</td><td>2017</td><td>1</td></tr>",
                            "<tr><td>127</td><td>Részösszeg</td><td>7</td></tr>",
                            "<tr><td>128</td><td>2016</td><td>3</td></tr>",
                            "<tr><td>128</td><td>2017</td><td>2</td></tr>",
                            "<tr><td>128</td><td>Részösszeg</td><td>5</td></tr>",
                            "<tr><td>129</td><td>2016</td><td>2</td></tr>",
                            "<tr><td>129</td><td>2017</td><td>2</td></tr>",
                            "<tr><td>129</td><td>Részösszeg</td><td>4</td></tr>",
                            "<tr><td>130</td><td>2016</td><td>5</td></tr>",
                            "<tr><td>130</td><td>2017</td><td>1</td></tr>",
                            "<tr><td>130</td><td>Részösszeg</td><td>6</td></tr>",
                            "<tr><td>131</td><td>2016</td><td>4</td></tr>",
                            "<tr><td>131</td><td>2017</td><td>1</td></tr>",
                            "<tr><td>131</td><td>Részösszeg</td><td>5</td></tr>",
                            "<tr><td>132</td><td>2016</td><td>5</td></tr>",
                            "<tr><td>132</td><td>2017</td><td>1</td></tr>",
                            "<tr><td>132</td><td>Részösszeg</td><td>6</td></tr>",
                            "<tr><td>133</td><td>2016</td><td>5</td></tr>",
                            "<tr><td>133</td><td>2017</td><td>1</td></tr>",
                            "<tr><td>133</td><td>Részösszeg</td><td>6</td></tr>",
                            "<tr><td>134</td><td>2016</td><td>5</td></tr>",
                            "<tr><td>134</td><td>2017</td><td>1</td></tr>",
                            "<tr><td>134</td><td>Részösszeg</td><td>6</td></tr>",
                            "<tr><td>135</td><td>2016</td><td>3</td></tr>",
                            "<tr><td>135</td><td>Részösszeg</td><td>3</td></tr>",
                            "<tr><td>136</td><td>2016</td><td>3</td></tr>",
                            "<tr><td>136</td><td>Részösszeg</td><td>3</td></tr>",
                            "<tr><td>137</td><td>2016</td><td>6</td></tr>",
                            "<tr><td>137</td><td>Részösszeg</td><td>6</td></tr>",
                            "<tr><td>138</td><td>2016</td><td>7</td></tr>",
                            "<tr><td>138</td><td>Részösszeg</td><td>7</td></tr>",
                            "<tr><td>139</td><td>2016</td><td>5</td></tr>",
                            "<tr><td>139</td><td>2017</td><td>2</td></tr>",
                            "<tr><td>139</td><td>Részösszeg</td><td>7</td></tr>",
                            "<tr><td>140</td><td>2016</td><td>8</td></tr>",
                            "<tr><td>140</td><td>Részösszeg</td><td>8</td></tr>",
                            "<tr><td>141</td><td>2016</td><td>6</td></tr>",
                            "<tr><td>141</td><td>Részösszeg</td><td>6</td></tr>",
                            "<tr><td>142</td><td>2016</td><td>1</td></tr>",
                            "<tr><td>142</td><td>2017</td><td>1</td></tr>",
                            "<tr><td>142</td><td>Részösszeg</td><td>2</td></tr>",
                            "<tr><td>143</td><td>2016</td><td>6</td></tr>",
                            "<tr><td>143</td><td>2017</td><td>1</td></tr>",
                            "<tr><td>143</td><td>Részösszeg</td><td>7</td></tr>",
                            "<tr><td>144</td><td>2016</td><td>4</td></tr>",
                            "<tr><td>144</td><td>2017</td><td>1</td></tr>",
                            "<tr><td>144</td><td>Részösszeg</td><td>5</td></tr>",
                            "<tr><td>145</td><td>2016</td><td>5</td></tr>",
                            "<tr><td>145</td><td>2017</td><td>1</td></tr>",
                            "<tr><td>145</td><td>Részösszeg</td><td>6</td></tr>",
                            "<tr><td>146</td><td>2016</td><td>5</td></tr>",
                            "<tr><td>146</td><td>2017</td><td>1</td></tr>",
                            "<tr><td>146</td><td>Részösszeg</td><td>6</td></tr>",
                            "<tr><td>147</td><td>2016</td><td>1</td></tr>",
                            "<tr><td>147</td><td>Részösszeg</td><td>1</td></tr>",
                            "<tr><td>148</td><td>2016</td><td>5</td></tr>",
                            "<tr><td>148</td><td>2017</td><td>1</td></tr>",
                            "<tr><td>148</td><td>Részösszeg</td><td>6</td></tr>",
                            "<tr><td>149</td><td>2016</td><td>6</td></tr>",
                            "<tr><td>149</td><td>2017</td><td>1</td></tr>",
                            "<tr><td>149</td><td>Részösszeg</td><td>7</td></tr>",
                            "<tr><td>150</td><td>2016</td><td>5</td></tr>",
                            "<tr><td>150</td><td>2017</td><td>1</td></tr>",
                            "<tr><td>150</td><td>Részösszeg</td><td>6</td></tr>",
                            "<tr><td>151</td><td>2016</td><td>3</td></tr>",
                            "<tr><td>151</td><td>Részösszeg</td><td>3</td></tr>",
                            "<tr><td>152</td><td>2016</td><td>3</td></tr>",
                            "<tr><td>152</td><td>2017</td><td>1</td></tr>",
                            "<tr><td>152</td><td>Részösszeg</td><td>4</td></tr>",
                            "<tr><td>153</td><td>2016</td><td>2</td></tr>",
                            "<tr><td>153</td><td>2017</td><td>3</td></tr>",
                            "<tr><td>153</td><td>Részösszeg</td><td>5</td></tr>",
                            "<tr><td>154</td><td>2016</td><td>4</td></tr>",
                            "<tr><td>154</td><td>2017</td><td>1</td></tr>",
                            "<tr><td>154</td><td>Részösszeg</td><td>5</td></tr>",
                            "<tr><td>155</td><td>2016</td><td>4</td></tr>",
                            "<tr><td>155</td><td>2017</td><td>1</td></tr>",
                            "<tr><td>155</td><td>Részösszeg</td><td>5</td></tr>",
                            "<tr><td>156</td><td>2016</td><td>4</td></tr>",
                            "<tr><td>156</td><td>2017</td><td>3</td></tr>",
                            "<tr><td>156</td><td>Részösszeg</td><td>7</td></tr>",
                            "<tr><td>157</td><td>2016</td><td>4</td></tr>",
                            "<tr><td>157</td><td>2017</td><td>1</td></tr>",
                            "<tr><td>157</td><td>Részösszeg</td><td>5</td></tr>",
                            "<tr><td>158</td><td>2016</td><td>3</td></tr>",
                            "<tr><td>158</td><td>Részösszeg</td><td>3</td></tr>",
                            "<tr><td>160</td><td>2016</td><td>4</td></tr>",
                            "<tr><td>160</td><td>2017</td><td>1</td></tr>",
                            "<tr><td>160</td><td>Részösszeg</td><td>5</td></tr>",
                            "<tr><td>161</td><td>2016</td><td>5</td></tr>",
                            "<tr><td>161</td><td>2017</td><td>1</td></tr>",
                            "<tr><td>161</td><td>Részösszeg</td><td>6</td></tr>",
                            "<tr><td>162</td><td>2016</td><td>3</td></tr>",
                            "<tr><td>162</td><td>Részösszeg</td><td>3</td></tr>",
                            "<tr><td>163</td><td>2016</td><td>6</td></tr>",
                            "<tr><td>163</td><td>2017</td><td>1</td></tr>",
                            "<tr><td>163</td><td>Részösszeg</td><td>7</td></tr>",
                            "<tr><td>164</td><td>2016</td><td>5</td></tr>",
                            "<tr><td>164</td><td>Részösszeg</td><td>5</td></tr>",
                            "<tr><td>165</td><td>2016</td><td>7</td></tr>",
                            "<tr><td>165</td><td>Részösszeg</td><td>7</td></tr>",
                            "<tr><td>166</td><td>2016</td><td>2</td></tr>",
                            "<tr><td>166</td><td>2017</td><td>1</td></tr>",
                            "<tr><td>166</td><td>Részösszeg</td><td>3</td></tr>",
                            "<tr><td>167</td><td>2016</td><td>1</td></tr>",
                            "<tr><td>167</td><td>2017</td><td>1</td></tr>",
                            "<tr><td>167</td><td>Részösszeg</td><td>2</td></tr>",
                            "<tr><td>168</td><td>2016</td><td>5</td></tr>",
                            "<tr><td>168</td><td>Részösszeg</td><td>5</td></tr>",
                            "<tr><td>169</td><td>2016</td><td>5</td></tr>",
                            "<tr><td>169</td><td>2017</td><td>1</td></tr>",
                            "<tr><td>169</td><td>Részösszeg</td><td>6</td></tr>",
                            "<tr><td>170</td><td>2016</td><td>5</td></tr>",
                            "<tr><td>170</td><td>Részösszeg</td><td>5</td></tr>",
                            "<tr><td>171</td><td>2016</td><td>4</td></tr>",
                            "<tr><td>171</td><td>2017</td><td>1</td></tr>",
                            "<tr><td>171</td><td>Részösszeg</td><td>5</td></tr>",
                            "<tr><td>172</td><td>2016</td><td>7</td></tr>",
                            "<tr><td>172</td><td>2017</td><td>2</td></tr>",
                            "<tr><td>172</td><td>Részösszeg</td><td>9</td></tr>",
                            "<tr><td>173</td><td>2016</td><td>3</td></tr>",
                            "<tr><td>173</td><td>2017</td><td>1</td></tr>",
                            "<tr><td>173</td><td>Részösszeg</td><td>4</td></tr>",
                            "<tr><td>174</td><td>2016</td><td>4</td></tr>",
                            "<tr><td>174</td><td>Részösszeg</td><td>4</td></tr>",
                            "<tr><td>175</td><td>2016</td><td>5</td></tr>",
                            "<tr><td>175</td><td>Részösszeg</td><td>5</td></tr>",
                            "<tr><td>176</td><td>2016</td><td>4</td></tr>",
                            "<tr><td>176</td><td>2017</td><td>2</td></tr>",
                            "<tr><td>176</td><td>Részösszeg</td><td>6</td></tr>",
                            "<tr><td>177</td><td>2016</td><td>3</td></tr>",
                            "<tr><td>177</td><td>2017</td><td>1</td></tr>",
                            "<tr><td>177</td><td>Részösszeg</td><td>4</td></tr>",
                            "<tr><td>178</td><td>2016</td><td>4</td></tr>",
                            "<tr><td>178</td><td>Részösszeg</td><td>4</td></tr>",
                            "<tr><td>179</td><td>2016</td><td>2</td></tr>",
                            "<tr><td>179</td><td>2017</td><td>1</td></tr>",
                            "<tr><td>179</td><td>Részösszeg</td><td>3</td></tr>",
                            "<tr><td>180</td><td>2016</td><td>1</td></tr>",
                            "<tr><td>180</td><td>2017</td><td>2</td></tr>",
                            "<tr><td>180</td><td>Részösszeg</td><td>3</td></tr>",
                            "<tr><td>181</td><td>2016</td><td>6</td></tr>",
                            "<tr><td>181</td><td>Részösszeg</td><td>6</td></tr>",
                            "<tr><td>182</td><td>2016</td><td>10</td></tr>",
                            "<tr><td>182</td><td>2017</td><td>2</td></tr>",
                            "<tr><td>182</td><td>Részösszeg</td><td>12</td></tr>",
                            "<tr><td>183</td><td>2016</td><td>3</td></tr>",
                            "<tr><td>183</td><td>2017</td><td>1</td></tr>",
                            "<tr><td>183</td><td>Részösszeg</td><td>4</td></tr>",
                            "<tr><td>184</td><td>2016</td><td>4</td></tr>",
                            "<tr><td>184</td><td>Részösszeg</td><td>4</td></tr>",
                            "<tr><td>185</td><td>2016</td><td>10</td></tr>",
                            "<tr><td>185</td><td>2017</td><td>2</td></tr>",
                            "<tr><td>185</td><td>Részösszeg</td><td>12</td></tr>",
                            "<tr><td>186</td><td>2016</td><td>3</td></tr>",
                            "<tr><td>186</td><td>2017</td><td>1</td></tr>",
                            "<tr><td>186</td><td>Részösszeg</td><td>4</td></tr>",
                            "<tr><td>187</td><td>2016</td><td>7</td></tr>",
                            "<tr><td>187</td><td>Részösszeg</td><td>7</td></tr>",
                            "<tr><td>188</td><td>2016</td><td>6</td></tr>",
                            "<tr><td>188</td><td>Részösszeg</td><td>6</td></tr>",
                            "<tr><td>189</td><td>2016</td><td>3</td></tr>",
                            "<tr><td>189</td><td>2017</td><td>2</td></tr>",
                            "<tr><td>189</td><td>Részösszeg</td><td>5</td></tr>",
                            "<tr><td>190</td><td>2016</td><td>4</td></tr>",
                            "<tr><td>190</td><td>2017</td><td>1</td></tr>",
                            "<tr><td>190</td><td>Részösszeg</td><td>5</td></tr>",
                            "<tr><td>191</td><td>2016</td><td>3</td></tr>",
                            "<tr><td>191</td><td>2017</td><td>2</td></tr>",
                            "<tr><td>191</td><td>Részösszeg</td><td>5</td></tr>",
                            "<tr><td>192</td><td>2016</td><td>2</td></tr>",
                            "<tr><td>192</td><td>Részösszeg</td><td>2</td></tr>",
                            "<tr><td>193</td><td>2016</td><td>7</td></tr>",
                            "<tr><td>193</td><td>Részösszeg</td><td>7</td></tr>",
                            "<tr><td>194</td><td>2016</td><td>1</td></tr>",
                            "<tr><td>194</td><td>Részösszeg</td><td>1</td></tr>",
                            "<tr><td>195</td><td>2016</td><td>4</td></tr>",
                            "<tr><td>195</td><td>2017</td><td>2</td></tr>",
                            "<tr><td>195</td><td>Részösszeg</td><td>6</td></tr>",
                            "<tr><td>196</td><td>2016</td><td>4</td></tr>",
                            "<tr><td>196</td><td>Részösszeg</td><td>4</td></tr>",
                            "<tr><td>197</td><td>2016</td><td>6</td></tr>",
                            "<tr><td>197</td><td>Részösszeg</td><td>6</td></tr>",
                            "<tr><td>198</td><td>2016</td><td>7</td></tr>",
                            "<tr><td>198</td><td>2017</td><td>1</td></tr>",
                            "<tr><td>198</td><td>Részösszeg</td><td>8</td></tr>",
                            "<tr><td>NULL</td><td>Összesen</td><td>1027</td></tr>",
                            "</table>"
                        ]
                    }
                }
            ],
            "execution_count": 1
        }
    ]
}