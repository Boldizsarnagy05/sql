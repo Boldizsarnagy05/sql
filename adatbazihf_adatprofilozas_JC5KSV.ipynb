{
    "metadata": {
        "kernelspec": {
            "name": "SQL",
            "display_name": "SQL",
            "language": "sql"
        },
        "language_info": {
            "name": "sql",
            "version": ""
        }
    },
    "nbformat_minor": 2,
    "nbformat": 4,
    "cells": [
        {
            "cell_type": "markdown",
            "source": [
                "Az alábbi lekérdezés megmutatja, hogy mikor történt a legkésőbb és legkorábbi szállítás valamint rendelés. Jól látható, hogy a legkorábbi rendelés hamarabb volt mint a legkorábbi szállítás és a legkésőbbi rendelesi szintén korábban volt mint a legkésőbbi szállítás."
            ],
            "metadata": {
                "azdata_cell_guid": "5fb7c10f-55d1-4c6b-85bc-6ad0398e651c"
            },
            "attachments": {}
        },
        {
            "cell_type": "code",
            "source": [
                "SELECT \r\n",
                "    MIN(REND_DATUM) AS Legkorabbi_rendeles, \r\n",
                "    MAX(REND_DATUM) AS Legkesobbi_rendeles,\r\n",
                "    MIN(SZALL_DATUM) AS Legkorabbi_szallitas,\r\n",
                "    MAX(SZALL_DATUM) AS Legkesobbi_szallitas,\r\n",
                "    count(distinct [LOGIN]) as Egyedi_azonositok_szama\r\n",
                "FROM dbo.Rendeles;\r\n",
                ""
            ],
            "metadata": {
                "azdata_cell_guid": "f259bd8d-9553-42c6-b3cb-da7cf2b751ef",
                "language": "sql"
            },
            "outputs": [
                {
                    "output_type": "display_data",
                    "data": {
                        "text/html": "(1 row affected)"
                    },
                    "metadata": {}
                },
                {
                    "output_type": "display_data",
                    "data": {
                        "text/html": "Total execution time: 00:00:00.044"
                    },
                    "metadata": {}
                },
                {
                    "output_type": "execute_result",
                    "execution_count": 24,
                    "data": {
                        "application/vnd.dataresource+json": {
                            "schema": {
                                "fields": [
                                    {
                                        "name": "Legkorabbi_rendeles"
                                    },
                                    {
                                        "name": "Legkesobbi_rendeles"
                                    },
                                    {
                                        "name": "Legkorabbi_szallitas"
                                    },
                                    {
                                        "name": "Legkesobbi_szallitas"
                                    },
                                    {
                                        "name": "Egyedi_azonositok_szama"
                                    }
                                ]
                            },
                            "data": [
                                {
                                    "Legkorabbi_rendeles": "2015-05-01",
                                    "Legkesobbi_rendeles": "2017-04-01",
                                    "Legkorabbi_szallitas": "2015-05-03",
                                    "Legkesobbi_szallitas": "2017-04-11",
                                    "Egyedi_azonositok_szama": "191"
                                }
                            ]
                        },
                        "text/html": "<table><tr><th>Legkorabbi_rendeles</th><th>Legkesobbi_rendeles</th><th>Legkorabbi_szallitas</th><th>Legkesobbi_szallitas</th><th>Egyedi_azonositok_szama</th></tr><tr><td>2015-05-01</td><td>2017-04-01</td><td>2015-05-03</td><td>2017-04-11</td><td>191</td></tr></table>"
                    },
                    "metadata": {}
                }
            ],
            "execution_count": 24
        },
        {
            "cell_type": "markdown",
            "source": [
                "Az alábbi lekérdezés megnézi, hogy a LOGIN, SZALL\\_CIM és SZAMLA\\_CIM oszlopokban mennyi nulla található. Látható, hogy az utóbbi kettő oszlopban a nullák aránya nagyon magas, ezzel szemben a LOGIN oszlopban mindenhol szerepel valamilyen érték."
            ],
            "metadata": {
                "azdata_cell_guid": "ce14047e-a6f2-4ed5-9eae-aeedb9f237f1"
            },
            "attachments": {}
        },
        {
            "cell_type": "code",
            "source": [
                "SELECT \r\n",
                "    'LOGIN' AS Vizsgalt_oszlopok, \r\n",
                "    COUNT(*) AS Osszes_sor, \r\n",
                "    SUM(CASE WHEN LOGIN IS NULL THEN 1 ELSE 0 END) AS Nullak_szama\r\n",
                "FROM dbo.Rendeles\r\n",
                "UNION ALL\r\n",
                "SELECT \r\n",
                "    'SZALL_CIM', COUNT(*),\r\n",
                "    SUM(CASE WHEN SZALL_CIM IS NULL THEN 1 ELSE 0 END)\r\n",
                "FROM dbo.Rendeles\r\n",
                "UNION ALL\r\n",
                "SELECT \r\n",
                "    'SZAMLA_CIM', COUNT(*),\r\n",
                "    SUM(CASE WHEN SZAMLA_CIM IS NULL THEN 1 ELSE 0 END)   \r\n",
                "FROM dbo.Rendeles"
            ],
            "metadata": {
                "azdata_cell_guid": "00605088-6134-4182-a939-c9c22208c7a3",
                "language": "sql"
            },
            "outputs": [
                {
                    "output_type": "display_data",
                    "data": {
                        "text/html": "(3 rows affected)"
                    },
                    "metadata": {}
                },
                {
                    "output_type": "display_data",
                    "data": {
                        "text/html": "Total execution time: 00:00:00.038"
                    },
                    "metadata": {}
                },
                {
                    "output_type": "execute_result",
                    "execution_count": 25,
                    "data": {
                        "application/vnd.dataresource+json": {
                            "schema": {
                                "fields": [
                                    {
                                        "name": "Vizsgalt_oszlopok"
                                    },
                                    {
                                        "name": "Osszes_sor"
                                    },
                                    {
                                        "name": "Nullak_szama"
                                    }
                                ]
                            },
                            "data": [
                                {
                                    "Vizsgalt_oszlopok": "LOGIN",
                                    "Osszes_sor": "28085",
                                    "Nullak_szama": "0"
                                },
                                {
                                    "Vizsgalt_oszlopok": "SZALL_CIM",
                                    "Osszes_sor": "28085",
                                    "Nullak_szama": "21689"
                                },
                                {
                                    "Vizsgalt_oszlopok": "SZAMLA_CIM",
                                    "Osszes_sor": "28085",
                                    "Nullak_szama": "25535"
                                }
                            ]
                        },
                        "text/html": "<table><tr><th>Vizsgalt_oszlopok</th><th>Osszes_sor</th><th>Nullak_szama</th></tr><tr><td>LOGIN</td><td>28085</td><td>0</td></tr><tr><td>SZALL_CIM</td><td>28085</td><td>21689</td></tr><tr><td>SZAMLA_CIM</td><td>28085</td><td>25535</td></tr></table>"
                    },
                    "metadata": {}
                }
            ],
            "execution_count": 25
        },
        {
            "cell_type": "markdown",
            "source": [
                "Rendelések száma hónaponként."
            ],
            "metadata": {
                "azdata_cell_guid": "93247a86-00c8-4c65-a574-4bc4957b3504"
            },
            "attachments": {}
        },
        {
            "cell_type": "code",
            "source": [
                "SELECT \r\n",
                "    YEAR(REND_DATUM) AS ev, \r\n",
                "    MONTH(REND_DATUM) AS honap, \r\n",
                "    COUNT(*) AS rendelesek_szama\r\n",
                "FROM dbo.Rendeles\r\n",
                "GROUP BY YEAR(REND_DATUM), MONTH(REND_DATUM)\r\n",
                "ORDER BY ev, honap;"
            ],
            "metadata": {
                "azdata_cell_guid": "2954e29b-7ada-4269-8e73-dc2f677757be",
                "language": "sql",
                "tags": []
            },
            "outputs": [
                {
                    "output_type": "display_data",
                    "data": {
                        "text/html": "(24 rows affected)"
                    },
                    "metadata": {}
                },
                {
                    "output_type": "display_data",
                    "data": {
                        "text/html": "Total execution time: 00:00:00.039"
                    },
                    "metadata": {}
                },
                {
                    "output_type": "execute_result",
                    "execution_count": 26,
                    "data": {
                        "application/vnd.dataresource+json": {
                            "schema": {
                                "fields": [
                                    {
                                        "name": "ev"
                                    },
                                    {
                                        "name": "honap"
                                    },
                                    {
                                        "name": "rendelesek_szama"
                                    }
                                ]
                            },
                            "data": [
                                {
                                    "ev": "2015",
                                    "honap": "5",
                                    "rendelesek_szama": "1203"
                                },
                                {
                                    "ev": "2015",
                                    "honap": "6",
                                    "rendelesek_szama": "1155"
                                },
                                {
                                    "ev": "2015",
                                    "honap": "7",
                                    "rendelesek_szama": "1235"
                                },
                                {
                                    "ev": "2015",
                                    "honap": "8",
                                    "rendelesek_szama": "1276"
                                },
                                {
                                    "ev": "2015",
                                    "honap": "9",
                                    "rendelesek_szama": "1207"
                                },
                                {
                                    "ev": "2015",
                                    "honap": "10",
                                    "rendelesek_szama": "1233"
                                },
                                {
                                    "ev": "2015",
                                    "honap": "11",
                                    "rendelesek_szama": "1178"
                                },
                                {
                                    "ev": "2015",
                                    "honap": "12",
                                    "rendelesek_szama": "1260"
                                },
                                {
                                    "ev": "2016",
                                    "honap": "1",
                                    "rendelesek_szama": "1226"
                                },
                                {
                                    "ev": "2016",
                                    "honap": "2",
                                    "rendelesek_szama": "1193"
                                },
                                {
                                    "ev": "2016",
                                    "honap": "3",
                                    "rendelesek_szama": "1274"
                                },
                                {
                                    "ev": "2016",
                                    "honap": "4",
                                    "rendelesek_szama": "1259"
                                },
                                {
                                    "ev": "2016",
                                    "honap": "5",
                                    "rendelesek_szama": "1218"
                                },
                                {
                                    "ev": "2016",
                                    "honap": "6",
                                    "rendelesek_szama": "1214"
                                },
                                {
                                    "ev": "2016",
                                    "honap": "7",
                                    "rendelesek_szama": "1209"
                                },
                                {
                                    "ev": "2016",
                                    "honap": "8",
                                    "rendelesek_szama": "1274"
                                },
                                {
                                    "ev": "2016",
                                    "honap": "9",
                                    "rendelesek_szama": "1192"
                                },
                                {
                                    "ev": "2016",
                                    "honap": "10",
                                    "rendelesek_szama": "1277"
                                },
                                {
                                    "ev": "2016",
                                    "honap": "11",
                                    "rendelesek_szama": "1210"
                                },
                                {
                                    "ev": "2016",
                                    "honap": "12",
                                    "rendelesek_szama": "1227"
                                },
                                {
                                    "ev": "2017",
                                    "honap": "1",
                                    "rendelesek_szama": "1204"
                                },
                                {
                                    "ev": "2017",
                                    "honap": "2",
                                    "rendelesek_szama": "1081"
                                },
                                {
                                    "ev": "2017",
                                    "honap": "3",
                                    "rendelesek_szama": "1242"
                                },
                                {
                                    "ev": "2017",
                                    "honap": "4",
                                    "rendelesek_szama": "38"
                                }
                            ]
                        },
                        "text/html": "<table><tr><th>ev</th><th>honap</th><th>rendelesek_szama</th></tr><tr><td>2015</td><td>5</td><td>1203</td></tr><tr><td>2015</td><td>6</td><td>1155</td></tr><tr><td>2015</td><td>7</td><td>1235</td></tr><tr><td>2015</td><td>8</td><td>1276</td></tr><tr><td>2015</td><td>9</td><td>1207</td></tr><tr><td>2015</td><td>10</td><td>1233</td></tr><tr><td>2015</td><td>11</td><td>1178</td></tr><tr><td>2015</td><td>12</td><td>1260</td></tr><tr><td>2016</td><td>1</td><td>1226</td></tr><tr><td>2016</td><td>2</td><td>1193</td></tr><tr><td>2016</td><td>3</td><td>1274</td></tr><tr><td>2016</td><td>4</td><td>1259</td></tr><tr><td>2016</td><td>5</td><td>1218</td></tr><tr><td>2016</td><td>6</td><td>1214</td></tr><tr><td>2016</td><td>7</td><td>1209</td></tr><tr><td>2016</td><td>8</td><td>1274</td></tr><tr><td>2016</td><td>9</td><td>1192</td></tr><tr><td>2016</td><td>10</td><td>1277</td></tr><tr><td>2016</td><td>11</td><td>1210</td></tr><tr><td>2016</td><td>12</td><td>1227</td></tr><tr><td>2017</td><td>1</td><td>1204</td></tr><tr><td>2017</td><td>2</td><td>1081</td></tr><tr><td>2017</td><td>3</td><td>1242</td></tr><tr><td>2017</td><td>4</td><td>38</td></tr></table>"
                    },
                    "metadata": {}
                }
            ],
            "execution_count": 26
        },
        {
            "cell_type": "markdown",
            "source": [
                "A 15 legtöbb rendelést kapó nap."
            ],
            "metadata": {
                "azdata_cell_guid": "bb985179-9b4c-4017-9359-3309bf4b41fd"
            },
            "attachments": {}
        },
        {
            "cell_type": "code",
            "source": [
                "SELECT top 15\r\n",
                "    REND_DATUM as rendelesi_nap, \r\n",
                "    COUNT(*) AS rendelesek_szama\r\n",
                "FROM dbo.Rendeles\r\n",
                "GROUP BY REND_DATUM\r\n",
                "ORDER BY rendelesek_szama DESC"
            ],
            "metadata": {
                "azdata_cell_guid": "60e452f0-f3e1-48cf-97b4-c3f8011d0597",
                "language": "sql"
            },
            "outputs": [
                {
                    "output_type": "display_data",
                    "data": {
                        "text/html": "(15 rows affected)"
                    },
                    "metadata": {}
                },
                {
                    "output_type": "display_data",
                    "data": {
                        "text/html": "Total execution time: 00:00:00.026"
                    },
                    "metadata": {}
                },
                {
                    "output_type": "execute_result",
                    "execution_count": 27,
                    "data": {
                        "application/vnd.dataresource+json": {
                            "schema": {
                                "fields": [
                                    {
                                        "name": "rendelesi_nap"
                                    },
                                    {
                                        "name": "rendelesek_szama"
                                    }
                                ]
                            },
                            "data": [
                                {
                                    "rendelesi_nap": "2015-12-02",
                                    "rendelesek_szama": "52"
                                },
                                {
                                    "rendelesi_nap": "2015-08-05",
                                    "rendelesek_szama": "50"
                                },
                                {
                                    "rendelesi_nap": "2016-04-19",
                                    "rendelesek_szama": "50"
                                },
                                {
                                    "rendelesi_nap": "2016-05-07",
                                    "rendelesek_szama": "50"
                                },
                                {
                                    "rendelesi_nap": "2015-07-26",
                                    "rendelesek_szama": "50"
                                },
                                {
                                    "rendelesi_nap": "2016-11-25",
                                    "rendelesek_szama": "49"
                                },
                                {
                                    "rendelesi_nap": "2015-09-11",
                                    "rendelesek_szama": "49"
                                },
                                {
                                    "rendelesi_nap": "2015-11-30",
                                    "rendelesek_szama": "49"
                                },
                                {
                                    "rendelesi_nap": "2015-10-10",
                                    "rendelesek_szama": "49"
                                },
                                {
                                    "rendelesi_nap": "2016-04-02",
                                    "rendelesek_szama": "49"
                                },
                                {
                                    "rendelesi_nap": "2015-07-28",
                                    "rendelesek_szama": "49"
                                },
                                {
                                    "rendelesi_nap": "2016-10-11",
                                    "rendelesek_szama": "49"
                                },
                                {
                                    "rendelesi_nap": "2015-12-30",
                                    "rendelesek_szama": "49"
                                },
                                {
                                    "rendelesi_nap": "2016-10-09",
                                    "rendelesek_szama": "49"
                                },
                                {
                                    "rendelesi_nap": "2015-08-20",
                                    "rendelesek_szama": "48"
                                }
                            ]
                        },
                        "text/html": "<table><tr><th>rendelesi_nap</th><th>rendelesek_szama</th></tr><tr><td>2015-12-02</td><td>52</td></tr><tr><td>2015-08-05</td><td>50</td></tr><tr><td>2016-04-19</td><td>50</td></tr><tr><td>2016-05-07</td><td>50</td></tr><tr><td>2015-07-26</td><td>50</td></tr><tr><td>2016-11-25</td><td>49</td></tr><tr><td>2015-09-11</td><td>49</td></tr><tr><td>2015-11-30</td><td>49</td></tr><tr><td>2015-10-10</td><td>49</td></tr><tr><td>2016-04-02</td><td>49</td></tr><tr><td>2015-07-28</td><td>49</td></tr><tr><td>2016-10-11</td><td>49</td></tr><tr><td>2015-12-30</td><td>49</td></tr><tr><td>2016-10-09</td><td>49</td></tr><tr><td>2015-08-20</td><td>48</td></tr></table>"
                    },
                    "metadata": {}
                }
            ],
            "execution_count": 27
        },
        {
            "cell_type": "markdown",
            "source": [
                "![](data:image/png;base64,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)"
            ],
            "metadata": {
                "azdata_cell_guid": "05da9f44-42e1-46d5-9d02-15900ad8ce24"
            },
            "attachments": {}
        },
        {
            "cell_type": "markdown",
            "source": [
                "Az alábbi lekérdezés és diagram jól szemlélteti a fizetési módok közötti megoszlást. Jól látható, hogy szinte egyenletes az eloszlás az értékek között (közel 1/3-hoz)."
            ],
            "metadata": {
                "azdata_cell_guid": "6f3ed331-02cc-44ca-a394-cfe12812a8a8"
            },
            "attachments": {}
        },
        {
            "cell_type": "code",
            "source": [
                "SELECT\r\n",
                "    SZALL_MOD AS szallitas_mod, \r\n",
                "    COUNT(*) darabszam,\r\n",
                "    CAST(ROUND((COUNT(*) * 100.0) / (SELECT COUNT(*) FROM dbo.Rendeles WHERE SZALL_MOD IS NOT NULL), 2) AS DECIMAL(5,2)) as szazalekos_megoszlas -- % formátumat nagyon csúnya volt ezért átalakítottam (round utána pl.: 33.7100000)\r\n",
                "from dbo.Rendeles\r\n",
                "WHERE SZALL_MOD IS NOT null\r\n",
                "GROUP BY SZALL_MOD\r\n",
                "ORDER BY COUNT(*) desc"
            ],
            "metadata": {
                "azdata_cell_guid": "9b73f84b-68e4-4bd6-9fd3-412a7029a95c",
                "language": "sql",
                "tags": []
            },
            "outputs": [
                {
                    "output_type": "display_data",
                    "data": {
                        "text/html": "(3 rows affected)"
                    },
                    "metadata": {}
                },
                {
                    "output_type": "display_data",
                    "data": {
                        "text/html": "Total execution time: 00:00:00.045"
                    },
                    "metadata": {}
                },
                {
                    "output_type": "execute_result",
                    "execution_count": 28,
                    "data": {
                        "application/vnd.dataresource+json": {
                            "schema": {
                                "fields": [
                                    {
                                        "name": "szallitas_mod"
                                    },
                                    {
                                        "name": "darabszam"
                                    },
                                    {
                                        "name": "szazalekos_megoszlas"
                                    }
                                ]
                            },
                            "data": [
                                {
                                    "szallitas_mod": "Személyes átvétel",
                                    "darabszam": "9468",
                                    "szazalekos_megoszlas": "33.71"
                                },
                                {
                                    "szallitas_mod": "GLS",
                                    "darabszam": "9426",
                                    "szazalekos_megoszlas": "33.56"
                                },
                                {
                                    "szallitas_mod": "Posta",
                                    "darabszam": "9191",
                                    "szazalekos_megoszlas": "32.73"
                                }
                            ]
                        },
                        "text/html": "<table><tr><th>szallitas_mod</th><th>darabszam</th><th>szazalekos_megoszlas</th></tr><tr><td>Személyes átvétel</td><td>9468</td><td>33.71</td></tr><tr><td>GLS</td><td>9426</td><td>33.56</td></tr><tr><td>Posta</td><td>9191</td><td>32.73</td></tr></table>"
                    },
                    "metadata": {}
                }
            ],
            "execution_count": 28
        }
    ]
}